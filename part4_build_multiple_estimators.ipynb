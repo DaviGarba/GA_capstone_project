{
 "cells": [
  {
   "cell_type": "markdown",
   "metadata": {},
   "source": [
    "# Part 4 Build Multiple Estimators\n",
    "Some of the steps we will take to build a model include:\n",
    "- Selecting the appropriate model\n",
    "- Building a model\n",
    "- Testing and training our model\n",
    "- Evaluating and refining our model"
   ]
  },
  {
   "cell_type": "code",
   "execution_count": 1,
   "metadata": {
    "collapsed": true
   },
   "outputs": [],
   "source": [
    "import pandas as pd\n",
    "import numpy as np"
   ]
  },
  {
   "cell_type": "markdown",
   "metadata": {},
   "source": [
    "### Loading the Training Dataset"
   ]
  },
  {
   "cell_type": "markdown",
   "metadata": {},
   "source": [
    "Training:\n",
    "- polarity : Target 2:positive, 1:neutral, 0:negative\n",
    "- words : preprocessed sentences\n",
    "- type : the tags of the words from lemmatizing "
   ]
  },
  {
   "cell_type": "code",
   "execution_count": 2,
   "metadata": {},
   "outputs": [
    {
     "data": {
      "text/html": [
       "<div>\n",
       "<style>\n",
       "    .dataframe thead tr:only-child th {\n",
       "        text-align: right;\n",
       "    }\n",
       "\n",
       "    .dataframe thead th {\n",
       "        text-align: left;\n",
       "    }\n",
       "\n",
       "    .dataframe tbody tr th {\n",
       "        vertical-align: top;\n",
       "    }\n",
       "</style>\n",
       "<table border=\"1\" class=\"dataframe\">\n",
       "  <thead>\n",
       "    <tr style=\"text-align: right;\">\n",
       "      <th></th>\n",
       "      <th>sentence</th>\n",
       "      <th>sentiment</th>\n",
       "      <th>lem_words</th>\n",
       "      <th>lem_tags</th>\n",
       "      <th>word_tags</th>\n",
       "    </tr>\n",
       "  </thead>\n",
       "  <tbody>\n",
       "    <tr>\n",
       "      <th>0</th>\n",
       "      <td>As many other reviewers noticed, your order is...</td>\n",
       "      <td>1</td>\n",
       "      <td>many other reviewer notice order be often slow...</td>\n",
       "      <td>JJ JJ NN VB NN VB RB JJ VB VB RB JJ NN VB RB N...</td>\n",
       "      <td>[many/JJ, other/JJ, reviewer/NN, notice/VB, or...</td>\n",
       "    </tr>\n",
       "    <tr>\n",
       "      <th>1</th>\n",
       "      <td>If only they delivered, they'd make a mint!</td>\n",
       "      <td>1</td>\n",
       "      <td>only deliver make mint</td>\n",
       "      <td>RB VB VB NN</td>\n",
       "      <td>[only/RB, deliver/VB, make/VB, mint/NN]</td>\n",
       "    </tr>\n",
       "    <tr>\n",
       "      <th>2</th>\n",
       "      <td>Food was very good, but not what I would consi...</td>\n",
       "      <td>1</td>\n",
       "      <td>food be very good not consider world</td>\n",
       "      <td>NN VB RB JJ RB VB NN</td>\n",
       "      <td>[food/NN, be/VB, very/RB, good/JJ, not/RB, con...</td>\n",
       "    </tr>\n",
       "    <tr>\n",
       "      <th>3</th>\n",
       "      <td>Of course, it is crowded but who cares.</td>\n",
       "      <td>1</td>\n",
       "      <td>course be crowd care</td>\n",
       "      <td>NN VB VB VB</td>\n",
       "      <td>[course/NN, be/VB, crowd/VB, care/VB]</td>\n",
       "    </tr>\n",
       "    <tr>\n",
       "      <th>4</th>\n",
       "      <td>Rao is a good restaurant, but it's nothing spe...</td>\n",
       "      <td>1</td>\n",
       "      <td>rao be good restaurant nothing special</td>\n",
       "      <td>NN VB JJ NN NN JJ</td>\n",
       "      <td>[rao/NN, be/VB, good/JJ, restaurant/NN, nothin...</td>\n",
       "    </tr>\n",
       "  </tbody>\n",
       "</table>\n",
       "</div>"
      ],
      "text/plain": [
       "                                            sentence  sentiment  \\\n",
       "0  As many other reviewers noticed, your order is...          1   \n",
       "1        If only they delivered, they'd make a mint!          1   \n",
       "2  Food was very good, but not what I would consi...          1   \n",
       "3            Of course, it is crowded but who cares.          1   \n",
       "4  Rao is a good restaurant, but it's nothing spe...          1   \n",
       "\n",
       "                                           lem_words  \\\n",
       "0  many other reviewer notice order be often slow...   \n",
       "1                             only deliver make mint   \n",
       "2               food be very good not consider world   \n",
       "3                               course be crowd care   \n",
       "4             rao be good restaurant nothing special   \n",
       "\n",
       "                                            lem_tags  \\\n",
       "0  JJ JJ NN VB NN VB RB JJ VB VB RB JJ NN VB RB N...   \n",
       "1                                        RB VB VB NN   \n",
       "2                               NN VB RB JJ RB VB NN   \n",
       "3                                        NN VB VB VB   \n",
       "4                                  NN VB JJ NN NN JJ   \n",
       "\n",
       "                                           word_tags  \n",
       "0  [many/JJ, other/JJ, reviewer/NN, notice/VB, or...  \n",
       "1            [only/RB, deliver/VB, make/VB, mint/NN]  \n",
       "2  [food/NN, be/VB, very/RB, good/JJ, not/RB, con...  \n",
       "3              [course/NN, be/VB, crowd/VB, care/VB]  \n",
       "4  [rao/NN, be/VB, good/JJ, restaurant/NN, nothin...  "
      ]
     },
     "execution_count": 2,
     "metadata": {},
     "output_type": "execute_result"
    }
   ],
   "source": [
    "training = pd.read_csv('./train_test_data/training_bs.csv', encoding='utf8')\n",
    "training.head()"
   ]
  },
  {
   "cell_type": "code",
   "execution_count": 8,
   "metadata": {
    "collapsed": true
   },
   "outputs": [],
   "source": [
    "X_train = training['lem_words']\n",
    "y_train = training['sentiment']"
   ]
  },
  {
   "cell_type": "markdown",
   "metadata": {},
   "source": [
    "## Basline Accuracy"
   ]
  },
  {
   "cell_type": "code",
   "execution_count": 9,
   "metadata": {
    "scrolled": true
   },
   "outputs": [
    {
     "name": "stdout",
     "output_type": "stream",
     "text": [
      "1    0.333333\n",
      "2    0.333333\n",
      "0    0.333333\n",
      "Name: sentiment, dtype: float64\n"
     ]
    }
   ],
   "source": [
    "print y_train.value_counts(normalize=True)\n",
    "baseline = 0.3"
   ]
  },
  {
   "cell_type": "markdown",
   "metadata": {},
   "source": [
    "## Feature Transformation for Training Data\n",
    "- random state to keep consistent\n"
   ]
  },
  {
   "cell_type": "code",
   "execution_count": 10,
   "metadata": {
    "collapsed": true
   },
   "outputs": [],
   "source": [
    "from sklearn.linear_model import LogisticRegression, LogisticRegressionCV\n",
    "from sklearn.model_selection import GridSearchCV, cross_val_score, cross_val_predict\n",
    "from sklearn.metrics import accuracy_score\n",
    "\n",
    "lr = LogisticRegression(random_state=1)"
   ]
  },
  {
   "cell_type": "markdown",
   "metadata": {},
   "source": [
    "## Count Vectorizer and Tfidf\n"
   ]
  },
  {
   "cell_type": "code",
   "execution_count": 11,
   "metadata": {},
   "outputs": [
    {
     "name": "stderr",
     "output_type": "stream",
     "text": [
      "/Users/annabopeep/anaconda2/lib/python2.7/site-packages/sklearn/feature_extraction/text.py:1089: FutureWarning: Conversion of the second argument of issubdtype from `float` to `np.floating` is deprecated. In future, it will be treated as `np.float64 == np.dtype(float).type`.\n",
      "  if hasattr(X, 'dtype') and np.issubdtype(X.dtype, np.float):\n"
     ]
    }
   ],
   "source": [
    "from sklearn.feature_extraction.text import CountVectorizer\n",
    "\n",
    "# initalise the vectoriser \n",
    "cvec = CountVectorizer()\n",
    "cvec.fit(X_train)\n",
    "#transform training data into sparse matrix\n",
    "X_train_cvec = cvec.transform(X_train)\n",
    "\n",
    "\n",
    "from sklearn.feature_extraction.text import TfidfVectorizer\n",
    "# initalise the vectoriser \n",
    "tvec = TfidfVectorizer()\n",
    "# fit the training data on the model\n",
    "tvec.fit(X_train)\n",
    "\n",
    "#transform training data into sparse matrix\n",
    "X_train_tvec = tvec.transform(X_train)\n"
   ]
  },
  {
   "cell_type": "markdown",
   "metadata": {},
   "source": [
    "# Finding an Estimator \n",
    "- Choosing an estimator which will perform at its optimum so can be tuned further.\n",
    "- using both vectorisers to see which ones work best with models"
   ]
  },
  {
   "cell_type": "code",
   "execution_count": 12,
   "metadata": {
    "collapsed": true
   },
   "outputs": [],
   "source": [
    "from sklearn.linear_model import LogisticRegression\n",
    "from sklearn.ensemble import RandomForestClassifier\n",
    "from sklearn.svm import SVC\n",
    "from sklearn.neighbors import KNeighborsClassifier\n",
    "from sklearn.naive_bayes import MultinomialNB\n",
    "from sklearn.linear_model import SGDClassifier\n",
    "\n",
    "from sklearn.metrics import confusion_matrix, accuracy_score, classification_report"
   ]
  },
  {
   "cell_type": "code",
   "execution_count": 104,
   "metadata": {},
   "outputs": [
    {
     "name": "stdout",
     "output_type": "stream",
     "text": [
      "LogisticRegression(C=1.0, class_weight=None, dual=False, fit_intercept=True,\n",
      "          intercept_scaling=1, max_iter=100, multi_class='ovr', n_jobs=1,\n",
      "          penalty='l2', random_state=None, solver='liblinear', tol=0.0001,\n",
      "          verbose=0, warm_start=False)\n",
      "count vectoriser: 0.9245961345310842\n",
      "tfidf vectoriser: 0.9091705543509209\n",
      "______________________________________________________________________\n",
      "RandomForestClassifier(bootstrap=True, class_weight=None, criterion='gini',\n",
      "            max_depth=None, max_features='auto', max_leaf_nodes=None,\n",
      "            min_impurity_decrease=0.0, min_impurity_split=None,\n",
      "            min_samples_leaf=1, min_samples_split=2,\n",
      "            min_weight_fraction_leaf=0.0, n_estimators=10, n_jobs=1,\n",
      "            oob_score=False, random_state=None, verbose=0,\n",
      "            warm_start=False)\n",
      "count vectoriser: 0.9350076189224622\n",
      "tfidf vectoriser: 0.9362529294522198\n",
      "______________________________________________________________________\n",
      "SGDClassifier(alpha=0.0001, average=False, class_weight=None, epsilon=0.1,\n",
      "       eta0=0.0, fit_intercept=True, l1_ratio=0.15,\n",
      "       learning_rate='optimal', loss='hinge', max_iter=5, n_iter=None,\n",
      "       n_jobs=1, penalty='l2', power_t=0.5, random_state=None,\n",
      "       shuffle=True, tol=None, verbose=0, warm_start=False)\n",
      "count vectoriser: 0.9262654138467267\n",
      "tfidf vectoriser: 0.9366831560799627\n",
      "______________________________________________________________________\n",
      "SVC(C=1.0, cache_size=200, class_weight=None, coef0=0.0,\n",
      "  decision_function_shape='ovr', degree=3, gamma='auto', kernel='rbf',\n",
      "  max_iter=-1, probability=False, random_state=None, shrinking=True,\n",
      "  tol=0.001, verbose=False)\n",
      "count vectoriser: 0.4703988435508246\n",
      "tfidf vectoriser: 0.6788366046201647\n",
      "______________________________________________________________________\n",
      "KNeighborsClassifier(algorithm='auto', leaf_size=30, metric='minkowski',\n",
      "           metric_params=None, n_jobs=1, n_neighbors=5, p=2,\n",
      "           weights='uniform')\n",
      "count vectoriser: 0.8191671438271083\n",
      "tfidf vectoriser: 0.8337588665796827\n",
      "______________________________________________________________________\n",
      "MultinomialNB(alpha=1.0, class_prior=None, fit_prior=True)\n",
      "count vectoriser: 0.879600687111036\n",
      "tfidf vectoriser: 0.8829267300586047\n",
      "______________________________________________________________________\n"
     ]
    }
   ],
   "source": [
    "models = [LogisticRegression(),\n",
    "          RandomForestClassifier(),\n",
    "          SGDClassifier(),\n",
    "          SVC(),\n",
    "          KNeighborsClassifier(), \n",
    "          MultinomialNB()\n",
    "          ]\n",
    "\n",
    "scores_cvec = []\n",
    "scores_tvec = []\n",
    "for model in models:\n",
    "    print model\n",
    "    \n",
    "    score_cvec = cross_val_score(model, X_train_cvec, y_train, cv=3).mean()\n",
    "    score_tvec = cross_val_score(model, X_train_tvec, y_train, cv=3).mean()\n",
    "    \n",
    "    print 'count vectoriser:', score_cvec\n",
    "    print 'tfidf vectoriser:', score_tvec\n",
    "    \n",
    "    \n",
    "    \n",
    "    scores_cvec.append(score_cvec)\n",
    "    scores_tvec.append(score_tvec)\n",
    "    print '_'*70\n",
    "    "
   ]
  },
  {
   "cell_type": "code",
   "execution_count": 112,
   "metadata": {
    "scrolled": false
   },
   "outputs": [
    {
     "data": {
      "text/html": [
       "<div>\n",
       "<style>\n",
       "    .dataframe thead tr:only-child th {\n",
       "        text-align: right;\n",
       "    }\n",
       "\n",
       "    .dataframe thead th {\n",
       "        text-align: left;\n",
       "    }\n",
       "\n",
       "    .dataframe tbody tr th {\n",
       "        vertical-align: top;\n",
       "    }\n",
       "</style>\n",
       "<table border=\"1\" class=\"dataframe\">\n",
       "  <thead>\n",
       "    <tr style=\"text-align: right;\">\n",
       "      <th></th>\n",
       "      <th>Model</th>\n",
       "      <th>scores_cvec</th>\n",
       "      <th>scores_tvec</th>\n",
       "    </tr>\n",
       "  </thead>\n",
       "  <tbody>\n",
       "    <tr>\n",
       "      <th>0</th>\n",
       "      <td>LogisticRegression</td>\n",
       "      <td>0.924596</td>\n",
       "      <td>0.909171</td>\n",
       "    </tr>\n",
       "    <tr>\n",
       "      <th>1</th>\n",
       "      <td>RandomForest</td>\n",
       "      <td>0.935008</td>\n",
       "      <td>0.936253</td>\n",
       "    </tr>\n",
       "    <tr>\n",
       "      <th>2</th>\n",
       "      <td>StochasticGradientDescent</td>\n",
       "      <td>0.926265</td>\n",
       "      <td>0.936683</td>\n",
       "    </tr>\n",
       "    <tr>\n",
       "      <th>3</th>\n",
       "      <td>SupportVectorMachine</td>\n",
       "      <td>0.470399</td>\n",
       "      <td>0.678837</td>\n",
       "    </tr>\n",
       "    <tr>\n",
       "      <th>4</th>\n",
       "      <td>KNeighbors</td>\n",
       "      <td>0.819167</td>\n",
       "      <td>0.833759</td>\n",
       "    </tr>\n",
       "    <tr>\n",
       "      <th>5</th>\n",
       "      <td>MultinomialNB</td>\n",
       "      <td>0.879601</td>\n",
       "      <td>0.882927</td>\n",
       "    </tr>\n",
       "  </tbody>\n",
       "</table>\n",
       "</div>"
      ],
      "text/plain": [
       "                       Model  scores_cvec  scores_tvec\n",
       "0         LogisticRegression     0.924596     0.909171\n",
       "1               RandomForest     0.935008     0.936253\n",
       "2  StochasticGradientDescent     0.926265     0.936683\n",
       "3       SupportVectorMachine     0.470399     0.678837\n",
       "4                 KNeighbors     0.819167     0.833759\n",
       "5              MultinomialNB     0.879601     0.882927"
      ]
     },
     "execution_count": 112,
     "metadata": {},
     "output_type": "execute_result"
    }
   ],
   "source": [
    "mod = ['LogisticRegression', 'RandomForest', 'StochasticGradientDescent', 'SupportVectorMachine', 'KNeighbors', 'MultinomialNB']\n",
    "mod_score = pd.DataFrame(zip(mod, scores_cvec, scores_tvec), columns = ['Model', 'scores_cvec', 'scores_tvec'])\n",
    "mod_score "
   ]
  },
  {
   "cell_type": "code",
   "execution_count": 113,
   "metadata": {},
   "outputs": [
    {
     "data": {
      "text/plain": [
       "0.3"
      ]
     },
     "execution_count": 113,
     "metadata": {},
     "output_type": "execute_result"
    }
   ],
   "source": [
    "baseline"
   ]
  },
  {
   "cell_type": "code",
   "execution_count": 118,
   "metadata": {},
   "outputs": [
    {
     "data": {
      "image/png": "[encoded data removed]",
      "text/plain": [
       "<matplotlib.figure.Figure at 0x119feeed0>"
      ]
     },
     "metadata": {},
     "output_type": "display_data"
    }
   ],
   "source": [
    "import matplotlib.pyplot as plt\n",
    "import seaborn as sns\n",
    "\n",
    "sns.pointplot(x='Model', y='scores_cvec', data =mod_score, label = 'cvec')\n",
    "sns.pointplot(x='Model', y='scores_tvec', color='r' ,data =mod_score, label = 'tvec')\n",
    "sns.pointplot(x='Model', y= [baseline, baseline, baseline, baseline, baseline, baseline], color='g' ,data =mod_score, label = 'baseline')\n",
    "\n",
    "\n",
    "plt.ylabel('Accuracy Score')\n",
    "plt.xlabel('ngrams')\n",
    "plt.xticks(rotation=90)\n",
    "plt.title('Accuracy Scores of Different Models')\n",
    "plt.show()"
   ]
  },
  {
   "cell_type": "markdown",
   "metadata": {},
   "source": [
    "Chosen methods for \n",
    "\n",
    "Count Vectorizer - blue\n",
    "- Logistic Regression\n",
    "- Random Forest\n",
    "\n",
    "Tfidf - Red\n",
    "- Random Forest\n",
    "- SGDClassifier\n",
    "\n",
    "RandomForestClassifier\t0.935008\t0.936253 very close scores so both will be searched\n",
    " \n",
    "With limited time I have chosen a localised method to choose my classifier\n",
    "\n",
    " "
   ]
  },
  {
   "cell_type": "markdown",
   "metadata": {
    "collapsed": true
   },
   "source": [
    "# Tuning models with highest scores\n"
   ]
  },
  {
   "cell_type": "code",
   "execution_count": null,
   "metadata": {
    "collapsed": true
   },
   "outputs": [],
   "source": []
  },
  {
   "cell_type": "markdown",
   "metadata": {
    "collapsed": true
   },
   "source": [
    "# Pipline help!\n",
    "# Pipeline Hyperparameters\n",
    "## Count Vectorizer and LogReg\n",
    "### to perform gridsearch for optimal parameters\n",
    "\n",
    "- Different parameters work best in different combinations and different models. \n",
    "- gridseach will help us find the best ones for in combination for logistic regression\n",
    "\n",
    "from sklearn.pipeline import Pipeline\n",
    "from pprint import pprint\n",
    "from time import time\n",
    "\n",
    "pipeline = Pipeline([\n",
    "    ('vect', CountVectorizer()),\n",
    "    ('clf', LogisticRegression())\n",
    "    ])\n",
    "\n",
    "parameters = {'vect__max_df': (0.25, 0.5, 0.75, 1.0),\n",
    "          'vect__max_features': (None, 5000, 10000, 50000),\n",
    "          'vect__ngram_range': ((1, 1), (1, 2), (1,3), (1,4)), \n",
    "          'clf__penalty': ['l1','l2'],\n",
    "          'clf__solver':['liblinear'],\n",
    "          'clf__C': np.logspace(-10,10,21)\n",
    "         }\n",
    "\n",
    "# we define the gridsearchCV\n",
    "grid_search = GridSearchCV(pipeline, parameters, n_jobs=-1, verbose=1, cv=3)\n",
    "\n",
    "print(\"Performing grid search...\")\n",
    "print(\"pipeline:\", [name for name, _ in pipeline.steps])\n",
    "print(\"parameters:\")\n",
    "pprint(parameters)\n",
    "t0 = time()\n",
    "#### we fit it\n",
    "grid_search.fit(X_train, y_train)\n",
    "print(\"done in %0.3fs\" % (time() - t0))\n",
    "print\n",
    "\n",
    "# cross validation \n",
    "print 'Baseline:', baseline\n",
    "print 'Default Params:', cvec_score.mean()\n",
    "print(\"Best score: %0.3f\" % grid_search.best_score_)\n",
    "print(\"Best parameters set:\")\n",
    "\n",
    "#### get the best parameters\n",
    "best_parameters = grid_search.best_estimator_.get_params()\n",
    "for param_name in sorted(parameters.keys()):\n",
    "    print(\"\\t%s: %r\" % (param_name, best_parameters[param_name]))\n",
    "\n",
    "With limited time I have chosen a localised method to choose my classifier"
   ]
  },
  {
   "cell_type": "code",
   "execution_count": null,
   "metadata": {
    "collapsed": true
   },
   "outputs": [],
   "source": []
  },
  {
   "cell_type": "code",
   "execution_count": null,
   "metadata": {
    "collapsed": true
   },
   "outputs": [],
   "source": []
  },
  {
   "cell_type": "markdown",
   "metadata": {
    "collapsed": true
   },
   "source": [
    "### Notes for model! \n",
    "An example of a model statement might look like this:\n",
    "\"Completed a logistic regression using Statsmodels. Calculated the probability of a customer placing another order with the company.\"\n",
    "Here, we are using a logistic model because we are trying to determine the probability that a customer might place a return order, which is - at its heart - a classification problem.\n",
    "\n",
    "Share your technical findings with your fellow data scientists. Explain your goals, describe modeling choices, evaluate model performance, and discuss results. Data science reporting is technical, but don’t forget that you should tell a compelling story about your data.\n",
    "\n",
    "- **Requirements**: Summarize your goals and metrics for success, variables of interest, and removal of any outliers or data imputation. Your process description should be concise and relevant to your goals. Summarize statistical analysis, including model selection,  implementation, evaluation, and inference. Be convincing – justify all important decisions! Clearly label plots and visualizations. Include an Executive Summary.\n",
    "\n"
   ]
  },
  {
   "cell_type": "markdown",
   "metadata": {
    "collapsed": true
   },
   "source": [
    "#  null values \n",
    "I checked for null values when loading the cleaned training data and found 1 row. It was identified that the text of the review was one numeric value before the cleaning process. This must have been an empty value which was then saved into the csv "
   ]
  },
  {
   "cell_type": "code",
   "execution_count": null,
   "metadata": {
    "collapsed": true
   },
   "outputs": [],
   "source": []
  }
 ],
 "metadata": {
  "kernelspec": {
   "display_name": "Python 2",
   "language": "python",
   "name": "python2"
  },
  "language_info": {
   "codemirror_mode": {
    "name": "ipython",
    "version": 2
   },
   "file_extension": ".py",
   "mimetype": "text/x-python",
   "name": "python",
   "nbconvert_exporter": "python",
   "pygments_lexer": "ipython2",
   "version": "2.7.13"
  }
 },
 "nbformat": 4,
 "nbformat_minor": 2
}
