{
 "cells": [
  {
   "cell_type": "markdown",
   "metadata": {},
   "source": [
    "### Loading  Training and Testing Dataset"
   ]
  },
  {
   "cell_type": "code",
   "execution_count": 1,
   "metadata": {
    "collapsed": true
   },
   "outputs": [],
   "source": [
    "import pandas as pd\n",
    "import numpy as np\n",
    "from sklearn.model_selection import cross_val_score, cross_val_predict\n",
    "from sklearn import metrics"
   ]
  },
  {
   "cell_type": "markdown",
   "metadata": {},
   "source": [
    "Training and Testing:\n",
    "- polarity : Target 2:positive, 1:neutral, 0:negative\n",
    "- words : preprocessed sentences\n",
    "- type : the tags of the words from lemmatizing "
   ]
  },
  {
   "cell_type": "code",
   "execution_count": 74,
   "metadata": {
    "collapsed": true
   },
   "outputs": [],
   "source": [
    "training = pd.read_csv('./training_data/training_bs.csv')\n",
    "testing = pd.read_csv('./training_data/testing.csv')"
   ]
  },
  {
   "cell_type": "code",
   "execution_count": 3,
   "metadata": {},
   "outputs": [
    {
     "name": "stdout",
     "output_type": "stream",
     "text": [
      "polarity     0\n",
      "sentence     0\n",
      "lem_words    0\n",
      "lem_type     0\n",
      "dtype: int64\n"
     ]
    },
    {
     "data": {
      "text/html": [
       "<div>\n",
       "<style>\n",
       "    .dataframe thead tr:only-child th {\n",
       "        text-align: right;\n",
       "    }\n",
       "\n",
       "    .dataframe thead th {\n",
       "        text-align: left;\n",
       "    }\n",
       "\n",
       "    .dataframe tbody tr th {\n",
       "        vertical-align: top;\n",
       "    }\n",
       "</style>\n",
       "<table border=\"1\" class=\"dataframe\">\n",
       "  <thead>\n",
       "    <tr style=\"text-align: right;\">\n",
       "      <th></th>\n",
       "      <th>polarity</th>\n",
       "      <th>sentence</th>\n",
       "      <th>lem_words</th>\n",
       "      <th>lem_type</th>\n",
       "    </tr>\n",
       "  </thead>\n",
       "  <tbody>\n",
       "    <tr>\n",
       "      <th>0</th>\n",
       "      <td>1.0</td>\n",
       "      <td>those rolls were big, but not good and sashimi...</td>\n",
       "      <td>roll be big not good sashimi be not fresh</td>\n",
       "      <td>NN VB JJ RB JJ NN VB RB JJ</td>\n",
       "    </tr>\n",
       "    <tr>\n",
       "      <th>1</th>\n",
       "      <td>1.0</td>\n",
       "      <td>Service is average.</td>\n",
       "      <td>service be average</td>\n",
       "      <td>NN VB JJ</td>\n",
       "    </tr>\n",
       "    <tr>\n",
       "      <th>2</th>\n",
       "      <td>1.0</td>\n",
       "      <td>Food was very good, but not what I would consi...</td>\n",
       "      <td>food be very good not consider world</td>\n",
       "      <td>NN VB RB JJ RB VB NN</td>\n",
       "    </tr>\n",
       "    <tr>\n",
       "      <th>3</th>\n",
       "      <td>1.0</td>\n",
       "      <td>The service was friendly and the atmosphere wa...</td>\n",
       "      <td>service be friendly atmosphere be casual</td>\n",
       "      <td>NN VB JJ NN VB JJ</td>\n",
       "    </tr>\n",
       "    <tr>\n",
       "      <th>4</th>\n",
       "      <td>1.0</td>\n",
       "      <td>So close, but not good enough.</td>\n",
       "      <td>so close not good enough</td>\n",
       "      <td>RB JJ RB JJ JJ</td>\n",
       "    </tr>\n",
       "  </tbody>\n",
       "</table>\n",
       "</div>"
      ],
      "text/plain": [
       "   polarity                                           sentence  \\\n",
       "0       1.0  those rolls were big, but not good and sashimi...   \n",
       "1       1.0                                Service is average.   \n",
       "2       1.0  Food was very good, but not what I would consi...   \n",
       "3       1.0  The service was friendly and the atmosphere wa...   \n",
       "4       1.0                     So close, but not good enough.   \n",
       "\n",
       "                                   lem_words                    lem_type  \n",
       "0  roll be big not good sashimi be not fresh  NN VB JJ RB JJ NN VB RB JJ  \n",
       "1                         service be average                    NN VB JJ  \n",
       "2       food be very good not consider world        NN VB RB JJ RB VB NN  \n",
       "3   service be friendly atmosphere be casual           NN VB JJ NN VB JJ  \n",
       "4                   so close not good enough              RB JJ RB JJ JJ  "
      ]
     },
     "execution_count": 3,
     "metadata": {},
     "output_type": "execute_result"
    }
   ],
   "source": [
    "print training.isnull().sum()\n",
    "training.head()"
   ]
  },
  {
   "cell_type": "code",
   "execution_count": 4,
   "metadata": {},
   "outputs": [
    {
     "data": {
      "text/html": [
       "<div>\n",
       "<style>\n",
       "    .dataframe thead tr:only-child th {\n",
       "        text-align: right;\n",
       "    }\n",
       "\n",
       "    .dataframe thead th {\n",
       "        text-align: left;\n",
       "    }\n",
       "\n",
       "    .dataframe tbody tr th {\n",
       "        vertical-align: top;\n",
       "    }\n",
       "</style>\n",
       "<table border=\"1\" class=\"dataframe\">\n",
       "  <thead>\n",
       "    <tr style=\"text-align: right;\">\n",
       "      <th></th>\n",
       "      <th>polarity</th>\n",
       "      <th>sentence</th>\n",
       "      <th>lem_words</th>\n",
       "      <th>lem_type</th>\n",
       "    </tr>\n",
       "  </thead>\n",
       "  <tbody>\n",
       "    <tr>\n",
       "      <th>0</th>\n",
       "      <td>0.0</td>\n",
       "      <td>They refuse to seat parties of 3 or more on we...</td>\n",
       "      <td>refuse seat party more weekend</td>\n",
       "      <td>VB NN NN JJ NN</td>\n",
       "    </tr>\n",
       "    <tr>\n",
       "      <th>1</th>\n",
       "      <td>2.0</td>\n",
       "      <td>This is a nice pizza place with good selection...</td>\n",
       "      <td>be nice pizza place good selection thin crust ...</td>\n",
       "      <td>VB JJ NN NN JJ NN JJ NN NN VB NN NN</td>\n",
       "    </tr>\n",
       "    <tr>\n",
       "      <th>2</th>\n",
       "      <td>2.0</td>\n",
       "      <td>Indoor was very cozy and cute.</td>\n",
       "      <td>indoor be very cozy cute</td>\n",
       "      <td>JJ VB RB JJ JJ</td>\n",
       "    </tr>\n",
       "    <tr>\n",
       "      <th>3</th>\n",
       "      <td>2.0</td>\n",
       "      <td>The view is breathtaking the service is top no...</td>\n",
       "      <td>view be breathtaking service be top notch ambi...</td>\n",
       "      <td>NN VB JJ NN VB JJ NN NN VB JJ</td>\n",
       "    </tr>\n",
       "    <tr>\n",
       "      <th>4</th>\n",
       "      <td>2.0</td>\n",
       "      <td>This is a nice restaurant if you are looking f...</td>\n",
       "      <td>be nice restaurant be look good place host int...</td>\n",
       "      <td>VB JJ NN VB VB JJ NN NN JJ NN NN NN NN</td>\n",
       "    </tr>\n",
       "  </tbody>\n",
       "</table>\n",
       "</div>"
      ],
      "text/plain": [
       "   polarity                                           sentence  \\\n",
       "0       0.0  They refuse to seat parties of 3 or more on we...   \n",
       "1       2.0  This is a nice pizza place with good selection...   \n",
       "2       2.0                     Indoor was very cozy and cute.   \n",
       "3       2.0  The view is breathtaking the service is top no...   \n",
       "4       2.0  This is a nice restaurant if you are looking f...   \n",
       "\n",
       "                                           lem_words  \\\n",
       "0                     refuse seat party more weekend   \n",
       "1  be nice pizza place good selection thin crust ...   \n",
       "2                           indoor be very cozy cute   \n",
       "3  view be breathtaking service be top notch ambi...   \n",
       "4  be nice restaurant be look good place host int...   \n",
       "\n",
       "                                 lem_type  \n",
       "0                          VB NN NN JJ NN  \n",
       "1     VB JJ NN NN JJ NN JJ NN NN VB NN NN  \n",
       "2                          JJ VB RB JJ JJ  \n",
       "3           NN VB JJ NN VB JJ NN NN VB JJ  \n",
       "4  VB JJ NN VB VB JJ NN NN JJ NN NN NN NN  "
      ]
     },
     "execution_count": 4,
     "metadata": {},
     "output_type": "execute_result"
    }
   ],
   "source": [
    "testing.head()"
   ]
  },
  {
   "cell_type": "code",
   "execution_count": 5,
   "metadata": {},
   "outputs": [
    {
     "name": "stdout",
     "output_type": "stream",
     "text": [
      "(496,) (3000,)\n",
      "(496,) (3000,)\n"
     ]
    }
   ],
   "source": [
    "X_train = training['lem_words']\n",
    "y_train = training['polarity']\n",
    "\n",
    "X_test = testing['lem_words']\n",
    "y_test = testing['polarity']\n",
    "\n",
    "print X_test.shape, X_train.shape\n",
    "print y_test.shape, y_train.shape"
   ]
  },
  {
   "cell_type": "markdown",
   "metadata": {},
   "source": [
    "### Baseline Accuracy\n",
    "- The baseline accuracy is the proportion of the majority class. In this case '2' which is positive sentiment and so the baseline accuracy is 0.333556\n",
    "\n",
    "baseline_accuracy = majority class N / total N\n"
   ]
  },
  {
   "cell_type": "code",
   "execution_count": 6,
   "metadata": {},
   "outputs": [
    {
     "name": "stdout",
     "output_type": "stream",
     "text": [
      "0.0    0.333333\n",
      "2.0    0.333333\n",
      "1.0    0.333333\n",
      "Name: polarity, dtype: float64\n"
     ]
    }
   ],
   "source": [
    "print y_train.value_counts(normalize=True)\n",
    "baseline = 0.3\n"
   ]
  },
  {
   "cell_type": "markdown",
   "metadata": {},
   "source": [
    "## Feature Transformation for Training Data\n",
    "- Count Vectorizer and TFIDF Vectorizer are both are used to compare the best fitting thus, choosing which transformer is best aporopriate.\n",
    "- Logistic Regression is the classifier used to measure this. \n",
    "Logistic regression is a very fast classifier???\n"
   ]
  },
  {
   "cell_type": "code",
   "execution_count": 7,
   "metadata": {
    "collapsed": true
   },
   "outputs": [],
   "source": [
    "from sklearn.linear_model import LogisticRegression, LogisticRegressionCV\n",
    "from sklearn.model_selection import GridSearchCV, cross_val_score, cross_val_predict\n",
    "from sklearn.metrics import accuracy_score\n",
    "\n",
    "lr = LogisticRegression(random_state=1)"
   ]
  },
  {
   "cell_type": "code",
   "execution_count": 8,
   "metadata": {
    "collapsed": true
   },
   "outputs": [],
   "source": [
    "# import matplotlib.pyplot as plt\n",
    "# word_freq.plot(kind='hist',\n",
    "#             title='Number of words with a given number of appearances',\n",
    "#             fontsize=14)\n",
    "# plt.show()"
   ]
  },
  {
   "cell_type": "markdown",
   "metadata": {},
   "source": [
    "### TfIdF (term frequency inverse document frequency)"
   ]
  },
  {
   "cell_type": "markdown",
   "metadata": {},
   "source": [
    "TF-IDF (term frequency–inverse document frequency)is a calculation to transform words into numbers. It takes into account the frequecy of a word in a given document and the frequency between documents. So if a term is common in most documents it is supressed and rare words  are given more influence showing they are highly specific for a particular document. \n",
    "\n",
    "To break it down:\n",
    "Term Frequency: More frequent terms in a target article, the higher the score\n",
    "Inverse Document Frequency: The more common in other articles, the lower the score\n",
    "\n",
    "Mathematically, the importance increases proportionally to the number of times a word appears in the document but is offset by the frequency of the word in the corpus.\n",
    "\n",
    "TFcalculationformuala...\n",
    "$$\n",
    "\\mathrm{idf}(t, D) = 1+\\log\\left(\\frac{1+N_\\text{Documents}}{1+N_\\text{Documents that contain term}}\\right)\n",
    "$$\n",
    "\n",
    "\n",
    "$$\n",
    "\\text{tf-idf}(t,d,D) = \\mathrm{tf}(t,d) \\cdot \\mathrm{idf}(t, D)\n",
    "$$"
   ]
  },
  {
   "cell_type": "code",
   "execution_count": null,
   "metadata": {
    "collapsed": true
   },
   "outputs": [],
   "source": [
    "# BEFORE\n",
    "# X_test_tvec = tvec.transform(X_test)\n",
    "# fit with Logistic Regression\n",
    "# lr.fit(X_train_tvec, y_train)\n",
    "# # predict with LR\n",
    "# y_pred_tvec = lr.predict(X_test_tvec)\n",
    "# tvec_score  = accuracy_score(y_test, y_pred_tvec)"
   ]
  },
  {
   "cell_type": "code",
   "execution_count": 9,
   "metadata": {
    "scrolled": true
   },
   "outputs": [
    {
     "name": "stderr",
     "output_type": "stream",
     "text": [
      "/Users/annabopeep/anaconda2/lib/python2.7/site-packages/sklearn/feature_extraction/text.py:1089: FutureWarning: Conversion of the second argument of issubdtype from `float` to `np.floating` is deprecated. In future, it will be treated as `np.float64 == np.dtype(float).type`.\n",
      "  if hasattr(X, 'dtype') and np.issubdtype(X.dtype, np.float):\n"
     ]
    }
   ],
   "source": [
    "from sklearn.feature_extraction.text import TfidfVectorizer\n",
    "# initalise the vectoriser \n",
    "tvec = TfidfVectorizer()\n",
    "# fit the training data on the model\n",
    "tvec.fit(X_train)\n",
    "\n",
    "#transform training data into sparse matrix\n",
    "X_train_tvec = tvec.transform(X_train)\n",
    "\n",
    "# cross val score/ predict\n",
    "tvec_score = cross_val_score(lr, X_train_tvec, y_train, cv=4)"
   ]
  },
  {
   "cell_type": "markdown",
   "metadata": {},
   "source": [
    "\n",
    "### Count Vectorizer on Training"
   ]
  },
  {
   "cell_type": "code",
   "execution_count": 10,
   "metadata": {
    "collapsed": true
   },
   "outputs": [],
   "source": [
    "# this is what i did before!\n",
    "# fit on test too\n",
    "# X_test_cvec = cvec.transform(X_test)\n",
    "# # fit with Logistic Regression\n",
    "# lr.fit(X_train_cvec, y_train)\n",
    "# # predict with LR\n",
    "# y_pred_cvec = lr.predict(X_test_cvec)\n",
    "# cvec_score  = accuracy_score(y_test, y_pred_cvec)\n",
    "# cvec_"
   ]
  },
  {
   "cell_type": "code",
   "execution_count": 11,
   "metadata": {
    "collapsed": true
   },
   "outputs": [],
   "source": [
    "from sklearn.feature_extraction.text import CountVectorizer\n",
    "# initalise the vectoriser \n",
    "cvec = CountVectorizer()\n",
    "# fit the training data on the model\n",
    "cvec.fit(X_train)\n",
    "\n",
    "#transform training data into sparse matrix\n",
    "X_train_cvec = cvec.transform(X_train)\n",
    "\n",
    "# cross val score/ predict\n",
    "cvec_score = cross_val_score(lr, X_train_cvec, y_train, cv=3)"
   ]
  },
  {
   "cell_type": "markdown",
   "metadata": {},
   "source": [
    "We still have the same number of rows but the vectorization has converted every word, or what is believed to be a word, from our test data into a feature. This is like dummy coded variables for words except that we have counts rather than just occurances.???.... featured names of wueds frequency of the top highest words. "
   ]
  },
  {
   "cell_type": "markdown",
   "metadata": {},
   "source": [
    "#### COUNT VEC - Word Frequency \n",
    "matrix outputting the 10 most common words and how many times they appear \n",
    "- Feature matrix of word occurences \n",
    "- top 10 word most occuring words\n",
    "- most important words"
   ]
  },
  {
   "cell_type": "code",
   "execution_count": 12,
   "metadata": {},
   "outputs": [
    {
     "data": {
      "text/plain": [
       "be         3240\n",
       "not         919\n",
       "food        781\n",
       "good        498\n",
       "have        492\n",
       "service     454\n",
       "great       377\n",
       "place       321\n",
       "price       296\n",
       "do          270\n",
       "dtype: int64"
      ]
     },
     "execution_count": 12,
     "metadata": {},
     "output_type": "execute_result"
    }
   ],
   "source": [
    "df_cvec = pd.DataFrame(X_train_cvec.todense(),columns=cvec.get_feature_names())\n",
    "word_freq = df_cvec.sum(axis=0).sort_values(ascending=False)[:10]\n",
    "word_freq"
   ]
  },
  {
   "cell_type": "markdown",
   "metadata": {},
   "source": [
    "#### COUNT VEC - Zipf's law\n",
    "It state that \n",
    "In a corpus of text, any words frequency is inversely proportional to its rank in the frequency table. \n",
    "\n",
    "Thus the most frequent word will occur approximately twice as often as the second most frequent word, three times as often as the third most frequent word, etc.: the rank-frequency distribution is an inverse relation\n",
    "\n",
    "\n",
    "Unsurprisingly, the word frequencies for the collected works of Alexandre Dumas appear to follow the predictions made by Zipf’s law! In this blog post, I’ll show you how to use bash and R to perform this simple analysis.\n",
    "\n",
    "\n",
    "Plotting the word frequency distribution, we observe : what is thissssssssss? https://en.wikipedia.org/wiki/Zipf%27s_law "
   ]
  },
  {
   "cell_type": "markdown",
   "metadata": {},
   "source": [
    "### Comparing scores\n",
    "- Both vectorizers increased the accuracy\n",
    "- TFIFD has the highest so is the chosen Feature Transformer that I will be choosing for my test set \n",
    "\n",
    "Hyperparameters will also be tested for the transformer\n",
    "Both sparse matrices from the feature transformers (count vectoriser and TFIDF) \n"
   ]
  },
  {
   "cell_type": "code",
   "execution_count": 120,
   "metadata": {},
   "outputs": [
    {
     "name": "stdout",
     "output_type": "stream",
     "text": [
      "Count Vectorizer Score: 0.9333375291459124\n",
      "Tfidf Vectorizer Score: 0.9173333333333333\n"
     ]
    }
   ],
   "source": [
    "# print 'baseline:', baseline\n",
    "print 'Count Vectorizer Score:', cvec_score.mean()\n",
    "print 'Tfidf Vectorizer Score:', tvec_score.mean()"
   ]
  },
  {
   "cell_type": "code",
   "execution_count": 82,
   "metadata": {},
   "outputs": [
    {
     "name": "stdout",
     "output_type": "stream",
     "text": [
      "baseline: 0.333556\n",
      "count vectorizer score: 0.7923387096774194\n",
      "tfidf vectorizer score: 0.8125\n"
     ]
    }
   ],
   "source": [
    "print 'baseline:', baseline\n",
    "print 'count vectorizer score:', cvec_score\n",
    "print 'tfidf vectorizer score:', tvec_score"
   ]
  },
  {
   "cell_type": "markdown",
   "metadata": {},
   "source": [
    "# Tuning chosen methods"
   ]
  },
  {
   "cell_type": "markdown",
   "metadata": {},
   "source": [
    "## Count Vectorizer Parameters\n",
    "- preprocessing cleaning step, removes stopwords, lowercasing"
   ]
  },
  {
   "cell_type": "code",
   "execution_count": 23,
   "metadata": {},
   "outputs": [
    {
     "name": "stdout",
     "output_type": "stream",
     "text": [
      "Baseline: 0.3\n",
      "Default Params: 0.9173333333333333\n",
      "Optimal Params: 0.8044354838709677\n",
      "Number of features: 1478\n",
      "Baseline: 0.3\n",
      "Default Params: 0.9333375291459124\n",
      "Optimal Params: 0.9176711641781502\n",
      "Number of features: 1478\n"
     ]
    }
   ],
   "source": []
  },
  {
   "cell_type": "code",
   "execution_count": 119,
   "metadata": {},
   "outputs": [
    {
     "name": "stdout",
     "output_type": "stream",
     "text": [
      "Baseline: 0.3\n",
      "Default Params: 0.9333375291459124\n",
      "Optimal Params: 0.9449938960917006\n",
      "Number of features: 16119\n"
     ]
    }
   ],
   "source": [
    "\n",
    "cvec = CountVectorizer(ngram_range=(1,5)) \n",
    "\n",
    "cvec.fit(X_train)\n",
    "\n",
    "X_train_mat = cvec.transform(X_train)\n",
    "\n",
    "# cross val score/ predict\n",
    "cvec_score = cross_val_score(lr, X_train_cvec, y_train, cv=3)\n",
    "\n",
    "# cross validation \n",
    "print 'Baseline:', baseline\n",
    "print 'Default Params:', cvec_score.mean()\n",
    "print 'Optimal Params:', cross_val_score(lr, X_train_mat, y_train, cv=3).mean()\n",
    "print \"Number of features:\", len(cvec.get_feature_names())"
   ]
  },
  {
   "cell_type": "markdown",
   "metadata": {
    "collapsed": true
   },
   "source": [
    " in theory the more/less max features???? show compare write"
   ]
  },
  {
   "cell_type": "markdown",
   "metadata": {},
   "source": [
    "# Finding an Estimator\n",
    "- Choosing an estimator which will perform at its optimum so can be tuned further."
   ]
  },
  {
   "cell_type": "code",
   "execution_count": 121,
   "metadata": {
    "collapsed": true
   },
   "outputs": [],
   "source": [
    "from sklearn.linear_model import LogisticRegression\n",
    "from sklearn.ensemble import RandomForestClassifier\n",
    "from sklearn.svm import SVC\n",
    "from sklearn.neighbors import KNeighborsClassifier\n",
    "from sklearn.naive_bayes import MultinomialNB\n",
    "from sklearn.linear_model import SGDClassifier\n",
    "\n",
    "from sklearn.metrics import confusion_matrix, accuracy_score, classification_report"
   ]
  },
  {
   "cell_type": "code",
   "execution_count": 127,
   "metadata": {},
   "outputs": [
    {
     "name": "stdout",
     "output_type": "stream",
     "text": [
      "LogisticRegression(C=1.0, class_weight=None, dual=False, fit_intercept=True,\n",
      "          intercept_scaling=1, max_iter=100, multi_class='ovr', n_jobs=1,\n",
      "          penalty='l2', random_state=None, solver='liblinear', tol=0.0001,\n",
      "          verbose=0, warm_start=False)\n",
      "0.9449938960917006\n",
      "______________________________________________________________________\n",
      "RandomForestClassifier(bootstrap=True, class_weight=None, criterion='gini',\n",
      "            max_depth=None, max_features='auto', max_leaf_nodes=None,\n",
      "            min_impurity_decrease=0.0, min_impurity_split=None,\n",
      "            min_samples_leaf=1, min_samples_split=2,\n",
      "            min_weight_fraction_leaf=0.0, n_estimators=10, n_jobs=1,\n",
      "            oob_score=False, random_state=None, verbose=0,\n",
      "            warm_start=False)\n",
      "0.9423325521129913\n",
      "______________________________________________________________________\n",
      "SVC(C=1.0, cache_size=200, class_weight=None, coef0=0.0,\n",
      "  decision_function_shape='ovr', degree=3, gamma='auto', kernel='rbf',\n",
      "  max_iter=-1, probability=False, random_state=None, shrinking=True,\n",
      "  tol=0.001, verbose=False)\n",
      "0.4830079580578583\n",
      "______________________________________________________________________\n",
      "KNeighborsClassifier(algorithm='auto', leaf_size=30, metric='minkowski',\n",
      "           metric_params=None, n_jobs=1, n_neighbors=5, p=2,\n",
      "           weights='uniform')\n",
      "0.8186639733545921\n",
      "______________________________________________________________________\n",
      "MultinomialNB(alpha=1.0, class_prior=None, fit_prior=True)\n",
      "0.9316701931472391\n",
      "______________________________________________________________________\n",
      "SGDClassifier(alpha=0.0001, average=False, class_weight=None, epsilon=0.1,\n",
      "       eta0=0.0, fit_intercept=True, l1_ratio=0.15,\n",
      "       learning_rate='optimal', loss='hinge', max_iter=5, n_iter=None,\n",
      "       n_jobs=1, penalty='l2', power_t=0.5, random_state=None,\n",
      "       shuffle=True, tol=None, verbose=0, warm_start=False)\n",
      "0.9273365181548815\n",
      "______________________________________________________________________\n"
     ]
    }
   ],
   "source": [
    "models = [LogisticRegression(),\n",
    "          RandomForestClassifier(),\n",
    "          SVC(),\n",
    "          KNeighborsClassifier(), \n",
    "          MultinomialNB(), \n",
    "          SGDClassifier()]\n",
    "\n",
    "for model in models:\n",
    "    print model\n",
    "    \n",
    "    print cross_val_score(model, X_train_mat, y_train, cv=3).mean()\n",
    "    print '_'*70\n",
    "    \n",
    "\n",
    "score = []\n",
    "for model in models:\n",
    "    score.append(cross_val_score(model, X_train_mat, y_train, cv=3).mean())"
   ]
  },
  {
   "cell_type": "code",
   "execution_count": 133,
   "metadata": {},
   "outputs": [
    {
     "data": {
      "text/html": [
       "<div>\n",
       "<style>\n",
       "    .dataframe thead tr:only-child th {\n",
       "        text-align: right;\n",
       "    }\n",
       "\n",
       "    .dataframe thead th {\n",
       "        text-align: left;\n",
       "    }\n",
       "\n",
       "    .dataframe tbody tr th {\n",
       "        vertical-align: top;\n",
       "    }\n",
       "</style>\n",
       "<table border=\"1\" class=\"dataframe\">\n",
       "  <thead>\n",
       "    <tr style=\"text-align: right;\">\n",
       "      <th></th>\n",
       "      <th>Model</th>\n",
       "      <th>Score</th>\n",
       "    </tr>\n",
       "  </thead>\n",
       "  <tbody>\n",
       "    <tr>\n",
       "      <th>0</th>\n",
       "      <td>LogisticRegression</td>\n",
       "      <td>0.944994</td>\n",
       "    </tr>\n",
       "    <tr>\n",
       "      <th>1</th>\n",
       "      <td>RandomForestClassifier</td>\n",
       "      <td>0.939670</td>\n",
       "    </tr>\n",
       "    <tr>\n",
       "      <th>2</th>\n",
       "      <td>SVC</td>\n",
       "      <td>0.483008</td>\n",
       "    </tr>\n",
       "    <tr>\n",
       "      <th>3</th>\n",
       "      <td>KNeighborsClassifier</td>\n",
       "      <td>0.818664</td>\n",
       "    </tr>\n",
       "    <tr>\n",
       "      <th>4</th>\n",
       "      <td>MultinomialNB</td>\n",
       "      <td>0.931670</td>\n",
       "    </tr>\n",
       "    <tr>\n",
       "      <th>5</th>\n",
       "      <td>SGDClassifier</td>\n",
       "      <td>0.940670</td>\n",
       "    </tr>\n",
       "  </tbody>\n",
       "</table>\n",
       "</div>"
      ],
      "text/plain": [
       "                    Model     Score\n",
       "0      LogisticRegression  0.944994\n",
       "1  RandomForestClassifier  0.939670\n",
       "2                     SVC  0.483008\n",
       "3    KNeighborsClassifier  0.818664\n",
       "4           MultinomialNB  0.931670\n",
       "5           SGDClassifier  0.940670"
      ]
     },
     "execution_count": 133,
     "metadata": {},
     "output_type": "execute_result"
    }
   ],
   "source": [
    "mod = ['LogisticRegression', 'RandomForestClassifier', 'SVC', 'KNeighborsClassifier', 'MultinomialNB', 'SGDClassifier']\n",
    "mod_score = pd.DataFrame(zip(mod, score), columns = ['Model', 'Score'])\n",
    "mod_score "
   ]
  },
  {
   "cell_type": "markdown",
   "metadata": {},
   "source": [
    "With limited time I have chosen a localised method to choose my classifier"
   ]
  },
  {
   "cell_type": "markdown",
   "metadata": {},
   "source": [
    "# Logistic Regression - GridSearchCV\n",
    "\n",
    "Grid Search CV Logistic Regression\n",
    "Logistic regression is a very fast classifier.\n",
    "I am using grid search to find best hyperparameters.\n"
   ]
  },
  {
   "cell_type": "code",
   "execution_count": 106,
   "metadata": {
    "collapsed": true
   },
   "outputs": [],
   "source": [
    "from sklearn.linear_model import LogisticRegression, LogisticRegressionCV\n",
    "from sklearn.model_selection import GridSearchCV, cross_val_score, cross_val_predict"
   ]
  },
  {
   "cell_type": "markdown",
   "metadata": {},
   "source": [
    "### Logistic Regression"
   ]
  },
  {
   "cell_type": "code",
   "execution_count": 123,
   "metadata": {
    "scrolled": true
   },
   "outputs": [
    {
     "name": "stdout",
     "output_type": "stream",
     "text": [
      "Fitting 5 folds for each of 42 candidates, totalling 210 fits\n"
     ]
    },
    {
     "name": "stderr",
     "output_type": "stream",
     "text": [
      "[Parallel(n_jobs=-1)]: Done 171 tasks      | elapsed:   13.1s\n",
      "[Parallel(n_jobs=-1)]: Done 210 out of 210 | elapsed:   18.3s finished\n"
     ]
    },
    {
     "name": "stdout",
     "output_type": "stream",
     "text": [
      "Best Score: 0.9573333333333334\n",
      "\n",
      "Best Params: {'penalty': 'l2', 'C': 1.0, 'solver': 'liblinear'}\n"
     ]
    }
   ],
   "source": [
    "lr = LogisticRegression(random_state=1)\n",
    "lr_params = {'penalty': ['l1','l2'],\n",
    "          'solver':['liblinear'],\n",
    "          'C': np.logspace(-10,10,21)}\n",
    "\n",
    "lr_grid = GridSearchCV(lr, param_grid=lr_params, cv=5, n_jobs=-1, verbose=1)\n",
    "\n",
    "# fit with the tranformed tfidf matrix as X\n",
    "lr_grid.fit(X_train_mat, y_train)\n",
    "\n",
    "print 'Best Score:', lr_grid.best_score_\n",
    "print\n",
    "# assign the best estimator to a variable:\n",
    "best_lr = lr_grid.best_estimator_\n",
    "print 'Best Params:', lr_grid.best_params_\n"
   ]
  },
  {
   "cell_type": "markdown",
   "metadata": {
    "collapsed": true
   },
   "source": [
    "l2 is ridgeeeeeeee\n",
    "- notes might help - Lasso was chosen: this indicates that maybe unimportant (noise) variables\n",
    "- is more of an issue in our data than multicollinearity."
   ]
  },
  {
   "cell_type": "markdown",
   "metadata": {},
   "source": [
    "# Evaluate on Test set"
   ]
  },
  {
   "cell_type": "code",
   "execution_count": 108,
   "metadata": {
    "collapsed": true
   },
   "outputs": [],
   "source": [
    "from sklearn.metrics import confusion_matrix\n",
    "from sklearn.metrics import accuracy_score, precision_score, recall_score, f1_score\n",
    "import itertools\n",
    "import matplotlib.pyplot as plt"
   ]
  },
  {
   "cell_type": "code",
   "execution_count": 109,
   "metadata": {},
   "outputs": [
    {
     "data": {
      "text/html": [
       "<div>\n",
       "<style>\n",
       "    .dataframe thead tr:only-child th {\n",
       "        text-align: right;\n",
       "    }\n",
       "\n",
       "    .dataframe thead th {\n",
       "        text-align: left;\n",
       "    }\n",
       "\n",
       "    .dataframe tbody tr th {\n",
       "        vertical-align: top;\n",
       "    }\n",
       "</style>\n",
       "<table border=\"1\" class=\"dataframe\">\n",
       "  <thead>\n",
       "    <tr style=\"text-align: right;\">\n",
       "      <th></th>\n",
       "      <th>polarity</th>\n",
       "      <th>sentence</th>\n",
       "      <th>lem_words</th>\n",
       "      <th>lem_type</th>\n",
       "    </tr>\n",
       "  </thead>\n",
       "  <tbody>\n",
       "    <tr>\n",
       "      <th>0</th>\n",
       "      <td>0.0</td>\n",
       "      <td>They refuse to seat parties of 3 or more on we...</td>\n",
       "      <td>refuse seat party more weekend</td>\n",
       "      <td>VB NN NN JJ NN</td>\n",
       "    </tr>\n",
       "    <tr>\n",
       "      <th>1</th>\n",
       "      <td>2.0</td>\n",
       "      <td>This is a nice pizza place with good selection...</td>\n",
       "      <td>be nice pizza place good selection thin crust ...</td>\n",
       "      <td>VB JJ NN NN JJ NN JJ NN NN VB NN NN</td>\n",
       "    </tr>\n",
       "    <tr>\n",
       "      <th>2</th>\n",
       "      <td>2.0</td>\n",
       "      <td>Indoor was very cozy and cute.</td>\n",
       "      <td>indoor be very cozy cute</td>\n",
       "      <td>JJ VB RB JJ JJ</td>\n",
       "    </tr>\n",
       "  </tbody>\n",
       "</table>\n",
       "</div>"
      ],
      "text/plain": [
       "   polarity                                           sentence  \\\n",
       "0       0.0  They refuse to seat parties of 3 or more on we...   \n",
       "1       2.0  This is a nice pizza place with good selection...   \n",
       "2       2.0                     Indoor was very cozy and cute.   \n",
       "\n",
       "                                           lem_words  \\\n",
       "0                     refuse seat party more weekend   \n",
       "1  be nice pizza place good selection thin crust ...   \n",
       "2                           indoor be very cozy cute   \n",
       "\n",
       "                              lem_type  \n",
       "0                       VB NN NN JJ NN  \n",
       "1  VB JJ NN NN JJ NN JJ NN NN VB NN NN  \n",
       "2                       JJ VB RB JJ JJ  "
      ]
     },
     "execution_count": 109,
     "metadata": {},
     "output_type": "execute_result"
    }
   ],
   "source": [
    "testing.head(3)"
   ]
  },
  {
   "cell_type": "code",
   "execution_count": 112,
   "metadata": {
    "collapsed": true
   },
   "outputs": [],
   "source": [
    "X_test = testing.lem_words\n",
    "y_test = testing['polarity']"
   ]
  },
  {
   "cell_type": "code",
   "execution_count": 113,
   "metadata": {},
   "outputs": [
    {
     "name": "stdout",
     "output_type": "stream",
     "text": [
      "best params on testing: 0.8145161290322581\n",
      "Number of classification errors: 164.0\n",
      "Total: 496\n"
     ]
    }
   ],
   "source": [
    "# transform with cvec and predict on best log reg\n",
    "X_test_mat = cvec.transform(X_test)\n",
    "y_pred = best_lr.predict(X_test_mat)\n",
    "\n",
    "print 'Best Model on testing:', accuracy_score(y_test, y_pred)\n",
    "print \"Number of classification errors:\", np.abs(y_pred - y_test).sum() \n",
    "print 'Total:', len(y_test)"
   ]
  },
  {
   "cell_type": "markdown",
   "metadata": {},
   "source": [
    "\n",
    "# Confusions matirix and Classification Report \n",
    "- I will evaluate my model through showing the accuracy"
   ]
  },
  {
   "cell_type": "code",
   "execution_count": 87,
   "metadata": {
    "collapsed": true
   },
   "outputs": [],
   "source": [
    "def plot_confusion_matrix(cm, classes,\n",
    "                          normalize=False,\n",
    "                          title='Confusion matrix',\n",
    "                          cmap=plt.cm.Blues):\n",
    "    \"\"\"\n",
    "    This function prints and plots the confusion matrix.\n",
    "    Normalization can be applied by setting `normalize=True`.\n",
    "    \"\"\"\n",
    "    if normalize:\n",
    "        cm = cm.astype('float') / cm.sum(axis=1)[:, np.newaxis]\n",
    "        print(\"Normalized confusion matrix\")\n",
    "    else:\n",
    "        print('Confusion matrix, without normalization')\n",
    "\n",
    "    print(cm)\n",
    "\n",
    "    plt.imshow(cm, interpolation='nearest', cmap=cmap)\n",
    "    plt.title(title)\n",
    "    plt.colorbar()\n",
    "    tick_marks = np.arange(len(classes))\n",
    "    plt.xticks(tick_marks, classes, rotation=45)\n",
    "    plt.yticks(tick_marks, classes)\n",
    "\n",
    "    fmt = '.2f' if normalize else 'd'\n",
    "    thresh = cm.max() / 2.\n",
    "    for i, j in itertools.product(range(cm.shape[0]), range(cm.shape[1])):\n",
    "        plt.text(j, i, format(cm[i, j], fmt),\n",
    "                 horizontalalignment=\"center\",\n",
    "                 color=\"white\" if cm[i, j] > thresh else \"black\")\n",
    "\n",
    "    plt.tight_layout()\n",
    "    plt.ylabel('True label')\n",
    "    plt.xlabel('Predicted label')"
   ]
  },
  {
   "cell_type": "code",
   "execution_count": 88,
   "metadata": {},
   "outputs": [
    {
     "data": {
      "text/html": [
       "<div>\n",
       "<style>\n",
       "    .dataframe thead tr:only-child th {\n",
       "        text-align: right;\n",
       "    }\n",
       "\n",
       "    .dataframe thead th {\n",
       "        text-align: left;\n",
       "    }\n",
       "\n",
       "    .dataframe tbody tr th {\n",
       "        vertical-align: top;\n",
       "    }\n",
       "</style>\n",
       "<table border=\"1\" class=\"dataframe\">\n",
       "  <thead>\n",
       "    <tr style=\"text-align: right;\">\n",
       "      <th></th>\n",
       "      <th>Pred_Negative</th>\n",
       "      <th>Pred_Neutral</th>\n",
       "      <th>Pred_Positive</th>\n",
       "    </tr>\n",
       "  </thead>\n",
       "  <tbody>\n",
       "    <tr>\n",
       "      <th>True_Negative</th>\n",
       "      <td>61</td>\n",
       "      <td>5</td>\n",
       "      <td>51</td>\n",
       "    </tr>\n",
       "    <tr>\n",
       "      <th>True_Neutral</th>\n",
       "      <td>2</td>\n",
       "      <td>2</td>\n",
       "      <td>10</td>\n",
       "    </tr>\n",
       "    <tr>\n",
       "      <th>True_Positive</th>\n",
       "      <td>30</td>\n",
       "      <td>2</td>\n",
       "      <td>333</td>\n",
       "    </tr>\n",
       "  </tbody>\n",
       "</table>\n",
       "</div>"
      ],
      "text/plain": [
       "               Pred_Negative  Pred_Neutral  Pred_Positive\n",
       "True_Negative             61             5             51\n",
       "True_Neutral               2             2             10\n",
       "True_Positive             30             2            333"
      ]
     },
     "execution_count": 88,
     "metadata": {},
     "output_type": "execute_result"
    }
   ],
   "source": [
    "# Compute confusion matrix\n",
    "cm = confusion_matrix(y_test,y_pred)\n",
    "confusion = pd.DataFrame(np.array(cm), index=['True_Negative', 'True_Neutral', 'True_Positive'], \n",
    "                         columns =['Pred_Negative', 'Pred_Neutral', 'Pred_Positive'])\n",
    "confusion"
   ]
  },
  {
   "cell_type": "code",
   "execution_count": 89,
   "metadata": {},
   "outputs": [
    {
     "name": "stdout",
     "output_type": "stream",
     "text": [
      "Confusion matrix, without normalization\n",
      "[[ 61   5  51]\n",
      " [  2   2  10]\n",
      " [ 30   2 333]]\n"
     ]
    },
    {
     "data": {
      "image/png": "[encoded data removed]",
      "text/plain": [
       "<matplotlib.figure.Figure at 0x119022550>"
      ]
     },
     "metadata": {},
     "output_type": "display_data"
    }
   ],
   "source": [
    "x_class = ['Negative', 'Neutral', 'Positive']\n",
    "np.set_printoptions(precision=2)\n",
    "\n",
    "# Plot non-normalized confusion matrix\n",
    "plot_confusion_matrix(cm, classes=x_class, title='Confusion matrix, without normalization')\n",
    "plt.show()"
   ]
  },
  {
   "cell_type": "code",
   "execution_count": 90,
   "metadata": {},
   "outputs": [
    {
     "name": "stdout",
     "output_type": "stream",
     "text": [
      "Normalized confusion matrix\n",
      "[[0.52 0.04 0.44]\n",
      " [0.14 0.14 0.71]\n",
      " [0.08 0.01 0.91]]\n"
     ]
    },
    {
     "data": {
      "image/png": "[encoded data removed]",
      "text/plain": [
       "<matplotlib.figure.Figure at 0x1191cff10>"
      ]
     },
     "metadata": {},
     "output_type": "display_data"
    }
   ],
   "source": [
    "# Plot normalized confusion matrix\n",
    "plot_confusion_matrix(cm, classes=x_class, normalize=True, title='Normalized confusion matrix')\n",
    "plt.show()"
   ]
  },
  {
   "cell_type": "markdown",
   "metadata": {},
   "source": [
    "http://scikit-learn.org/stable/auto_examples/model_selection/plot_confusion_matrix.html#sphx-glr-auto-examples-model-selection-plot-confusion-matrix-py\n",
    "https://medium.com/tech-vision/introduction-to-confusion-matrix-classification-modeling-54d867169906\n",
    "\n",
    "https://www.youtube.com/watch?v=FAr2GmWNbT0 \n",
    "- evaluate \n",
    "- TP TN FP FN??? \n",
    "- \n",
    "\n",
    "- Accuracy?????"
   ]
  },
  {
   "cell_type": "code",
   "execution_count": 91,
   "metadata": {},
   "outputs": [
    {
     "name": "stdout",
     "output_type": "stream",
     "text": [
      "             precision    recall  f1-score   support\n",
      "\n",
      "        0.0       0.66      0.52      0.58       117\n",
      "        1.0       0.22      0.14      0.17        14\n",
      "        2.0       0.85      0.91      0.88       365\n",
      "\n",
      "avg / total       0.78      0.80      0.79       496\n",
      "\n"
     ]
    }
   ],
   "source": [
    "print classification_report(y_test,y_pred)"
   ]
  },
  {
   "cell_type": "markdown",
   "metadata": {
    "collapsed": true
   },
   "source": [
    "- Accuracy is the ratio of True positive + True negative values over the whole population (ratio of correctly predicted values) \n",
    "\n",
    "- These models all have relatively high scores however their accuracy may not be the best due to their highly unbalanced classes. for instance if we were to predict a spam email with the ratio of 100 spam emails and 900 non-spam. Then we can only say that the prediction is only 10% accurate.\n",
    "\n",
    "- To increase the accruacy I would suggest resampling with replacement using boostrapping to balance the classes. For example spam emails could be upsampled to 500 and non spam down sampled to 500. "
   ]
  },
  {
   "cell_type": "markdown",
   "metadata": {},
   "source": [
    "### Predicting Probabilities for Classes and Roc Curve"
   ]
  },
  {
   "cell_type": "code",
   "execution_count": 92,
   "metadata": {
    "collapsed": true
   },
   "outputs": [],
   "source": [
    "Y_pp_mat =best_lr.predict_proba(X_test_mat)"
   ]
  },
  {
   "cell_type": "code",
   "execution_count": 93,
   "metadata": {},
   "outputs": [
    {
     "name": "stdout",
     "output_type": "stream",
     "text": [
      "predicted probabilities for each class:\n"
     ]
    },
    {
     "data": {
      "text/html": [
       "<div>\n",
       "<style>\n",
       "    .dataframe thead tr:only-child th {\n",
       "        text-align: right;\n",
       "    }\n",
       "\n",
       "    .dataframe thead th {\n",
       "        text-align: left;\n",
       "    }\n",
       "\n",
       "    .dataframe tbody tr th {\n",
       "        vertical-align: top;\n",
       "    }\n",
       "</style>\n",
       "<table border=\"1\" class=\"dataframe\">\n",
       "  <thead>\n",
       "    <tr style=\"text-align: right;\">\n",
       "      <th></th>\n",
       "      <th>class_0_pp</th>\n",
       "      <th>class_1_pp</th>\n",
       "      <th>class_2_pp</th>\n",
       "    </tr>\n",
       "  </thead>\n",
       "  <tbody>\n",
       "    <tr>\n",
       "      <th>0</th>\n",
       "      <td>0.144983</td>\n",
       "      <td>0.013332</td>\n",
       "      <td>0.841685</td>\n",
       "    </tr>\n",
       "    <tr>\n",
       "      <th>1</th>\n",
       "      <td>0.005494</td>\n",
       "      <td>0.000131</td>\n",
       "      <td>0.994375</td>\n",
       "    </tr>\n",
       "    <tr>\n",
       "      <th>2</th>\n",
       "      <td>0.070084</td>\n",
       "      <td>0.003774</td>\n",
       "      <td>0.926142</td>\n",
       "    </tr>\n",
       "    <tr>\n",
       "      <th>3</th>\n",
       "      <td>0.002183</td>\n",
       "      <td>0.001086</td>\n",
       "      <td>0.996731</td>\n",
       "    </tr>\n",
       "    <tr>\n",
       "      <th>4</th>\n",
       "      <td>0.013123</td>\n",
       "      <td>0.000908</td>\n",
       "      <td>0.985970</td>\n",
       "    </tr>\n",
       "  </tbody>\n",
       "</table>\n",
       "</div>"
      ],
      "text/plain": [
       "   class_0_pp  class_1_pp  class_2_pp\n",
       "0    0.144983    0.013332    0.841685\n",
       "1    0.005494    0.000131    0.994375\n",
       "2    0.070084    0.003774    0.926142\n",
       "3    0.002183    0.001086    0.996731\n",
       "4    0.013123    0.000908    0.985970"
      ]
     },
     "execution_count": 93,
     "metadata": {},
     "output_type": "execute_result"
    }
   ],
   "source": [
    "print 'predicted probabilities for each class:' \n",
    "# Get the predicted probability vector and explicitly name the columns:\n",
    "Y_pp = pd.DataFrame(Y_pp_mat, columns=['class_0_pp','class_1_pp', 'class_2_pp'])\n",
    "# Y_pp['pred_class_thresh10'] = [1 if x >= 0.10 else 0 for x in Y_pp.class_1_pp.values]\n",
    "Y_pp.head()\n"
   ]
  },
  {
   "cell_type": "code",
   "execution_count": 94,
   "metadata": {},
   "outputs": [
    {
     "name": "stderr",
     "output_type": "stream",
     "text": [
      "/Users/annabopeep/anaconda2/lib/python2.7/site-packages/sklearn/cross_validation.py:41: DeprecationWarning: This module was deprecated in version 0.18 in favor of the model_selection module into which all the refactored classes and functions are moved. Also note that the interface of the new CV iterators are different from that of this module. This module will be removed in 0.20.\n",
      "  \"This module will be removed in 0.20.\", DeprecationWarning)\n"
     ]
    }
   ],
   "source": [
    "from sklearn.metrics import roc_curve, auc\n",
    "from sklearn.preprocessing import label_binarize\n",
    "from sklearn.cross_validation import train_test_split\n",
    "import matplotlib.pyplot as plt\n",
    "from scipy import interp\n"
   ]
  },
  {
   "cell_type": "code",
   "execution_count": 305,
   "metadata": {},
   "outputs": [
    {
     "data": {
      "text/plain": [
       "(496, 3)"
      ]
     },
     "execution_count": 305,
     "metadata": {},
     "output_type": "execute_result"
    }
   ],
   "source": [
    "y_test_b.shape"
   ]
  },
  {
   "cell_type": "code",
   "execution_count": 102,
   "metadata": {},
   "outputs": [
    {
     "data": {
      "image/png": "[encoded data removed]",
      "text/plain": [
       "<matplotlib.figure.Figure at 0x119191fd0>"
      ]
     },
     "metadata": {},
     "output_type": "display_data"
    }
   ],
   "source": [
    "# Binarize the output\n",
    "y_test_b = label_binarize(y_test, classes=[0, 1, 2])\n",
    "n_classes_test = y_test_b.shape[1]\n",
    "\n",
    "# Compute ROC curve and ROC area for each class\n",
    "fpr = dict()\n",
    "tpr = dict()\n",
    "roc_auc = dict()\n",
    "for i in range(n_classes_test):\n",
    "    fpr[i], tpr[i], _ = roc_curve(y_test_b[:, i], Y_pp_mat[:,i])\n",
    "    roc_auc[i] = auc(fpr[i], tpr[i])\n",
    "\n",
    "\n",
    "x_class = ['Negative', 'Neutral', 'Positive']\n",
    "# Plot of a ROC curve for a specific class\n",
    "plt.figure(figsize=[6,6])\n",
    "for i in range(n_classes_test):   \n",
    "        plt.plot(fpr[i], tpr[i], label= str(x_class[i])+ ' (area = %0.2f)' % roc_auc[i], linewidth=4)\n",
    "plt.plot([0, 1], [0, 1], 'k--', linewidth=4)\n",
    "plt.xlim([-0.05, 1.0])\n",
    "plt.ylim([-0.05, 1.05])\n",
    "plt.xlabel('False Positive Rate', fontsize=18)\n",
    "plt.ylabel('True Positive Rate', fontsize=18)\n",
    "plt.title('ROC Curve for Sentiment Classification', fontsize=18)\n",
    "plt.legend(loc=\"lower right\")\n",
    "plt.show()\n"
   ]
  },
  {
   "cell_type": "code",
   "execution_count": null,
   "metadata": {
    "collapsed": true
   },
   "outputs": [],
   "source": [
    "print 'fpr\\t', 'tpr\\t', 'threshold'\n",
    "print np.array(zip(fpr,tpr,threshold))\n",
    "# higher recall remins high even with threshold value\n",
    "# surface under curve area canoot be"
   ]
  },
  {
   "cell_type": "code",
   "execution_count": null,
   "metadata": {
    "collapsed": true
   },
   "outputs": [],
   "source": []
  },
  {
   "cell_type": "markdown",
   "metadata": {},
   "source": [
    "# Let's analyse the features importances"
   ]
  },
  {
   "cell_type": "code",
   "execution_count": 92,
   "metadata": {},
   "outputs": [
    {
     "data": {
      "text/html": [
       "<div>\n",
       "<style>\n",
       "    .dataframe thead tr:only-child th {\n",
       "        text-align: right;\n",
       "    }\n",
       "\n",
       "    .dataframe thead th {\n",
       "        text-align: left;\n",
       "    }\n",
       "\n",
       "    .dataframe tbody tr th {\n",
       "        vertical-align: top;\n",
       "    }\n",
       "</style>\n",
       "<table border=\"1\" class=\"dataframe\">\n",
       "  <thead>\n",
       "    <tr style=\"text-align: right;\">\n",
       "      <th></th>\n",
       "      <th>coef</th>\n",
       "      <th>abs_coef</th>\n",
       "    </tr>\n",
       "  </thead>\n",
       "  <tbody>\n",
       "    <tr>\n",
       "      <th>471</th>\n",
       "      <td>0.556775</td>\n",
       "      <td>0.556775</td>\n",
       "    </tr>\n",
       "    <tr>\n",
       "      <th>343</th>\n",
       "      <td>0.474660</td>\n",
       "      <td>0.474660</td>\n",
       "    </tr>\n",
       "    <tr>\n",
       "      <th>322</th>\n",
       "      <td>-0.468406</td>\n",
       "      <td>0.468406</td>\n",
       "    </tr>\n",
       "    <tr>\n",
       "      <th>609</th>\n",
       "      <td>-0.456145</td>\n",
       "      <td>0.456145</td>\n",
       "    </tr>\n",
       "    <tr>\n",
       "      <th>210</th>\n",
       "      <td>-0.451457</td>\n",
       "      <td>0.451457</td>\n",
       "    </tr>\n",
       "  </tbody>\n",
       "</table>\n",
       "</div>"
      ],
      "text/plain": [
       "         coef  abs_coef\n",
       "471  0.556775  0.556775\n",
       "343  0.474660  0.474660\n",
       "322 -0.468406  0.468406\n",
       "609 -0.456145  0.456145\n",
       "210 -0.451457  0.451457"
      ]
     },
     "execution_count": 92,
     "metadata": {},
     "output_type": "execute_result"
    }
   ],
   "source": [
    "coef_df = pd.DataFrame({\n",
    "        'coef':best_lr.coef_[0]})\n",
    "coef_df['abs_coef'] = np.abs(coef_df.coef)\n",
    "# sort by absolute value of coefficient (magnitude)\n",
    "coef_df.sort_values('abs_coef', ascending=False, inplace=True)\n",
    "\n",
    "coef_df.head()"
   ]
  },
  {
   "cell_type": "code",
   "execution_count": 91,
   "metadata": {},
   "outputs": [
    {
     "data": {
      "text/plain": [
       "900"
      ]
     },
     "execution_count": 91,
     "metadata": {},
     "output_type": "execute_result"
    }
   ],
   "source": [
    "# Show non-zero coefs and predictors\n",
    "# coef_df[coef_df.coef != 0]\n",
    "len(coef_df[coef_df.coef != 0])"
   ]
  },
  {
   "cell_type": "code",
   "execution_count": null,
   "metadata": {
    "collapsed": true
   },
   "outputs": [],
   "source": []
  },
  {
   "cell_type": "markdown",
   "metadata": {},
   "source": [
    "## Foursquare data\n",
    "    - polarity : Target 2:positive, 1:neutral, 0:negative\n",
    "    - words : preprocessed sentences\n",
    "    - type : the tags of the words from lemmatizing \n",
    "\n",
    "\n",
    "TFDIF was fitted on the training data which will be used to transfomation the words in testing into a sparse matrix\n",
    "Logistic Regressions best parameters which were fit for the training data will then predict sentiment (y_hat) for the transformed testing data.\n",
    "\n",
    "\n",
    "\n",
    "---- logistic regression gave a good score in classifying the predictors but will try different classifiers to determine best accuracy score \n"
   ]
  },
  {
   "cell_type": "code",
   "execution_count": 37,
   "metadata": {
    "collapsed": true
   },
   "outputs": [],
   "source": [
    "foursquare = pd.read_csv('./foursquare_clean.csv', encoding='utf8')\n",
    "# foursquare = foursquare.dropna()\n",
    "X = foursquare.lem_words"
   ]
  },
  {
   "cell_type": "code",
   "execution_count": 38,
   "metadata": {},
   "outputs": [
    {
     "data": {
      "text/plain": [
       "(5176, 7)"
      ]
     },
     "execution_count": 38,
     "metadata": {},
     "output_type": "execute_result"
    }
   ],
   "source": [
    "foursquare.shape"
   ]
  },
  {
   "cell_type": "code",
   "execution_count": 142,
   "metadata": {
    "collapsed": true
   },
   "outputs": [],
   "source": [
    "# transform the testing data\n",
    "X_mat = tvec.transform(X)\n",
    "\n",
    "# predictive probabilities\n",
    "\n",
    "# y_hat_pp = best_lr.predict_proba(X_mat)\n",
    "# y_hat_pp ???? can i ahve these on the foursquare data????\n",
    "\n",
    "# Y_pp = pd.DataFrame(best_lr.predict_proba(X_test_mat), columns=['class_0_pp','class_1_pp', 'class_2_pp'])\n",
    "# Y_pp.head(10) \n",
    "\n",
    "# probability in class 1 class 2 class 3 "
   ]
  },
  {
   "cell_type": "code",
   "execution_count": 162,
   "metadata": {
    "scrolled": true
   },
   "outputs": [
    {
     "data": {
      "text/html": [
       "<div>\n",
       "<style>\n",
       "    .dataframe thead tr:only-child th {\n",
       "        text-align: right;\n",
       "    }\n",
       "\n",
       "    .dataframe thead th {\n",
       "        text-align: left;\n",
       "    }\n",
       "\n",
       "    .dataframe tbody tr th {\n",
       "        vertical-align: top;\n",
       "    }\n",
       "</style>\n",
       "<table border=\"1\" class=\"dataframe\">\n",
       "  <thead>\n",
       "    <tr style=\"text-align: right;\">\n",
       "      <th></th>\n",
       "      <th>tips</th>\n",
       "      <th>ll</th>\n",
       "      <th>clean_stem</th>\n",
       "      <th>lem_words</th>\n",
       "      <th>lem_type</th>\n",
       "      <th>polarity_pred</th>\n",
       "      <th>lng</th>\n",
       "      <th>lat</th>\n",
       "    </tr>\n",
       "  </thead>\n",
       "  <tbody>\n",
       "    <tr>\n",
       "      <th>0</th>\n",
       "      <td>Great fun to be had by everyone. The aquarium ...</td>\n",
       "      <td>51.4409815123,-0.0613689422607</td>\n",
       "      <td>[great, fun, everyon, aquarium, worth, small, ...</td>\n",
       "      <td>great fun be have everyone aquarium be small f...</td>\n",
       "      <td>JJ NN VB VB NN NN VB JJ NN VB NN VB NN NN VB NN</td>\n",
       "      <td>2.0</td>\n",
       "      <td>51.4409815123</td>\n",
       "      <td>-0.0613689422607</td>\n",
       "    </tr>\n",
       "    <tr>\n",
       "      <th>1</th>\n",
       "      <td>Love this place my new local shop</td>\n",
       "      <td>51.4669013,0.0528256</td>\n",
       "      <td>[love, thi, place, new, local, shop]</td>\n",
       "      <td>love place new local shop</td>\n",
       "      <td>VB NN JJ JJ NN</td>\n",
       "      <td>2.0</td>\n",
       "      <td>51.4669013</td>\n",
       "      <td>0.0528256</td>\n",
       "    </tr>\n",
       "    <tr>\n",
       "      <th>2</th>\n",
       "      <td>Enter our prize draw to win a family ticket to...</td>\n",
       "      <td>51.501711493,-0.119767368051</td>\n",
       "      <td>[enter, prize, draw, win, famili, ticket, sea,...</td>\n",
       "      <td>prize draw win family ticket sea life don win ...</td>\n",
       "      <td>NN NN VB NN NN NN NN VB VB RB VB RB VB JJ NN V...</td>\n",
       "      <td>1.0</td>\n",
       "      <td>51.501711493</td>\n",
       "      <td>-0.119767368051</td>\n",
       "    </tr>\n",
       "    <tr>\n",
       "      <th>3</th>\n",
       "      <td>If you're pressed for time, head to Hall 2 for...</td>\n",
       "      <td>51.5352960617,-0.155888708427</td>\n",
       "      <td>[press, time, head, hall, coral, amazonian, ex...</td>\n",
       "      <td>be press time head hall coral amazonian exhibi...</td>\n",
       "      <td>VB VB NN NN NN NN JJ NN NN VB RB JJ</td>\n",
       "      <td>0.0</td>\n",
       "      <td>51.5352960617</td>\n",
       "      <td>-0.155888708427</td>\n",
       "    </tr>\n",
       "    <tr>\n",
       "      <th>4</th>\n",
       "      <td>Sea lion shows at 12pm and 3pm daily</td>\n",
       "      <td>51.3495168852,-0.315634863588</td>\n",
       "      <td>[sea, lion, show, daili]</td>\n",
       "      <td>sea lion show pm pm daily</td>\n",
       "      <td>NN NN VB NN NN RB</td>\n",
       "      <td>2.0</td>\n",
       "      <td>51.3495168852</td>\n",
       "      <td>-0.315634863588</td>\n",
       "    </tr>\n",
       "  </tbody>\n",
       "</table>\n",
       "</div>"
      ],
      "text/plain": [
       "                                                tips  \\\n",
       "0  Great fun to be had by everyone. The aquarium ...   \n",
       "1                  Love this place my new local shop   \n",
       "2  Enter our prize draw to win a family ticket to...   \n",
       "3  If you're pressed for time, head to Hall 2 for...   \n",
       "4               Sea lion shows at 12pm and 3pm daily   \n",
       "\n",
       "                               ll  \\\n",
       "0  51.4409815123,-0.0613689422607   \n",
       "1            51.4669013,0.0528256   \n",
       "2    51.501711493,-0.119767368051   \n",
       "3   51.5352960617,-0.155888708427   \n",
       "4   51.3495168852,-0.315634863588   \n",
       "\n",
       "                                          clean_stem  \\\n",
       "0  [great, fun, everyon, aquarium, worth, small, ...   \n",
       "1               [love, thi, place, new, local, shop]   \n",
       "2  [enter, prize, draw, win, famili, ticket, sea,...   \n",
       "3  [press, time, head, hall, coral, amazonian, ex...   \n",
       "4                           [sea, lion, show, daili]   \n",
       "\n",
       "                                           lem_words  \\\n",
       "0  great fun be have everyone aquarium be small f...   \n",
       "1                          love place new local shop   \n",
       "2  prize draw win family ticket sea life don win ...   \n",
       "3  be press time head hall coral amazonian exhibi...   \n",
       "4                          sea lion show pm pm daily   \n",
       "\n",
       "                                            lem_type  polarity_pred  \\\n",
       "0    JJ NN VB VB NN NN VB JJ NN VB NN VB NN NN VB NN            2.0   \n",
       "1                                     VB NN JJ JJ NN            2.0   \n",
       "2  NN NN VB NN NN NN NN VB VB RB VB RB VB JJ NN V...            1.0   \n",
       "3                VB VB NN NN NN NN JJ NN NN VB RB JJ            0.0   \n",
       "4                                  NN NN VB NN NN RB            2.0   \n",
       "\n",
       "             lng               lat  \n",
       "0  51.4409815123  -0.0613689422607  \n",
       "1     51.4669013         0.0528256  \n",
       "2   51.501711493   -0.119767368051  \n",
       "3  51.5352960617   -0.155888708427  \n",
       "4  51.3495168852   -0.315634863588  "
      ]
     },
     "execution_count": 162,
     "metadata": {},
     "output_type": "execute_result"
    }
   ],
   "source": [
    "foursquare['polarity_pred'] = best_lr.predict(X_mat)\n",
    "lng=[]\n",
    "lat=[]\n",
    "for ll in foursquare['ll']:\n",
    "    lnglat = ll.split(',')\n",
    "    lng.append(lnglat[0])\n",
    "    lat.append(lnglat[1])\n",
    "foursquare['lng'] =lng\n",
    "foursquare['lat'] =lat\n",
    "\n",
    "# dummies = pd.get_dummies(foursquare.polarity_pred)\n",
    "# dummies.columns = ['negative_0', 'neutral_1', 'positive_2']\n",
    "# foursquare_all = pd.concat([foursquare, dummies])\n",
    "\n",
    "foursquare.head()"
   ]
  },
  {
   "cell_type": "code",
   "execution_count": 150,
   "metadata": {
    "collapsed": true
   },
   "outputs": [],
   "source": [
    "foursquare.to_csv('foursquare_predictions.csv', header=True, index=False, encoding='UTF8')"
   ]
  },
  {
   "cell_type": "code",
   "execution_count": 166,
   "metadata": {
    "collapsed": true
   },
   "outputs": [],
   "source": [
    "df_neutral= foursquare[foursquare.polarity_pred ==1]\n",
    "df_positive= foursquare[foursquare.polarity_pred ==2]\n",
    "df_negative= foursquare[foursquare.polarity_pred ==0]"
   ]
  },
  {
   "cell_type": "code",
   "execution_count": 167,
   "metadata": {
    "collapsed": true
   },
   "outputs": [],
   "source": [
    "df_neutral.to_csv('fouresquare_predictions/df_neutral.csv', header=True, index=False, encoding='UTF8')\n",
    "df_positive.to_csv('fouresquare_predictions/df_positive.csv', header=True, index=False, encoding='UTF8')\n",
    "df_negative.to_csv('fouresquare_predictions/df_negative.csv', header=True, index=False, encoding='UTF8')"
   ]
  },
  {
   "cell_type": "markdown",
   "metadata": {},
   "source": [
    "# Visualisations "
   ]
  },
  {
   "cell_type": "code",
   "execution_count": 252,
   "metadata": {
    "collapsed": true
   },
   "outputs": [],
   "source": [
    "import numpy as np\n",
    "import pandas as pd\n",
    "from scipy import stats, integrate\n",
    "import matplotlib.pyplot as plt\n",
    "import seaborn as sns\n",
    "sns.set(color_codes=True)"
   ]
  },
  {
   "cell_type": "code",
   "execution_count": 171,
   "metadata": {},
   "outputs": [
    {
     "data": {
      "text/html": [
       "<div>\n",
       "<style>\n",
       "    .dataframe thead tr:only-child th {\n",
       "        text-align: right;\n",
       "    }\n",
       "\n",
       "    .dataframe thead th {\n",
       "        text-align: left;\n",
       "    }\n",
       "\n",
       "    .dataframe tbody tr th {\n",
       "        vertical-align: top;\n",
       "    }\n",
       "</style>\n",
       "<table border=\"1\" class=\"dataframe\">\n",
       "  <thead>\n",
       "    <tr style=\"text-align: right;\">\n",
       "      <th></th>\n",
       "      <th>tips</th>\n",
       "      <th>ll</th>\n",
       "      <th>clean_stem</th>\n",
       "      <th>lem_words</th>\n",
       "      <th>lem_type</th>\n",
       "      <th>lng</th>\n",
       "      <th>lat</th>\n",
       "    </tr>\n",
       "    <tr>\n",
       "      <th>polarity_pred</th>\n",
       "      <th></th>\n",
       "      <th></th>\n",
       "      <th></th>\n",
       "      <th></th>\n",
       "      <th></th>\n",
       "      <th></th>\n",
       "      <th></th>\n",
       "    </tr>\n",
       "  </thead>\n",
       "  <tbody>\n",
       "    <tr>\n",
       "      <th>0.0</th>\n",
       "      <td>1181</td>\n",
       "      <td>1181</td>\n",
       "      <td>1181</td>\n",
       "      <td>1181</td>\n",
       "      <td>1181</td>\n",
       "      <td>1181</td>\n",
       "      <td>1181</td>\n",
       "    </tr>\n",
       "    <tr>\n",
       "      <th>1.0</th>\n",
       "      <td>89</td>\n",
       "      <td>89</td>\n",
       "      <td>89</td>\n",
       "      <td>89</td>\n",
       "      <td>89</td>\n",
       "      <td>89</td>\n",
       "      <td>89</td>\n",
       "    </tr>\n",
       "    <tr>\n",
       "      <th>2.0</th>\n",
       "      <td>3906</td>\n",
       "      <td>3906</td>\n",
       "      <td>3906</td>\n",
       "      <td>3906</td>\n",
       "      <td>3906</td>\n",
       "      <td>3906</td>\n",
       "      <td>3906</td>\n",
       "    </tr>\n",
       "  </tbody>\n",
       "</table>\n",
       "</div>"
      ],
      "text/plain": [
       "               tips    ll  clean_stem  lem_words  lem_type   lng   lat\n",
       "polarity_pred                                                         \n",
       "0.0            1181  1181        1181       1181      1181  1181  1181\n",
       "1.0              89    89          89         89        89    89    89\n",
       "2.0            3906  3906        3906       3906      3906  3906  3906"
      ]
     },
     "execution_count": 171,
     "metadata": {},
     "output_type": "execute_result"
    }
   ],
   "source": [
    "foursquare.groupby(['polarity_pred']).count()"
   ]
  },
  {
   "cell_type": "code",
   "execution_count": 253,
   "metadata": {},
   "outputs": [
    {
     "data": {
      "image/png": "[encoded data removed]",
      "text/plain": [
       "<matplotlib.figure.Figure at 0x1202e13d0>"
      ]
     },
     "metadata": {},
     "output_type": "display_data"
    }
   ],
   "source": [
    "plt.hist(foursquare.polarity_pred, bins = 3, align= 'mid')\n",
    "plt.xticks(range(3), ['Negative','Neutral', 'Positive'])\n",
    "plt.xlabel('Predicted Sentiment of Reviews')\n",
    "plt.title('Distribution of Sentiment of Reviews')\n",
    "plt.show()"
   ]
  },
  {
   "cell_type": "code",
   "execution_count": null,
   "metadata": {
    "collapsed": true
   },
   "outputs": [],
   "source": []
  },
  {
   "cell_type": "code",
   "execution_count": null,
   "metadata": {
    "collapsed": true
   },
   "outputs": [],
   "source": []
  },
  {
   "cell_type": "code",
   "execution_count": null,
   "metadata": {
    "collapsed": true
   },
   "outputs": [],
   "source": []
  },
  {
   "cell_type": "markdown",
   "metadata": {},
   "source": [
    "# NOTES\n",
    "\n",
    "https://stackoverflow.com/questions/40679883/scikit-learn-how-to-include-others-features-after-performed-fit-and-transform-o"
   ]
  },
  {
   "cell_type": "code",
   "execution_count": null,
   "metadata": {
    "collapsed": true
   },
   "outputs": [],
   "source": [
    "later, additonal work, \n",
    "- clustering\n",
    "whats similar to logistic regression\n",
    "-neural networks\n",
    "from sklearn.neural_network import MLPClassifier "
   ]
  },
  {
   "cell_type": "markdown",
   "metadata": {},
   "source": [
    "## k-Fold Cross Validation"
   ]
  },
  {
   "cell_type": "code",
   "execution_count": null,
   "metadata": {
    "collapsed": true
   },
   "outputs": [],
   "source": [
    "from sklearn.model_selection import cross_val_score, cross_val_predict\n",
    "from sklearn import metrics\n",
    "\n",
    "# iterate through folds 5-10\n",
    "for folds in range(5,11):\n",
    "    print '------------------------------------\\n'\n",
    "    print 'K:', folds\n",
    "    \n",
    "    # Perform cross-validation\n",
    "    scores = cross_val_score(lr, X[predictors], y, cv=folds)\n",
    "    print \"Cross-validated scores:\", scores\n",
    "    print \"Mean CV R2:\", np.mean(scores)\n",
    "    print 'Std CV R2:', np.std(scores)\n",
    "    \n",
    "    # Make cross-validated predictions\n",
    "    predictions = cross_val_predict(model, X[predictors], y, cv=folds)\n",
    "    \n",
    "    r2 = metrics.r2_score(y, predictions)\n",
    "    print \"Cross-Predicted R2:\", r2"
   ]
  },
  {
   "cell_type": "code",
   "execution_count": null,
   "metadata": {
    "collapsed": true
   },
   "outputs": [],
   "source": []
  },
  {
   "cell_type": "code",
   "execution_count": null,
   "metadata": {
    "collapsed": true
   },
   "outputs": [],
   "source": []
  },
  {
   "cell_type": "markdown",
   "metadata": {
    "collapsed": true
   },
   "source": [
    "# EDA"
   ]
  },
  {
   "cell_type": "code",
   "execution_count": null,
   "metadata": {
    "collapsed": true
   },
   "outputs": [],
   "source": [
    "# tvec_df  = pd.DataFrame(tvec.transform(training.words).todense(),\n",
    "#                    columns=tvec.get_feature_names())\n",
    "# tvec_df.sum(axis=0).sort_values(ascending=False)[:10]\n",
    "# top words...."
   ]
  },
  {
   "cell_type": "code",
   "execution_count": null,
   "metadata": {
    "collapsed": true
   },
   "outputs": [],
   "source": []
  }
 ],
 "metadata": {
  "kernelspec": {
   "display_name": "Python 2",
   "language": "python",
   "name": "python2"
  },
  "language_info": {
   "codemirror_mode": {
    "name": "ipython",
    "version": 2
   },
   "file_extension": ".py",
   "mimetype": "text/x-python",
   "name": "python",
   "nbconvert_exporter": "python",
   "pygments_lexer": "ipython2",
   "version": "2.7.13"
  }
 },
 "nbformat": 4,
 "nbformat_minor": 2
}
