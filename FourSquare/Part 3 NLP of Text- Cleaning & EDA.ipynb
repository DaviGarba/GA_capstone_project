{
 "cells": [
  {
   "cell_type": "markdown",
   "metadata": {},
   "source": [
    "# Cleaning the text \n",
    "- londonvenues csv undergoes EDA and cleaning of tips column. This will then be modelled against ABSA labeled training data to determine the sentiment.\n"
   ]
  },
  {
   "cell_type": "code",
   "execution_count": 425,
   "metadata": {
    "collapsed": true
   },
   "outputs": [],
   "source": [
    "import pandas as pd\n",
    "import numpy as np"
   ]
  },
  {
   "cell_type": "code",
   "execution_count": 550,
   "metadata": {},
   "outputs": [
    {
     "name": "stdout",
     "output_type": "stream",
     "text": [
      "(3700, 4)\n"
     ]
    },
    {
     "data": {
      "text/html": [
       "<div>\n",
       "<style>\n",
       "    .dataframe thead tr:only-child th {\n",
       "        text-align: right;\n",
       "    }\n",
       "\n",
       "    .dataframe thead th {\n",
       "        text-align: left;\n",
       "    }\n",
       "\n",
       "    .dataframe tbody tr th {\n",
       "        vertical-align: top;\n",
       "    }\n",
       "</style>\n",
       "<table border=\"1\" class=\"dataframe\">\n",
       "  <thead>\n",
       "    <tr style=\"text-align: right;\">\n",
       "      <th></th>\n",
       "      <th>rating</th>\n",
       "      <th>tips</th>\n",
       "      <th>cat_name</th>\n",
       "      <th>cat_parent</th>\n",
       "    </tr>\n",
       "  </thead>\n",
       "  <tbody>\n",
       "    <tr>\n",
       "      <th>0</th>\n",
       "      <td>9.3</td>\n",
       "      <td>Great fun to be had by everyone. The aquarium ...</td>\n",
       "      <td>Aquarium</td>\n",
       "      <td>NaN</td>\n",
       "    </tr>\n",
       "    <tr>\n",
       "      <th>1</th>\n",
       "      <td>7.5</td>\n",
       "      <td>Enter our prize draw to win a family ticket to...</td>\n",
       "      <td>Aquarium</td>\n",
       "      <td>NaN</td>\n",
       "    </tr>\n",
       "    <tr>\n",
       "      <th>2</th>\n",
       "      <td>6.3</td>\n",
       "      <td>If you're pressed for time, head to Hall 2 for...</td>\n",
       "      <td>Aquarium</td>\n",
       "      <td>NaN</td>\n",
       "    </tr>\n",
       "    <tr>\n",
       "      <th>3</th>\n",
       "      <td>7.7</td>\n",
       "      <td>Sea lion shows at 12pm and 3pm daily</td>\n",
       "      <td>Aquarium</td>\n",
       "      <td>NaN</td>\n",
       "    </tr>\n",
       "    <tr>\n",
       "      <th>4</th>\n",
       "      <td>7.5</td>\n",
       "      <td>The Penguin auditorium is over rated. ...not t...</td>\n",
       "      <td>Aquarium</td>\n",
       "      <td>NaN</td>\n",
       "    </tr>\n",
       "  </tbody>\n",
       "</table>\n",
       "</div>"
      ],
      "text/plain": [
       "   rating                                               tips  cat_name  \\\n",
       "0     9.3  Great fun to be had by everyone. The aquarium ...  Aquarium   \n",
       "1     7.5  Enter our prize draw to win a family ticket to...  Aquarium   \n",
       "2     6.3  If you're pressed for time, head to Hall 2 for...  Aquarium   \n",
       "3     7.7               Sea lion shows at 12pm and 3pm daily  Aquarium   \n",
       "4     7.5  The Penguin auditorium is over rated. ...not t...  Aquarium   \n",
       "\n",
       "  cat_parent  \n",
       "0        NaN  \n",
       "1        NaN  \n",
       "2        NaN  \n",
       "3        NaN  \n",
       "4        NaN  "
      ]
     },
     "execution_count": 550,
     "metadata": {},
     "output_type": "execute_result"
    }
   ],
   "source": [
    "df = pd.read_csv('./londonvenues_cleaned.csv', encoding='utf-8')\n",
    "print df.shape\n",
    "df.head()"
   ]
  },
  {
   "cell_type": "code",
   "execution_count": 427,
   "metadata": {},
   "outputs": [
    {
     "data": {
      "text/plain": [
       "u\"If you're pressed for time, head to Hall 2 for the corals; the Amazonian exhibit in Hall 3 is not that exciting.\""
      ]
     },
     "execution_count": 427,
     "metadata": {},
     "output_type": "execute_result"
    }
   ],
   "source": [
    "tip = df.tips[2]\n",
    "tip"
   ]
  },
  {
   "cell_type": "markdown",
   "metadata": {},
   "source": [
    "# Text Pre-processing\n",
    "\n",
    "Of all data text is the most unstructured form. In this case public reviews are not like articles so can contain errors like mispellings, slangs and a range of different writing styles. Therefore, various types of noise are present in the text which will need to be removed through cleaning and standardisation to minimize the noise as much as possible. These pre-processing steps help convert noise from high dimensional features (where N different features) to the low dimensional space.  "
   ]
  },
  {
   "cell_type": "markdown",
   "metadata": {},
   "source": [
    "#### Decoding \n",
    "Throughout this work  Unicode string, make sure you are not using an encoded version of the string (it may be necessary to decode it first, e.g. with ``s.decode(\"utf8\")``........\n"
   ]
  },
  {
   "cell_type": "markdown",
   "metadata": {},
   "source": [
    "### Noise Removal"
   ]
  },
  {
   "cell_type": "markdown",
   "metadata": {},
   "source": [
    "#### Apostrophes\n",
    "Apostrophes connecting words are used everywhere, espcially in public reviews. To maintain uniform structure throughout the whole text it is recommended to remove them inplace of the actual word. I found a dictionary of the most common apostrophe joined words. All the apostrophes in the texts should be converted into standard lexicons. This allows the text to follow the rules of context free grammar and helps avoids any word-sense disambiguation.\n"
   ]
  },
  {
   "cell_type": "code",
   "execution_count": 551,
   "metadata": {
    "collapsed": true
   },
   "outputs": [],
   "source": [
    "# %load ./NLP/appos.py\n",
    "appos = {\n",
    "\"aren't\" : \"are not\",\n",
    "\"can't\" : \"cannot\",\n",
    "\"couldn't\" : \"could not\",\n",
    "\"didn't\" : \"did not\",\n",
    "\"doesn't\" : \"does not\",\n",
    "\"don't\" : \"do not\",\n",
    "\"hadn't\" : \"had not\",\n",
    "\"hasn't\" : \"has not\",\n",
    "\"haven't\" : \"have not\",\n",
    "\"he'd\" : \"he would\",\n",
    "\"he'll\" : \"he will\",\n",
    "\"he's\" : \"he is\",\n",
    "\"i'd\" : \"I would\",\n",
    "\"i'd\" : \"I had\",\n",
    "\"i'll\" : \"I will\",\n",
    "\"i'm\" : \"I am\",\n",
    "\"isn't\" : \"is not\",\n",
    "\"it's\" : \"it is\",\n",
    "\"it'll\":\"it will\",\n",
    "\"i've\" : \"I have\",\n",
    "\"let's\" : \"let us\",\n",
    "\"mightn't\" : \"might not\",\n",
    "\"mustn't\" : \"must not\",\n",
    "\"shan't\" : \"shall not\",\n",
    "\"she'd\" : \"she would\",\n",
    "\"she'll\" : \"she will\",\n",
    "\"she's\" : \"she is\",\n",
    "\"shouldn't\" : \"should not\",\n",
    "\"that's\" : \"that is\",\n",
    "\"there's\" : \"there is\",\n",
    "\"they'd\" : \"they would\",\n",
    "\"they'll\" : \"they will\",\n",
    "\"they're\" : \"they are\",\n",
    "\"they've\" : \"they have\",\n",
    "\"we'd\" : \"we would\",\n",
    "\"we're\" : \"we are\",\n",
    "\"weren't\" : \"were not\",\n",
    "\"we've\" : \"we have\",\n",
    "\"what'll\" : \"what will\",\n",
    "\"what're\" : \"what are\",\n",
    "\"what's\" : \"what is\",\n",
    "\"what've\" : \"what have\",\n",
    "\"where's\" : \"where is\",\n",
    "\"who'd\" : \"who would\",\n",
    "\"who'll\" : \"who will\",\n",
    "\"who're\" : \"who are\",\n",
    "\"who's\" : \"who is\",\n",
    "\"who've\" : \"who have\",\n",
    "\"won't\" : \"will not\",\n",
    "\"wouldn't\" : \"would not\",\n",
    "\"you'd\" : \"you would\",\n",
    "\"you'll\" : \"you will\",\n",
    "\"you're\" : \"you are\",\n",
    "\"you've\" : \"you have\",\n",
    "\"'re\": \" are\",\n",
    "\"wasn't\": \"was not\",\n",
    "\"we'll\":\" will\",\n",
    "\"didn't\": \"did not\"\n",
    "}"
   ]
  },
  {
   "cell_type": "code",
   "execution_count": 429,
   "metadata": {},
   "outputs": [
    {
     "data": {
      "text/plain": [
       "u\"If you're pressed for time, head to Hall 2 for the corals; the Amazonian exhibit in Hall 3 is not that exciting.\""
      ]
     },
     "execution_count": 429,
     "metadata": {},
     "output_type": "execute_result"
    }
   ],
   "source": [
    "df.tips[2]"
   ]
  },
  {
   "cell_type": "code",
   "execution_count": 430,
   "metadata": {},
   "outputs": [
    {
     "data": {
      "text/plain": [
       "u'If you are pressed for time, head to Hall 2 for the corals; the Amazonian exhibit in Hall 3 is not that exciting.'"
      ]
     },
     "execution_count": 430,
     "metadata": {},
     "output_type": "execute_result"
    }
   ],
   "source": [
    "words = df.tips[2].split()\n",
    "reformed = [appos[word] if word in appos else word for word in words]\n",
    "reformed = \" \".join(reformed) \n",
    "reformed"
   ]
  },
  {
   "cell_type": "markdown",
   "metadata": {},
   "source": [
    "#### Lowercasing \n",
    "Normalising the case ensures that the words are treated equally. For example, 'Apple' and 'apple' are identified as the same word. "
   ]
  },
  {
   "cell_type": "code",
   "execution_count": 431,
   "metadata": {},
   "outputs": [
    {
     "data": {
      "text/plain": [
       "u\"If you're pressed for time, head to Hall 2 for the corals; the Amazonian exhibit in Hall 3 is not that exciting.\""
      ]
     },
     "execution_count": 431,
     "metadata": {},
     "output_type": "execute_result"
    }
   ],
   "source": [
    "df.tips[2]"
   ]
  },
  {
   "cell_type": "code",
   "execution_count": 432,
   "metadata": {},
   "outputs": [
    {
     "data": {
      "text/plain": [
       "u\"if you're pressed for time, head to hall 2 for the corals; the amazonian exhibit in hall 3 is not that exciting.\""
      ]
     },
     "execution_count": 432,
     "metadata": {},
     "output_type": "execute_result"
    }
   ],
   "source": [
    "lower_case = df.tips[2].lower()\n",
    "lower_case"
   ]
  },
  {
   "cell_type": "markdown",
   "metadata": {},
   "source": [
    "#### Tokenizing \n",
    "Tokenization is the process of converting text into tokens, normally these are words. These tokens split at white space and punctuation so  will now be easier to filter out unesseary tokens .... look up more? \n"
   ]
  },
  {
   "cell_type": "code",
   "execution_count": 433,
   "metadata": {
    "collapsed": true
   },
   "outputs": [],
   "source": [
    "import nltk"
   ]
  },
  {
   "cell_type": "code",
   "execution_count": 434,
   "metadata": {},
   "outputs": [
    {
     "name": "stdout",
     "output_type": "stream",
     "text": [
      "[u'If', u'you', u\"'re\", u'pressed', u'for', u'time', u',', u'head', u'to', u'Hall', u'2', u'for', u'the', u'corals', u';', u'the', u'Amazonian', u'exhibit', u'in', u'Hall', u'3', u'is', u'not', u'that', u'exciting', u'.']\n"
     ]
    }
   ],
   "source": [
    "from nltk.tokenize import word_tokenize\n",
    "tokens = word_tokenize(df.tips[2])\n",
    "print(tokens[:100])"
   ]
  },
  {
   "cell_type": "markdown",
   "metadata": {},
   "source": [
    "#### Removal and Filtering \n",
    "Stand alone puctuations, special characters and numerical tokens are removed leaving only alphabetic characters left. These defined in the Unicode character database  "
   ]
  },
  {
   "cell_type": "code",
   "execution_count": 435,
   "metadata": {},
   "outputs": [
    {
     "data": {
      "text/plain": [
       "[u'If', u'you', u'pressed', u'for', u'time']"
      ]
     },
     "execution_count": 435,
     "metadata": {},
     "output_type": "execute_result"
    }
   ],
   "source": [
    "words = [word for word in tokens if word.isalpha()]\n",
    "words[:5]"
   ]
  },
  {
   "cell_type": "markdown",
   "metadata": {},
   "source": [
    "#### Stop Words\n",
    "Stop words are the most commonly occuring words which are not relevant in the context of the data and do not contribute any deeper meaning to the phrase. In this case contain no sentiment. NLTK provide a library used for this. "
   ]
  },
  {
   "cell_type": "code",
   "execution_count": 436,
   "metadata": {},
   "outputs": [
    {
     "name": "stdout",
     "output_type": "stream",
     "text": [
      "['foo', 'bar', 'sentence']\n"
     ]
    }
   ],
   "source": [
    "from nltk.corpus import stopwords\n",
    "stop_words = stopwords.words('english')\n",
    "sentence = \"this is a foo bar sentence\"\n",
    "print [i for i in sentence.split() if i not in stop_words]"
   ]
  },
  {
   "cell_type": "markdown",
   "metadata": {},
   "source": [
    "### Lexicon Normalization"
   ]
  },
  {
   "cell_type": "code",
   "execution_count": 437,
   "metadata": {
    "collapsed": true
   },
   "outputs": [],
   "source": [
    "word = \"multiplying\" "
   ]
  },
  {
   "cell_type": "markdown",
   "metadata": {},
   "source": [
    "#### Lemmatization\n",
    "This process finds the root form of the word through the use of vocabulary (dictionary importance of words) and morphological analysis (word structure and grammar relations). Words that are similar but with different meaning can be handled in the correct way.\n",
    "\n",
    "The gensim library works through tokenizing by words then removing and filtering out stopwords, puncuation, special characters and numerics"
   ]
  },
  {
   "cell_type": "code",
   "execution_count": 438,
   "metadata": {},
   "outputs": [
    {
     "data": {
      "text/plain": [
       "['multiply/VB']"
      ]
     },
     "execution_count": 438,
     "metadata": {},
     "output_type": "execute_result"
    }
   ],
   "source": [
    "from gensim.utils import lemmatize\n",
    "lemmatize(word)"
   ]
  },
  {
   "cell_type": "markdown",
   "metadata": {},
   "source": [
    "### Cleaning Function"
   ]
  },
  {
   "cell_type": "code",
   "execution_count": 490,
   "metadata": {
    "collapsed": true
   },
   "outputs": [],
   "source": [
    "import pandas as pd\n",
    "import numpy as np\n",
    "from nltk.tokenize import word_tokenize\n",
    "from nltk.stem.porter import PorterStemmer \n",
    "from nltk.corpus import stopwords\n",
    "from gensim.utils import lemmatize\n",
    "from tqdm import tqdm_notebook as tqdm\n",
    "import time\n",
    "# %load ./NLP/appos.py"
   ]
  },
  {
   "cell_type": "markdown",
   "metadata": {},
   "source": [
    "### With Stemming\n",
    "- Replacing Apostrophes\n",
    "- Lowercasing\n",
    "- Tokenisation\n",
    "- Removal Puctuations, Special characters & Numerics\n",
    "- Stemming"
   ]
  },
  {
   "cell_type": "code",
   "execution_count": null,
   "metadata": {
    "collapsed": true
   },
   "outputs": [],
   "source": [
    "tips = df.tips\n",
    "def cleaning(tips):\n",
    "    list_ = []\n",
    "    for tip in tqdm(tips):\n",
    "        time.sleep(0.001)\n",
    "        # Replace apostrophes with words\n",
    "        try: \n",
    "            words = tip.split()\n",
    "            split = [appos[word] if word in appos else word for word in words]\n",
    "            reformed = \" \".join(split) \n",
    "        except:\n",
    "            pass\n",
    "        \n",
    "        # Lowercase all the words\n",
    "        lower_case = reformed.lower()\n",
    "\n",
    "        # Tokenize \n",
    "        tokens = word_tokenize(lower_case)\n",
    "        \n",
    "        # Remove Puncuation, Special Characters and Numerics\n",
    "        alpha = [word for word in tokens if word.isalpha()]\n",
    "        \n",
    "        # Stemming\n",
    "        ps = PorterStemmer()\n",
    "        stem = [ps.stem(kw) for kw in alpha]\n",
    "        \n",
    "        # Stop words\n",
    "        stop_words = stopwords.words('english')\n",
    "        stop = [i for i in stem if i not in stop_words]\n",
    "        list_.append(stop)\n",
    "        \n",
    "    return list_"
   ]
  },
  {
   "cell_type": "markdown",
   "metadata": {},
   "source": [
    "### With Lemmatizing\n",
    "- apostrophes\n",
    "- lower_case\n",
    "- Lemmatization"
   ]
  },
  {
   "cell_type": "code",
   "execution_count": 552,
   "metadata": {
    "collapsed": true
   },
   "outputs": [],
   "source": [
    "tips = df.tips\n",
    "def cleaning_normalization(tips):\n",
    "    all_ = []\n",
    "    for tip in tqdm(tips):\n",
    "        time.sleep(0.001)\n",
    "              \n",
    "        # Replace apostrophes with words\n",
    "        try: \n",
    "            words = tip.split()\n",
    "            split = [appos[word] if word in appos else word for word in words]\n",
    "            reformed = \" \".join(split) \n",
    "        except:\n",
    "            pass\n",
    "            \n",
    "        # Lowercase all the words\n",
    "        lower_case = reformed.lower()\n",
    "\n",
    "         # Lemmatization\n",
    "        lemm = lemmatize(lower_case)\n",
    "        all_.append(lemm)\n",
    "    return all_      "
   ]
  },
  {
   "cell_type": "code",
   "execution_count": 553,
   "metadata": {},
   "outputs": [
    {
     "data": {
      "application/vnd.jupyter.widget-view+json": {
       "model_id": "23d52e5b31ef4878b8e31f37a0b549a1",
       "version_major": 2,
       "version_minor": 0
      },
      "text/plain": [
       "A Jupyter Widget"
      ]
     },
     "metadata": {},
     "output_type": "display_data"
    },
    {
     "name": "stdout",
     "output_type": "stream",
     "text": [
      "\n"
     ]
    }
   ],
   "source": [
    "clean_tokens = cleaning_normalization(df.tips)\n",
    "df['clean_lemm'] = clean_tokens"
   ]
  },
  {
   "cell_type": "code",
   "execution_count": 554,
   "metadata": {},
   "outputs": [
    {
     "data": {
      "application/vnd.jupyter.widget-view+json": {
       "model_id": "7465350679004f5db9f4dd8f00860d42",
       "version_major": 2,
       "version_minor": 0
      },
      "text/plain": [
       "A Jupyter Widget"
      ]
     },
     "metadata": {},
     "output_type": "display_data"
    },
    {
     "name": "stdout",
     "output_type": "stream",
     "text": [
      "\n"
     ]
    }
   ],
   "source": [
    "clean_tokens = cleaning(df.tips)\n",
    "df['clean_stem'] = clean_tokens"
   ]
  },
  {
   "cell_type": "code",
   "execution_count": 555,
   "metadata": {},
   "outputs": [
    {
     "data": {
      "text/html": [
       "<div>\n",
       "<style>\n",
       "    .dataframe thead tr:only-child th {\n",
       "        text-align: right;\n",
       "    }\n",
       "\n",
       "    .dataframe thead th {\n",
       "        text-align: left;\n",
       "    }\n",
       "\n",
       "    .dataframe tbody tr th {\n",
       "        vertical-align: top;\n",
       "    }\n",
       "</style>\n",
       "<table border=\"1\" class=\"dataframe\">\n",
       "  <thead>\n",
       "    <tr style=\"text-align: right;\">\n",
       "      <th></th>\n",
       "      <th>rating</th>\n",
       "      <th>tips</th>\n",
       "      <th>cat_name</th>\n",
       "      <th>cat_parent</th>\n",
       "      <th>clean_lemm</th>\n",
       "      <th>clean_stem</th>\n",
       "    </tr>\n",
       "  </thead>\n",
       "  <tbody>\n",
       "    <tr>\n",
       "      <th>0</th>\n",
       "      <td>9.3</td>\n",
       "      <td>Great fun to be had by everyone. The aquarium ...</td>\n",
       "      <td>Aquarium</td>\n",
       "      <td>NaN</td>\n",
       "      <td>[great/JJ, fun/NN, be/VB, have/VB, everyone/NN...</td>\n",
       "      <td>[great, fun, everyon, aquarium, worth, small, ...</td>\n",
       "    </tr>\n",
       "    <tr>\n",
       "      <th>1</th>\n",
       "      <td>7.5</td>\n",
       "      <td>Enter our prize draw to win a family ticket to...</td>\n",
       "      <td>Aquarium</td>\n",
       "      <td>NaN</td>\n",
       "      <td>[prize/NN, draw/NN, win/VB, family/NN, ticket/...</td>\n",
       "      <td>[enter, prize, draw, win, famili, ticket, sea,...</td>\n",
       "    </tr>\n",
       "    <tr>\n",
       "      <th>2</th>\n",
       "      <td>6.3</td>\n",
       "      <td>If you're pressed for time, head to Hall 2 for...</td>\n",
       "      <td>Aquarium</td>\n",
       "      <td>NaN</td>\n",
       "      <td>[be/VB, press/VB, time/NN, head/NN, hall/NN, c...</td>\n",
       "      <td>[press, time, head, hall, coral, amazonian, ex...</td>\n",
       "    </tr>\n",
       "    <tr>\n",
       "      <th>3</th>\n",
       "      <td>7.7</td>\n",
       "      <td>Sea lion shows at 12pm and 3pm daily</td>\n",
       "      <td>Aquarium</td>\n",
       "      <td>NaN</td>\n",
       "      <td>[sea/NN, lion/NN, show/VB, pm/NN, pm/NN, daily...</td>\n",
       "      <td>[sea, lion, show, daili]</td>\n",
       "    </tr>\n",
       "    <tr>\n",
       "      <th>4</th>\n",
       "      <td>7.5</td>\n",
       "      <td>The Penguin auditorium is over rated. ...not t...</td>\n",
       "      <td>Aquarium</td>\n",
       "      <td>NaN</td>\n",
       "      <td>[penguin/JJ, auditorium/NN, be/VB, rate/VB, no...</td>\n",
       "      <td>[penguin, auditorium, rate, good, honest]</td>\n",
       "    </tr>\n",
       "  </tbody>\n",
       "</table>\n",
       "</div>"
      ],
      "text/plain": [
       "   rating                                               tips  cat_name  \\\n",
       "0     9.3  Great fun to be had by everyone. The aquarium ...  Aquarium   \n",
       "1     7.5  Enter our prize draw to win a family ticket to...  Aquarium   \n",
       "2     6.3  If you're pressed for time, head to Hall 2 for...  Aquarium   \n",
       "3     7.7               Sea lion shows at 12pm and 3pm daily  Aquarium   \n",
       "4     7.5  The Penguin auditorium is over rated. ...not t...  Aquarium   \n",
       "\n",
       "  cat_parent                                         clean_lemm  \\\n",
       "0        NaN  [great/JJ, fun/NN, be/VB, have/VB, everyone/NN...   \n",
       "1        NaN  [prize/NN, draw/NN, win/VB, family/NN, ticket/...   \n",
       "2        NaN  [be/VB, press/VB, time/NN, head/NN, hall/NN, c...   \n",
       "3        NaN  [sea/NN, lion/NN, show/VB, pm/NN, pm/NN, daily...   \n",
       "4        NaN  [penguin/JJ, auditorium/NN, be/VB, rate/VB, no...   \n",
       "\n",
       "                                          clean_stem  \n",
       "0  [great, fun, everyon, aquarium, worth, small, ...  \n",
       "1  [enter, prize, draw, win, famili, ticket, sea,...  \n",
       "2  [press, time, head, hall, coral, amazonian, ex...  \n",
       "3                           [sea, lion, show, daili]  \n",
       "4          [penguin, auditorium, rate, good, honest]  "
      ]
     },
     "execution_count": 555,
     "metadata": {},
     "output_type": "execute_result"
    }
   ],
   "source": [
    "df.head()"
   ]
  },
  {
   "cell_type": "code",
   "execution_count": 556,
   "metadata": {},
   "outputs": [
    {
     "data": {
      "text/html": [
       "<div>\n",
       "<style>\n",
       "    .dataframe thead tr:only-child th {\n",
       "        text-align: right;\n",
       "    }\n",
       "\n",
       "    .dataframe thead th {\n",
       "        text-align: left;\n",
       "    }\n",
       "\n",
       "    .dataframe tbody tr th {\n",
       "        vertical-align: top;\n",
       "    }\n",
       "</style>\n",
       "<table border=\"1\" class=\"dataframe\">\n",
       "  <thead>\n",
       "    <tr style=\"text-align: right;\">\n",
       "      <th></th>\n",
       "      <th>words</th>\n",
       "      <th>type</th>\n",
       "    </tr>\n",
       "  </thead>\n",
       "  <tbody>\n",
       "    <tr>\n",
       "      <th>0</th>\n",
       "      <td>great fun be have everyone aquarium be small f...</td>\n",
       "      <td>JJ NN VB VB NN NN VB JJ NN VB NN VB NN NN VB NN</td>\n",
       "    </tr>\n",
       "    <tr>\n",
       "      <th>1</th>\n",
       "      <td>prize draw win family ticket sea life don win ...</td>\n",
       "      <td>NN NN VB NN NN NN NN VB VB RB VB RB VB JJ NN V...</td>\n",
       "    </tr>\n",
       "    <tr>\n",
       "      <th>2</th>\n",
       "      <td>be press time head hall coral amazonian exhibi...</td>\n",
       "      <td>VB VB NN NN NN NN JJ NN NN VB RB JJ</td>\n",
       "    </tr>\n",
       "    <tr>\n",
       "      <th>3</th>\n",
       "      <td>sea lion show pm pm daily</td>\n",
       "      <td>NN NN VB NN NN RB</td>\n",
       "    </tr>\n",
       "    <tr>\n",
       "      <th>4</th>\n",
       "      <td>penguin auditorium be rate not good be honest</td>\n",
       "      <td>JJ NN VB VB RB JJ VB JJ</td>\n",
       "    </tr>\n",
       "  </tbody>\n",
       "</table>\n",
       "</div>"
      ],
      "text/plain": [
       "                                               words  \\\n",
       "0  great fun be have everyone aquarium be small f...   \n",
       "1  prize draw win family ticket sea life don win ...   \n",
       "2  be press time head hall coral amazonian exhibi...   \n",
       "3                          sea lion show pm pm daily   \n",
       "4      penguin auditorium be rate not good be honest   \n",
       "\n",
       "                                                type  \n",
       "0    JJ NN VB VB NN NN VB JJ NN VB NN VB NN NN VB NN  \n",
       "1  NN NN VB NN NN NN NN VB VB RB VB RB VB JJ NN V...  \n",
       "2                VB VB NN NN NN NN JJ NN NN VB RB JJ  \n",
       "3                                  NN NN VB NN NN RB  \n",
       "4                            JJ NN VB VB RB JJ VB JJ  "
      ]
     },
     "execution_count": 556,
     "metadata": {},
     "output_type": "execute_result"
    }
   ],
   "source": [
    "df_lem_test = df['clean_lemm']\n",
    "\n",
    "def separate_words_type(df_lem_test):\n",
    "    words=[]\n",
    "    types=[]\n",
    "    df= pd.DataFrame()\n",
    "    for row in df_lem_test:\n",
    "        sent = []\n",
    "        type_ =[]\n",
    "        for word in row:\n",
    "            split = word.split('/')\n",
    "            sent.append(split[0])\n",
    "            type_.append(split[1])\n",
    "\n",
    "        words.append(' '.join(word for word in sent))\n",
    "        types.append(' '.join(word for word in type_))\n",
    "\n",
    "\n",
    "    df['words']= words\n",
    "    df['type']= types\n",
    "    return df\n",
    "\n",
    "df_testing = separate_words_type(df_lem_test)\n",
    "df_testing.head()"
   ]
  },
  {
   "cell_type": "code",
   "execution_count": 557,
   "metadata": {},
   "outputs": [
    {
     "data": {
      "text/plain": [
       "words    0\n",
       "type     0\n",
       "dtype: int64"
      ]
     },
     "execution_count": 557,
     "metadata": {},
     "output_type": "execute_result"
    }
   ],
   "source": [
    "df_testing.isnull().sum()"
   ]
  },
  {
   "cell_type": "markdown",
   "metadata": {},
   "source": [
    "## Visualisations"
   ]
  },
  {
   "cell_type": "code",
   "execution_count": 571,
   "metadata": {},
   "outputs": [],
   "source": [
    "from wordcloud import WordCloud\n",
    "import matplotlib.pyplot as plt"
   ]
  },
  {
   "cell_type": "code",
   "execution_count": 570,
   "metadata": {},
   "outputs": [
    {
     "data": {
      "image/png": "[encoded data removed]",
      "text/plain": [
       "<matplotlib.figure.Figure at 0x1197179d0>"
      ]
     },
     "metadata": {},
     "output_type": "display_data"
    }
   ],
   "source": [
    "words = [word for sent in df.clean_stem for word in sent]\n",
    "\n",
    "wordcloud = WordCloud(width=480, height=480, margin=0).generate(' '.join(words))\n",
    "plt.imshow(wordcloud, interpolation='bilinear')\n",
    "plt.axis(\"off\")\n",
    "plt.margins(x=0, y=0)\n",
    "plt.show()"
   ]
  },
  {
   "cell_type": "markdown",
   "metadata": {},
   "source": [
    "- Word Cloud for Lemmatization Cleaning"
   ]
  },
  {
   "cell_type": "code",
   "execution_count": 560,
   "metadata": {},
   "outputs": [
    {
     "data": {
      "image/png": "[encoded data removed]",
      "text/plain": [
       "<matplotlib.figure.Figure at 0x1198a9490>"
      ]
     },
     "metadata": {},
     "output_type": "display_data"
    }
   ],
   "source": [
    "all_text = ' '.join(word for word in df_testing.words)\n",
    "\n",
    "wordcloud = WordCloud(width=480, height=480, margin=0).generate(all_text)\n",
    "plt.imshow(wordcloud, interpolation='bilinear')\n",
    "plt.axis(\"off\")\n",
    "plt.margins(x=0, y=0)\n",
    "plt.show()"
   ]
  },
  {
   "cell_type": "code",
   "execution_count": 239,
   "metadata": {},
   "outputs": [
    {
     "data": {
      "text/plain": [
       "{}"
      ]
     },
     "execution_count": 239,
     "metadata": {},
     "output_type": "execute_result"
    }
   ],
   "source": [
    "# gensim. look at package to find out about what tags mean what???? and EDA on those tags\n",
    "lemmatize.func_dict look up!"
   ]
  },
  {
   "cell_type": "markdown",
   "metadata": {
    "collapsed": true
   },
   "source": [
    "From looking at the WordClouds I decided that lematisation may be the best option for the preprocessing. Stemming takes away.... the ....lasr bit of the word for normalisation however, it is very difficult to see what that original word once was. Lemitisation...n takes into account the context of the word in the sentece through speech tagging..... stemmnig normalization method"
   ]
  },
  {
   "cell_type": "markdown",
   "metadata": {},
   "source": [
    "## Extracting Training data from ABSA xml\n",
    "already labeled data from metashare. Undergo sentiment analysis annually on newviews\n",
    "http://metashare.ilsp.gr:8080/repository/browse/semeval-2015-absa-restaurant-reviews-train-data/b2ac9c0c198511e4a109842b2b6a04d751e6725f2ab847df88b19ea22cb5cc4a/\n",
    "https://stackoverflow.com/questions/32504950/training-dataset-for-sentiment-analysis-of-restaurant-reviews \n",
    "\n",
    "http://metashare.ilsp.gr:8080/repository/download/b2ac9c0c198511e4a109842b2b6a04d751e6725f2ab847df88b19ea22cb5cc4a/"
   ]
  },
  {
   "cell_type": "code",
   "execution_count": 572,
   "metadata": {
    "collapsed": true
   },
   "outputs": [],
   "source": [
    "import pprint as pp\n",
    "import xml.etree.ElementTree as ET"
   ]
  },
  {
   "cell_type": "code",
   "execution_count": 573,
   "metadata": {
    "scrolled": false
   },
   "outputs": [
    {
     "name": "stderr",
     "output_type": "stream",
     "text": [
      "/Users/annabopeep/anaconda2/lib/python2.7/site-packages/ipykernel_launcher.py:8: DeprecationWarning: This method will be removed in future versions.  Use 'list(elem)' or iteration over elem instead.\n",
      "  \n",
      "/Users/annabopeep/anaconda2/lib/python2.7/site-packages/ipykernel_launcher.py:10: DeprecationWarning: This method will be removed in future versions.  Use 'list(elem)' or iteration over elem instead.\n",
      "  # Remove the CWD from sys.path while we load stuff.\n",
      "/Users/annabopeep/anaconda2/lib/python2.7/site-packages/ipykernel_launcher.py:13: DeprecationWarning: This method will be removed in future versions.  Use 'list(elem)' or iteration over elem instead.\n",
      "  del sys.path[0]\n"
     ]
    },
    {
     "data": {
      "text/html": [
       "<div>\n",
       "<style>\n",
       "    .dataframe thead tr:only-child th {\n",
       "        text-align: right;\n",
       "    }\n",
       "\n",
       "    .dataframe thead th {\n",
       "        text-align: left;\n",
       "    }\n",
       "\n",
       "    .dataframe tbody tr th {\n",
       "        vertical-align: top;\n",
       "    }\n",
       "</style>\n",
       "<table border=\"1\" class=\"dataframe\">\n",
       "  <thead>\n",
       "    <tr style=\"text-align: right;\">\n",
       "      <th></th>\n",
       "      <th>polarity</th>\n",
       "      <th>sentence</th>\n",
       "    </tr>\n",
       "  </thead>\n",
       "  <tbody>\n",
       "    <tr>\n",
       "      <th>0</th>\n",
       "      <td>negative</td>\n",
       "      <td>Judging from previous posts this used to be a ...</td>\n",
       "    </tr>\n",
       "    <tr>\n",
       "      <th>1</th>\n",
       "      <td>negative</td>\n",
       "      <td>We, there were four of us, arrived at noon - t...</td>\n",
       "    </tr>\n",
       "    <tr>\n",
       "      <th>2</th>\n",
       "      <td>negative</td>\n",
       "      <td>They never brought us complimentary noodles, i...</td>\n",
       "    </tr>\n",
       "    <tr>\n",
       "      <th>3</th>\n",
       "      <td>negative</td>\n",
       "      <td>The food was lousy - too sweet or too salty an...</td>\n",
       "    </tr>\n",
       "    <tr>\n",
       "      <th>4</th>\n",
       "      <td>negative</td>\n",
       "      <td>The food was lousy - too sweet or too salty an...</td>\n",
       "    </tr>\n",
       "  </tbody>\n",
       "</table>\n",
       "</div>"
      ],
      "text/plain": [
       "   polarity                                           sentence\n",
       "0  negative  Judging from previous posts this used to be a ...\n",
       "1  negative  We, there were four of us, arrived at noon - t...\n",
       "2  negative  They never brought us complimentary noodles, i...\n",
       "3  negative  The food was lousy - too sweet or too salty an...\n",
       "4  negative  The food was lousy - too sweet or too salty an..."
      ]
     },
     "execution_count": 573,
     "metadata": {},
     "output_type": "execute_result"
    }
   ],
   "source": [
    "xml_path = './NLP/ABSA15_RestaurantsTrain2/ABSA-15_Restaurants_Train_Final.xml'\n",
    "\n",
    "def parse_data_2015(xml_path):\n",
    "    container = []                                              \n",
    "    reviews = ET.parse(xml_path).getroot()                      \n",
    "    \n",
    "    for review in reviews:  \n",
    "        sentences = review.getchildren()[0].getchildren()       \n",
    "        for sentence in sentences:                                  \n",
    "            sentence_text = sentence.getchildren()[0].text          \n",
    "            \n",
    "            try:                                                     \n",
    "                opinions = sentence.getchildren()[1].getchildren()\n",
    "            \n",
    "                for opinion in opinions:                                \n",
    "                    polarity = opinion.attrib[\"polarity\"]\n",
    "                    target = opinion.attrib[\"target\"]\n",
    "        \n",
    "                    row = {\"sentence\": sentence_text, \"polarity\":polarity}   \n",
    "                    container.append(row)                                                              \n",
    "                \n",
    "            except IndexError: \n",
    "                row = {\"sentence\": sentence_text}        \n",
    "                container.append(row)                                                               \n",
    "                \n",
    "    return pd.DataFrame(container)\n",
    "\n",
    "ABSA_df = parse_data_2015(xml_path)\n",
    "ABSA_df.head()"
   ]
  },
  {
   "cell_type": "markdown",
   "metadata": {},
   "source": [
    "### Preprocessing Training Data"
   ]
  },
  {
   "cell_type": "code",
   "execution_count": 574,
   "metadata": {},
   "outputs": [
    {
     "data": {
      "application/vnd.jupyter.widget-view+json": {
       "model_id": "4bba477b70f846f7a97cf7fcd4e75c95",
       "version_major": 2,
       "version_minor": 0
      },
      "text/plain": [
       "A Jupyter Widget"
      ]
     },
     "metadata": {},
     "output_type": "display_data"
    },
    {
     "name": "stdout",
     "output_type": "stream",
     "text": [
      "\n"
     ]
    },
    {
     "data": {
      "text/html": [
       "<div>\n",
       "<style>\n",
       "    .dataframe thead tr:only-child th {\n",
       "        text-align: right;\n",
       "    }\n",
       "\n",
       "    .dataframe thead th {\n",
       "        text-align: left;\n",
       "    }\n",
       "\n",
       "    .dataframe tbody tr th {\n",
       "        vertical-align: top;\n",
       "    }\n",
       "</style>\n",
       "<table border=\"1\" class=\"dataframe\">\n",
       "  <thead>\n",
       "    <tr style=\"text-align: right;\">\n",
       "      <th></th>\n",
       "      <th>words</th>\n",
       "      <th>type</th>\n",
       "    </tr>\n",
       "  </thead>\n",
       "  <tbody>\n",
       "    <tr>\n",
       "      <th>0</th>\n",
       "      <td>judge previous post used be good place not longer</td>\n",
       "      <td>VB JJ NN VB VB JJ NN RB JJ</td>\n",
       "    </tr>\n",
       "    <tr>\n",
       "      <th>1</th>\n",
       "      <td>be arrive noon place be empty staff act be imp...</td>\n",
       "      <td>VB VB NN NN VB JJ NN VB VB VB VB RB JJ</td>\n",
       "    </tr>\n",
       "    <tr>\n",
       "      <th>2</th>\n",
       "      <td>never bring complimentary noodle ignore repeat...</td>\n",
       "      <td>RB VB JJ NN VB JJ NN NN VB NN NN</td>\n",
       "    </tr>\n",
       "    <tr>\n",
       "      <th>3</th>\n",
       "      <td>food be lousy too sweet too salty portion tiny</td>\n",
       "      <td>NN VB JJ RB JJ RB JJ NN JJ</td>\n",
       "    </tr>\n",
       "    <tr>\n",
       "      <th>4</th>\n",
       "      <td>food be lousy too sweet too salty portion tiny</td>\n",
       "      <td>NN VB JJ RB JJ RB JJ NN JJ</td>\n",
       "    </tr>\n",
       "  </tbody>\n",
       "</table>\n",
       "</div>"
      ],
      "text/plain": [
       "                                               words  \\\n",
       "0  judge previous post used be good place not longer   \n",
       "1  be arrive noon place be empty staff act be imp...   \n",
       "2  never bring complimentary noodle ignore repeat...   \n",
       "3     food be lousy too sweet too salty portion tiny   \n",
       "4     food be lousy too sweet too salty portion tiny   \n",
       "\n",
       "                                     type  \n",
       "0              VB JJ NN VB VB JJ NN RB JJ  \n",
       "1  VB VB NN NN VB JJ NN VB VB VB VB RB JJ  \n",
       "2        RB VB JJ NN VB JJ NN NN VB NN NN  \n",
       "3              NN VB JJ RB JJ RB JJ NN JJ  \n",
       "4              NN VB JJ RB JJ RB JJ NN JJ  "
      ]
     },
     "execution_count": 574,
     "metadata": {},
     "output_type": "execute_result"
    }
   ],
   "source": [
    "ABSA_clean = cleaning_normalization(ABSA_df.sentence)\n",
    "df_training = separate_words_type(ABSA_clean)\n",
    "df_training.head()"
   ]
  },
  {
   "cell_type": "markdown",
   "metadata": {},
   "source": [
    "### Convert Polarity\n",
    "- Convert polarity sentiment to numeric format "
   ]
  },
  {
   "cell_type": "code",
   "execution_count": 575,
   "metadata": {},
   "outputs": [
    {
     "data": {
      "text/plain": [
       "positive    1198\n",
       "negative     403\n",
       "neutral       53\n",
       "Name: polarity, dtype: int64"
      ]
     },
     "execution_count": 575,
     "metadata": {},
     "output_type": "execute_result"
    }
   ],
   "source": [
    "ABSA_df.polarity.value_counts()"
   ]
  },
  {
   "cell_type": "code",
   "execution_count": 576,
   "metadata": {},
   "outputs": [
    {
     "data": {
      "text/plain": [
       "2.0    1198\n",
       "0.0     403\n",
       "1.0      53\n",
       "Name: polarity, dtype: int64"
      ]
     },
     "execution_count": 576,
     "metadata": {},
     "output_type": "execute_result"
    }
   ],
   "source": [
    "df_training['polarity']= ABSA_df.polarity.map(lambda x: int(2) if x =='positive' else int(0) if x =='negative' else int(1) if x == 'neutral' else np.nan)\n",
    "df_training['polarity'].value_counts()"
   ]
  },
  {
   "cell_type": "markdown",
   "metadata": {},
   "source": [
    "### Drop Null Values\n",
    "- Because this is my labelled data, I do not want polarity values containing nulls"
   ]
  },
  {
   "cell_type": "code",
   "execution_count": 577,
   "metadata": {
    "scrolled": true
   },
   "outputs": [
    {
     "name": "stdout",
     "output_type": "stream",
     "text": [
      "Original Data: (1849, 3)\n",
      "\n",
      "Null values Present in df :\n",
      "words         0\n",
      "type          0\n",
      "polarity    195\n",
      "dtype: int64\n",
      "\n",
      "Null values dropped: (1654, 3)\n"
     ]
    }
   ],
   "source": [
    "print 'Original Data:', df_training.shape\n",
    "print \n",
    "print 'Null values Present in df :'\n",
    "print df_training.isnull().sum()\n",
    "print \n",
    "df_training = df_training.dropna(axis=0)\n",
    "print 'Null values dropped:', df_training.shape"
   ]
  },
  {
   "cell_type": "markdown",
   "metadata": {},
   "source": [
    "- Dropping rows which appear null when opening csv (see at very end)"
   ]
  },
  {
   "cell_type": "code",
   "execution_count": 587,
   "metadata": {},
   "outputs": [
    {
     "name": "stdout",
     "output_type": "stream",
     "text": [
      "(1654, 3)\n",
      "(3700, 2)\n"
     ]
    }
   ],
   "source": [
    "print df_training.shape\n",
    "print df_testing.shape"
   ]
  },
  {
   "cell_type": "code",
   "execution_count": 588,
   "metadata": {},
   "outputs": [
    {
     "name": "stdout",
     "output_type": "stream",
     "text": [
      "(1654, 3)\n",
      "(3700, 2)\n"
     ]
    }
   ],
   "source": [
    "# drop row 747 training\n",
    "df_training.drop(df_training.index[747])\n",
    "print df_training.shape\n",
    "\n",
    "# drop row 1792 testing\n",
    "df_testing.drop(df_testing.index[1792])\n",
    "print df_testing.shape"
   ]
  },
  {
   "cell_type": "code",
   "execution_count": 589,
   "metadata": {},
   "outputs": [
    {
     "data": {
      "text/plain": [
       "2.0    1198\n",
       "0.0     403\n",
       "1.0      53\n",
       "Name: polarity, dtype: int64"
      ]
     },
     "execution_count": 589,
     "metadata": {},
     "output_type": "execute_result"
    }
   ],
   "source": [
    "df_training.polarity.value_counts()"
   ]
  },
  {
   "cell_type": "code",
   "execution_count": 586,
   "metadata": {},
   "outputs": [
    {
     "data": {
      "text/plain": [
       "polarity    1.480653\n",
       "dtype: float64"
      ]
     },
     "execution_count": 586,
     "metadata": {},
     "output_type": "execute_result"
    }
   ],
   "source": [
    "df_training.mean()"
   ]
  },
  {
   "cell_type": "markdown",
   "metadata": {},
   "source": [
    "### Shape of Data \n",
    "\n",
    "\n",
    "- boostrapping \n",
    "balance the classes 0,1,2\n",
    "sampling data most normal/closest to mean\n",
    "sample from data with replacement\n",
    "\n",
    "\n",
    "- Training > testing \n",
    "training = 1654 \n",
    "testing = 3700\n",
    "\n",
    "Since the training data is small a resampling method is used to increase its size. This ensures the sample of data is large enough to for the Central Limit Theorem to be true and so confidence intervals can give the boundary of the true mean (mu).\n",
    "\n",
    "\n",
    "This data will be split with train_tets_split to analyse the model.\n",
    "\n",
    "\n",
    "\n"
   ]
  },
  {
   "cell_type": "code",
   "execution_count": null,
   "metadata": {
    "collapsed": true
   },
   "outputs": [],
   "source": [
    "from sklearn import cross_validation\n",
    "bs = cross_validation.Bootstrap(9, random_state=0)\n",
    "len(bs)"
   ]
  },
  {
   "cell_type": "code",
   "execution_count": null,
   "metadata": {
    "collapsed": true
   },
   "outputs": [],
   "source": []
  },
  {
   "cell_type": "code",
   "execution_count": null,
   "metadata": {
    "collapsed": true
   },
   "outputs": [],
   "source": []
  },
  {
   "cell_type": "code",
   "execution_count": null,
   "metadata": {
    "collapsed": true
   },
   "outputs": [],
   "source": [
    "def bootstrap(sample, stat_func, iters=1000):\n",
    "    boots = []\n",
    "    for i in range(iters):\n",
    "        random_sample = np.random.choice(sample, replace=True, size=len(sample))\n",
    "        stat = stat_func(random_sample)\n",
    "        boots.append(stat)\n",
    "    return boots"
   ]
  },
  {
   "cell_type": "code",
   "execution_count": 542,
   "metadata": {},
   "outputs": [],
   "source": [
    "def bootstrap_resample(X, n=None):\n",
    "    \"\"\" Bootstrap resample an array_like\n",
    "    Parameters\n",
    "    ----------\n",
    "    X : array_like\n",
    "      data to resample\n",
    "    n : int, optional\n",
    "      length of resampled array, equal to len(X) if n==None\n",
    "    Results\n",
    "    -------\n",
    "    returns X_resamples\n",
    "    \"\"\"\n",
    "    if isinstance(X, pd.Series):\n",
    "        X = X.copy()\n",
    "        X.index = range(len(X.index))\n",
    "    if n == None:\n",
    "        n = len(X)\n",
    "        \n",
    "    resample_i = np.floor(np.random.rand(n)*len(X)).astype(int)\n",
    "    X_resample = np.array(X[resample_i])  # TODO: write a test demonstrating why array() is important\n",
    "    return X_resample"
   ]
  },
  {
   "cell_type": "code",
   "execution_count": 546,
   "metadata": {},
   "outputs": [],
   "source": [
    "df_train_resampled = pd.DataFrame()#index=df_training.index, columns=df_training.columns, dtype=df_training.dtypes)\n",
    "\n",
    "for col in df_training.columns:\n",
    "    df_train_resampled[col] = bootstrap_resample(df_training[col])"
   ]
  },
  {
   "cell_type": "code",
   "execution_count": 547,
   "metadata": {},
   "outputs": [
    {
     "data": {
      "text/plain": [
       "(1654, 3)"
      ]
     },
     "execution_count": 547,
     "metadata": {},
     "output_type": "execute_result"
    }
   ],
   "source": [
    "df_train_resampled.shape"
   ]
  },
  {
   "cell_type": "markdown",
   "metadata": {},
   "source": [
    "## Training and Testing Data \n",
    "- saved as csv"
   ]
  },
  {
   "cell_type": "code",
   "execution_count": 590,
   "metadata": {},
   "outputs": [
    {
     "data": {
      "text/html": [
       "<div>\n",
       "<style>\n",
       "    .dataframe thead tr:only-child th {\n",
       "        text-align: right;\n",
       "    }\n",
       "\n",
       "    .dataframe thead th {\n",
       "        text-align: left;\n",
       "    }\n",
       "\n",
       "    .dataframe tbody tr th {\n",
       "        vertical-align: top;\n",
       "    }\n",
       "</style>\n",
       "<table border=\"1\" class=\"dataframe\">\n",
       "  <thead>\n",
       "    <tr style=\"text-align: right;\">\n",
       "      <th></th>\n",
       "      <th>words</th>\n",
       "      <th>type</th>\n",
       "      <th>polarity</th>\n",
       "    </tr>\n",
       "  </thead>\n",
       "  <tbody>\n",
       "    <tr>\n",
       "      <th>0</th>\n",
       "      <td>judge previous post used be good place not longer</td>\n",
       "      <td>VB JJ NN VB VB JJ NN RB JJ</td>\n",
       "      <td>0.0</td>\n",
       "    </tr>\n",
       "    <tr>\n",
       "      <th>1</th>\n",
       "      <td>be arrive noon place be empty staff act be imp...</td>\n",
       "      <td>VB VB NN NN VB JJ NN VB VB VB VB RB JJ</td>\n",
       "      <td>0.0</td>\n",
       "    </tr>\n",
       "    <tr>\n",
       "      <th>2</th>\n",
       "      <td>never bring complimentary noodle ignore repeat...</td>\n",
       "      <td>RB VB JJ NN VB JJ NN NN VB NN NN</td>\n",
       "      <td>0.0</td>\n",
       "    </tr>\n",
       "    <tr>\n",
       "      <th>3</th>\n",
       "      <td>food be lousy too sweet too salty portion tiny</td>\n",
       "      <td>NN VB JJ RB JJ RB JJ NN JJ</td>\n",
       "      <td>0.0</td>\n",
       "    </tr>\n",
       "    <tr>\n",
       "      <th>4</th>\n",
       "      <td>food be lousy too sweet too salty portion tiny</td>\n",
       "      <td>NN VB JJ RB JJ RB JJ NN JJ</td>\n",
       "      <td>0.0</td>\n",
       "    </tr>\n",
       "  </tbody>\n",
       "</table>\n",
       "</div>"
      ],
      "text/plain": [
       "                                               words  \\\n",
       "0  judge previous post used be good place not longer   \n",
       "1  be arrive noon place be empty staff act be imp...   \n",
       "2  never bring complimentary noodle ignore repeat...   \n",
       "3     food be lousy too sweet too salty portion tiny   \n",
       "4     food be lousy too sweet too salty portion tiny   \n",
       "\n",
       "                                     type  polarity  \n",
       "0              VB JJ NN VB VB JJ NN RB JJ       0.0  \n",
       "1  VB VB NN NN VB JJ NN VB VB VB VB RB JJ       0.0  \n",
       "2        RB VB JJ NN VB JJ NN NN VB NN NN       0.0  \n",
       "3              NN VB JJ RB JJ RB JJ NN JJ       0.0  \n",
       "4              NN VB JJ RB JJ RB JJ NN JJ       0.0  "
      ]
     },
     "execution_count": 590,
     "metadata": {},
     "output_type": "execute_result"
    }
   ],
   "source": [
    "df_training.to_csv('clean_data/training_data.csv', header=True, index=False, encoding='UTF8')\n",
    "df_training.head()"
   ]
  },
  {
   "cell_type": "code",
   "execution_count": 591,
   "metadata": {},
   "outputs": [
    {
     "data": {
      "text/html": [
       "<div>\n",
       "<style>\n",
       "    .dataframe thead tr:only-child th {\n",
       "        text-align: right;\n",
       "    }\n",
       "\n",
       "    .dataframe thead th {\n",
       "        text-align: left;\n",
       "    }\n",
       "\n",
       "    .dataframe tbody tr th {\n",
       "        vertical-align: top;\n",
       "    }\n",
       "</style>\n",
       "<table border=\"1\" class=\"dataframe\">\n",
       "  <thead>\n",
       "    <tr style=\"text-align: right;\">\n",
       "      <th></th>\n",
       "      <th>words</th>\n",
       "      <th>type</th>\n",
       "    </tr>\n",
       "  </thead>\n",
       "  <tbody>\n",
       "    <tr>\n",
       "      <th>0</th>\n",
       "      <td>great fun be have everyone aquarium be small f...</td>\n",
       "      <td>JJ NN VB VB NN NN VB JJ NN VB NN VB NN NN VB NN</td>\n",
       "    </tr>\n",
       "    <tr>\n",
       "      <th>1</th>\n",
       "      <td>prize draw win family ticket sea life don win ...</td>\n",
       "      <td>NN NN VB NN NN NN NN VB VB RB VB RB VB JJ NN V...</td>\n",
       "    </tr>\n",
       "    <tr>\n",
       "      <th>2</th>\n",
       "      <td>be press time head hall coral amazonian exhibi...</td>\n",
       "      <td>VB VB NN NN NN NN JJ NN NN VB RB JJ</td>\n",
       "    </tr>\n",
       "    <tr>\n",
       "      <th>3</th>\n",
       "      <td>sea lion show pm pm daily</td>\n",
       "      <td>NN NN VB NN NN RB</td>\n",
       "    </tr>\n",
       "    <tr>\n",
       "      <th>4</th>\n",
       "      <td>penguin auditorium be rate not good be honest</td>\n",
       "      <td>JJ NN VB VB RB JJ VB JJ</td>\n",
       "    </tr>\n",
       "  </tbody>\n",
       "</table>\n",
       "</div>"
      ],
      "text/plain": [
       "                                               words  \\\n",
       "0  great fun be have everyone aquarium be small f...   \n",
       "1  prize draw win family ticket sea life don win ...   \n",
       "2  be press time head hall coral amazonian exhibi...   \n",
       "3                          sea lion show pm pm daily   \n",
       "4      penguin auditorium be rate not good be honest   \n",
       "\n",
       "                                                type  \n",
       "0    JJ NN VB VB NN NN VB JJ NN VB NN VB NN NN VB NN  \n",
       "1  NN NN VB NN NN NN NN VB VB RB VB RB VB JJ NN V...  \n",
       "2                VB VB NN NN NN NN JJ NN NN VB RB JJ  \n",
       "3                                  NN NN VB NN NN RB  \n",
       "4                            JJ NN VB VB RB JJ VB JJ  "
      ]
     },
     "execution_count": 591,
     "metadata": {},
     "output_type": "execute_result"
    }
   ],
   "source": [
    "df_testing.to_csv('clean_data/testing_data.csv', header=True, index=False, encoding='UTF8')\n",
    "df_testing.head()"
   ]
  },
  {
   "cell_type": "code",
   "execution_count": null,
   "metadata": {
    "collapsed": true
   },
   "outputs": [],
   "source": [
    "# describe data... comment on shape 3420 reviews 6807 words "
   ]
  },
  {
   "cell_type": "markdown",
   "metadata": {},
   "source": [
    "### Null Values found preprocessing"
   ]
  },
  {
   "cell_type": "markdown",
   "metadata": {},
   "source": [
    "### Testing Null"
   ]
  },
  {
   "cell_type": "code",
   "execution_count": 322,
   "metadata": {},
   "outputs": [
    {
     "name": "stdout",
     "output_type": "stream",
     "text": [
      "words    1\n",
      "type     1\n",
      "dtype: int64\n"
     ]
    },
    {
     "data": {
      "text/html": [
       "<div>\n",
       "<style>\n",
       "    .dataframe thead tr:only-child th {\n",
       "        text-align: right;\n",
       "    }\n",
       "\n",
       "    .dataframe thead th {\n",
       "        text-align: left;\n",
       "    }\n",
       "\n",
       "    .dataframe tbody tr th {\n",
       "        vertical-align: top;\n",
       "    }\n",
       "</style>\n",
       "<table border=\"1\" class=\"dataframe\">\n",
       "  <thead>\n",
       "    <tr style=\"text-align: right;\">\n",
       "      <th></th>\n",
       "      <th>words</th>\n",
       "      <th>type</th>\n",
       "    </tr>\n",
       "  </thead>\n",
       "  <tbody>\n",
       "    <tr>\n",
       "      <th>1792</th>\n",
       "      <td>NaN</td>\n",
       "      <td>NaN</td>\n",
       "    </tr>\n",
       "  </tbody>\n",
       "</table>\n",
       "</div>"
      ],
      "text/plain": [
       "     words type\n",
       "1792   NaN  NaN"
      ]
     },
     "execution_count": 322,
     "metadata": {},
     "output_type": "execute_result"
    }
   ],
   "source": [
    "testing = pd.read_csv('./clean_data/testing_data.csv', encoding='utf8')\n",
    "print testing.isnull().sum()\n",
    "testing[testing.words.isnull()]"
   ]
  },
  {
   "cell_type": "code",
   "execution_count": 317,
   "metadata": {},
   "outputs": [
    {
     "data": {
      "text/plain": [
       "words    \n",
       "type     \n",
       "Name: 1792, dtype: object"
      ]
     },
     "execution_count": 317,
     "metadata": {},
     "output_type": "execute_result"
    }
   ],
   "source": [
    "df_testing.loc[1792]"
   ]
  },
  {
   "cell_type": "code",
   "execution_count": 318,
   "metadata": {},
   "outputs": [
    {
     "data": {
      "text/plain": [
       "u'Merece la pena!!!'"
      ]
     },
     "execution_count": 318,
     "metadata": {},
     "output_type": "execute_result"
    }
   ],
   "source": [
    "df.tips.loc[1792]"
   ]
  },
  {
   "cell_type": "markdown",
   "metadata": {},
   "source": [
    "In the testing data null values were found at index 1792. When looking back the raw data is seen to be in a different language and therefore was recognised as forign words in the preprocessing step causing empty entries to be saved to the csv as Null values. "
   ]
  },
  {
   "cell_type": "markdown",
   "metadata": {},
   "source": [
    "### Training null\n",
    "An unexplained null value became aparent when loading the data. This will then be dropped before saving to proceed with the next step"
   ]
  },
  {
   "cell_type": "code",
   "execution_count": 403,
   "metadata": {},
   "outputs": [
    {
     "name": "stdout",
     "output_type": "stream",
     "text": [
      "words       1\n",
      "type        1\n",
      "polarity    0\n",
      "dtype: int64\n"
     ]
    },
    {
     "data": {
      "text/html": [
       "<div>\n",
       "<style>\n",
       "    .dataframe thead tr:only-child th {\n",
       "        text-align: right;\n",
       "    }\n",
       "\n",
       "    .dataframe thead th {\n",
       "        text-align: left;\n",
       "    }\n",
       "\n",
       "    .dataframe tbody tr th {\n",
       "        vertical-align: top;\n",
       "    }\n",
       "</style>\n",
       "<table border=\"1\" class=\"dataframe\">\n",
       "  <thead>\n",
       "    <tr style=\"text-align: right;\">\n",
       "      <th></th>\n",
       "      <th>words</th>\n",
       "      <th>type</th>\n",
       "      <th>polarity</th>\n",
       "    </tr>\n",
       "  </thead>\n",
       "  <tbody>\n",
       "    <tr>\n",
       "      <th>747</th>\n",
       "      <td>NaN</td>\n",
       "      <td>NaN</td>\n",
       "      <td>2.0</td>\n",
       "    </tr>\n",
       "  </tbody>\n",
       "</table>\n",
       "</div>"
      ],
      "text/plain": [
       "    words type  polarity\n",
       "747   NaN  NaN       2.0"
      ]
     },
     "execution_count": 403,
     "metadata": {},
     "output_type": "execute_result"
    }
   ],
   "source": [
    "training = pd.read_csv('./clean_data/training_data.csv', encoding='utf8')\n",
    "print training.isnull().sum()\n",
    "training[training.words.isnull()]"
   ]
  },
  {
   "cell_type": "code",
   "execution_count": 404,
   "metadata": {},
   "outputs": [
    {
     "data": {
      "text/plain": [
       "'price be cheap compare quality service food'"
      ]
     },
     "execution_count": 404,
     "metadata": {},
     "output_type": "execute_result"
    }
   ],
   "source": [
    "df_training.loc[747, 'words']"
   ]
  },
  {
   "cell_type": "code",
   "execution_count": 417,
   "metadata": {},
   "outputs": [
    {
     "data": {
      "text/plain": [
       "'We liked it so much, that we will always make it a point to dine here when we visit New York.'"
      ]
     },
     "execution_count": 417,
     "metadata": {},
     "output_type": "execute_result"
    }
   ],
   "source": [
    "ABSA_df.loc[749,'sentence']"
   ]
  },
  {
   "cell_type": "code",
   "execution_count": 406,
   "metadata": {},
   "outputs": [
    {
     "data": {
      "text/plain": [
       "['price/NN',\n",
       " 'be/VB',\n",
       " 'cheap/RB',\n",
       " 'compare/VB',\n",
       " 'quality/NN',\n",
       " 'service/NN',\n",
       " 'food/NN']"
      ]
     },
     "execution_count": 406,
     "metadata": {},
     "output_type": "execute_result"
    }
   ],
   "source": [
    "ABSA_clean[747]"
   ]
  },
  {
   "cell_type": "code",
   "execution_count": 407,
   "metadata": {},
   "outputs": [
    {
     "data": {
      "text/plain": [
       "words       price be cheap compare quality service food\n",
       "type                               NN VB RB VB NN NN NN\n",
       "polarity                                              2\n",
       "Name: 747, dtype: object"
      ]
     },
     "execution_count": 407,
     "metadata": {},
     "output_type": "execute_result"
    }
   ],
   "source": [
    "df_training.loc[747]"
   ]
  }
 ],
 "metadata": {
  "kernelspec": {
   "display_name": "Python 2",
   "language": "python",
   "name": "python2"
  },
  "language_info": {
   "codemirror_mode": {
    "name": "ipython",
    "version": 2
   },
   "file_extension": ".py",
   "mimetype": "text/x-python",
   "name": "python",
   "nbconvert_exporter": "python",
   "pygments_lexer": "ipython2",
   "version": "2.7.13"
  }
 },
 "nbformat": 4,
 "nbformat_minor": 2
}
