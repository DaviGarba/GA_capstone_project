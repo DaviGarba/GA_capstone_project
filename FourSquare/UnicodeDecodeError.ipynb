{
 "cells": [
  {
   "cell_type": "markdown",
   "metadata": {},
   "source": [
    "## Adding Parent Categories to Venues DF\n"
   ]
  },
  {
   "cell_type": "code",
   "execution_count": 11,
   "metadata": {
    "collapsed": true
   },
   "outputs": [],
   "source": [
    "import pandas as pd\n",
    "from nltk.stem.porter import PorterStemmer \n",
    "import time\n",
    "from tqdm import tqdm_notebook as tqdm"
   ]
  },
  {
   "cell_type": "markdown",
   "metadata": {},
   "source": [
    "### defining decoding text function"
   ]
  },
  {
   "cell_type": "code",
   "execution_count": 12,
   "metadata": {
    "collapsed": true
   },
   "outputs": [],
   "source": [
    "def decoding_text(text):\n",
    "    try:\n",
    "        clean = text.decode(\"utf-8-sig\").replace(u\"\\ufffd\", \"?\")\n",
    "    except:\n",
    "        clean = text\n",
    "    return clean"
   ]
  },
  {
   "cell_type": "code",
   "execution_count": 13,
   "metadata": {
    "collapsed": true
   },
   "outputs": [],
   "source": [
    "def decode_df(df):\n",
    "    for col in df:\n",
    "        try:\n",
    "            for row in tqdm(df[col]):\n",
    "                time.sleep(0.1)\n",
    "                df[col] = decoding_text(row)\n",
    "        except:\n",
    "            pass\n",
    "    return df"
   ]
  },
  {
   "cell_type": "code",
   "execution_count": 14,
   "metadata": {},
   "outputs": [
    {
     "data": {
      "application/vnd.jupyter.widget-view+json": {
       "model_id": "0e535c7b91474a2d992abd017022cc3d",
       "version_major": 2,
       "version_minor": 0
      },
      "text/plain": [
       "A Jupyter Widget"
      ]
     },
     "metadata": {},
     "output_type": "display_data"
    },
    {
     "name": "stdout",
     "output_type": "stream",
     "text": [
      "\n"
     ]
    },
    {
     "name": "stderr",
     "output_type": "stream",
     "text": [
      "Exception in thread Thread-5:\n",
      "Traceback (most recent call last):\n",
      "  File \"/Users/annabopeep/anaconda2/lib/python2.7/threading.py\", line 801, in __bootstrap_inner\n",
      "    self.run()\n",
      "  File \"/Users/annabopeep/anaconda2/lib/python2.7/site-packages/tqdm/_tqdm.py\", line 144, in run\n",
      "    for instance in self.tqdm_cls._instances:\n",
      "  File \"/Users/annabopeep/anaconda2/lib/python2.7/_weakrefset.py\", line 60, in __iter__\n",
      "    for itemref in self.data:\n",
      "RuntimeError: Set changed size during iteration\n",
      "\n"
     ]
    },
    {
     "data": {
      "application/vnd.jupyter.widget-view+json": {
       "model_id": "8b43c04c38c4416db5ecaa8369e08a76",
       "version_major": 2,
       "version_minor": 0
      },
      "text/plain": [
       "A Jupyter Widget"
      ]
     },
     "metadata": {},
     "output_type": "display_data"
    },
    {
     "name": "stdout",
     "output_type": "stream",
     "text": [
      "\n"
     ]
    },
    {
     "data": {
      "application/vnd.jupyter.widget-view+json": {
       "model_id": "44116263dab3486981eab6ea501defb4",
       "version_major": 2,
       "version_minor": 0
      },
      "text/plain": [
       "A Jupyter Widget"
      ]
     },
     "metadata": {},
     "output_type": "display_data"
    },
    {
     "name": "stdout",
     "output_type": "stream",
     "text": [
      "\n"
     ]
    },
    {
     "data": {
      "application/vnd.jupyter.widget-view+json": {
       "model_id": "c80eeb3028614c14b052699e6355cf4d",
       "version_major": 2,
       "version_minor": 0
      },
      "text/plain": [
       "A Jupyter Widget"
      ]
     },
     "metadata": {},
     "output_type": "display_data"
    },
    {
     "name": "stdout",
     "output_type": "stream",
     "text": [
      "\n"
     ]
    },
    {
     "data": {
      "application/vnd.jupyter.widget-view+json": {
       "model_id": "40ec9b68900f4ef981a18b2f0a128516",
       "version_major": 2,
       "version_minor": 0
      },
      "text/plain": [
       "A Jupyter Widget"
      ]
     },
     "metadata": {},
     "output_type": "display_data"
    },
    {
     "data": {
      "application/vnd.jupyter.widget-view+json": {
       "model_id": "5936a38c39794951a5cb3845c7debaa6",
       "version_major": 2,
       "version_minor": 0
      },
      "text/plain": [
       "A Jupyter Widget"
      ]
     },
     "metadata": {},
     "output_type": "display_data"
    },
    {
     "name": "stdout",
     "output_type": "stream",
     "text": [
      "\n"
     ]
    },
    {
     "name": "stderr",
     "output_type": "stream",
     "text": [
      "Exception in thread Thread-9:\n",
      "Traceback (most recent call last):\n",
      "  File \"/Users/annabopeep/anaconda2/lib/python2.7/threading.py\", line 801, in __bootstrap_inner\n",
      "    self.run()\n",
      "  File \"/Users/annabopeep/anaconda2/lib/python2.7/site-packages/tqdm/_tqdm.py\", line 144, in run\n",
      "    for instance in self.tqdm_cls._instances:\n",
      "  File \"/Users/annabopeep/anaconda2/lib/python2.7/_weakrefset.py\", line 60, in __iter__\n",
      "    for itemref in self.data:\n",
      "RuntimeError: Set changed size during iteration\n",
      "\n"
     ]
    },
    {
     "data": {
      "application/vnd.jupyter.widget-view+json": {
       "model_id": "b5cda79d9d574505a10e83c0715438a0",
       "version_major": 2,
       "version_minor": 0
      },
      "text/plain": [
       "A Jupyter Widget"
      ]
     },
     "metadata": {},
     "output_type": "display_data"
    },
    {
     "name": "stdout",
     "output_type": "stream",
     "text": [
      "\n"
     ]
    },
    {
     "data": {
      "text/html": [
       "<div>\n",
       "<style>\n",
       "    .dataframe thead tr:only-child th {\n",
       "        text-align: right;\n",
       "    }\n",
       "\n",
       "    .dataframe thead th {\n",
       "        text-align: left;\n",
       "    }\n",
       "\n",
       "    .dataframe tbody tr th {\n",
       "        vertical-align: top;\n",
       "    }\n",
       "</style>\n",
       "<table border=\"1\" class=\"dataframe\">\n",
       "  <thead>\n",
       "    <tr style=\"text-align: right;\">\n",
       "      <th></th>\n",
       "      <th>venue_name</th>\n",
       "      <th>venue_id</th>\n",
       "      <th>rating</th>\n",
       "      <th>tips</th>\n",
       "      <th>cat_name</th>\n",
       "      <th>cat_id</th>\n",
       "      <th>ll</th>\n",
       "    </tr>\n",
       "  </thead>\n",
       "  <tbody>\n",
       "    <tr>\n",
       "      <th>0</th>\n",
       "      <td>Rish Mix</td>\n",
       "      <td>56b39c20498ea8fecd563d3d</td>\n",
       "      <td>NaN</td>\n",
       "      <td>This is the second of four Jubilee Line Crossi...</td>\n",
       "      <td>Amphitheater</td>\n",
       "      <td>56aa371be4b08b9a8d5734db</td>\n",
       "      <td>51.523882,-0.068887</td>\n",
       "    </tr>\n",
       "    <tr>\n",
       "      <th>1</th>\n",
       "      <td>Rish Mix</td>\n",
       "      <td>56b39c20498ea8fecd563d3d</td>\n",
       "      <td>NaN</td>\n",
       "      <td>This is the second of four Jubilee Line Crossi...</td>\n",
       "      <td>Amphitheater</td>\n",
       "      <td>56aa371be4b08b9a8d5734db</td>\n",
       "      <td>51.523882,-0.068887</td>\n",
       "    </tr>\n",
       "    <tr>\n",
       "      <th>2</th>\n",
       "      <td>Rish Mix</td>\n",
       "      <td>56b39c20498ea8fecd563d3d</td>\n",
       "      <td>NaN</td>\n",
       "      <td>This is the second of four Jubilee Line Crossi...</td>\n",
       "      <td>Amphitheater</td>\n",
       "      <td>56aa371be4b08b9a8d5734db</td>\n",
       "      <td>51.523882,-0.068887</td>\n",
       "    </tr>\n",
       "    <tr>\n",
       "      <th>3</th>\n",
       "      <td>Rish Mix</td>\n",
       "      <td>56b39c20498ea8fecd563d3d</td>\n",
       "      <td>NaN</td>\n",
       "      <td>This is the second of four Jubilee Line Crossi...</td>\n",
       "      <td>Amphitheater</td>\n",
       "      <td>56aa371be4b08b9a8d5734db</td>\n",
       "      <td>51.523882,-0.068887</td>\n",
       "    </tr>\n",
       "    <tr>\n",
       "      <th>4</th>\n",
       "      <td>Rish Mix</td>\n",
       "      <td>56b39c20498ea8fecd563d3d</td>\n",
       "      <td>NaN</td>\n",
       "      <td>This is the second of four Jubilee Line Crossi...</td>\n",
       "      <td>Amphitheater</td>\n",
       "      <td>56aa371be4b08b9a8d5734db</td>\n",
       "      <td>51.523882,-0.068887</td>\n",
       "    </tr>\n",
       "  </tbody>\n",
       "</table>\n",
       "</div>"
      ],
      "text/plain": [
       "  venue_name                  venue_id  rating  \\\n",
       "0   Rish Mix  56b39c20498ea8fecd563d3d     NaN   \n",
       "1   Rish Mix  56b39c20498ea8fecd563d3d     NaN   \n",
       "2   Rish Mix  56b39c20498ea8fecd563d3d     NaN   \n",
       "3   Rish Mix  56b39c20498ea8fecd563d3d     NaN   \n",
       "4   Rish Mix  56b39c20498ea8fecd563d3d     NaN   \n",
       "\n",
       "                                                tips      cat_name  \\\n",
       "0  This is the second of four Jubilee Line Crossi...  Amphitheater   \n",
       "1  This is the second of four Jubilee Line Crossi...  Amphitheater   \n",
       "2  This is the second of four Jubilee Line Crossi...  Amphitheater   \n",
       "3  This is the second of four Jubilee Line Crossi...  Amphitheater   \n",
       "4  This is the second of four Jubilee Line Crossi...  Amphitheater   \n",
       "\n",
       "                     cat_id                   ll  \n",
       "0  56aa371be4b08b9a8d5734db  51.523882,-0.068887  \n",
       "1  56aa371be4b08b9a8d5734db  51.523882,-0.068887  \n",
       "2  56aa371be4b08b9a8d5734db  51.523882,-0.068887  \n",
       "3  56aa371be4b08b9a8d5734db  51.523882,-0.068887  \n",
       "4  56aa371be4b08b9a8d5734db  51.523882,-0.068887  "
      ]
     },
     "execution_count": 14,
     "metadata": {},
     "output_type": "execute_result"
    }
   ],
   "source": [
    "dc_df = decode_df(venues)\n",
    "dc_df.head()"
   ]
  },
  {
   "cell_type": "code",
   "execution_count": 4,
   "metadata": {},
   "outputs": [
    {
     "data": {
      "text/html": [
       "<div>\n",
       "<style>\n",
       "    .dataframe thead tr:only-child th {\n",
       "        text-align: right;\n",
       "    }\n",
       "\n",
       "    .dataframe thead th {\n",
       "        text-align: left;\n",
       "    }\n",
       "\n",
       "    .dataframe tbody tr th {\n",
       "        vertical-align: top;\n",
       "    }\n",
       "</style>\n",
       "<table border=\"1\" class=\"dataframe\">\n",
       "  <thead>\n",
       "    <tr style=\"text-align: right;\">\n",
       "      <th></th>\n",
       "      <th>venue_name</th>\n",
       "      <th>venue_id</th>\n",
       "      <th>rating</th>\n",
       "      <th>tips</th>\n",
       "      <th>cat_name</th>\n",
       "      <th>cat_id</th>\n",
       "      <th>ll</th>\n",
       "    </tr>\n",
       "  </thead>\n",
       "  <tbody>\n",
       "    <tr>\n",
       "      <th>0</th>\n",
       "      <td>Rish Mix</td>\n",
       "      <td>56b39c20498ea8fecd563d3d</td>\n",
       "      <td>NaN</td>\n",
       "      <td>NaN</td>\n",
       "      <td>Amphitheater</td>\n",
       "      <td>56aa371be4b08b9a8d5734db</td>\n",
       "      <td>51.523882,-0.068887</td>\n",
       "    </tr>\n",
       "    <tr>\n",
       "      <th>1</th>\n",
       "      <td>Garden Marquee</td>\n",
       "      <td>56e3505d498e40af95d08042</td>\n",
       "      <td>NaN</td>\n",
       "      <td>NaN</td>\n",
       "      <td>Amphitheater</td>\n",
       "      <td>56aa371be4b08b9a8d5734db</td>\n",
       "      <td>51.526064,-0.13527</td>\n",
       "    </tr>\n",
       "    <tr>\n",
       "      <th>2</th>\n",
       "      <td>Horniman Museum and Gardens</td>\n",
       "      <td>4ac518d2f964a52045a720e3</td>\n",
       "      <td>9.3</td>\n",
       "      <td>Great fun to be had by everyone. The aquarium ...</td>\n",
       "      <td>Aquarium</td>\n",
       "      <td>4fceea171983d5d06c3e9823</td>\n",
       "      <td>51.4409815123,-0.0613689422607</td>\n",
       "    </tr>\n",
       "  </tbody>\n",
       "</table>\n",
       "</div>"
      ],
      "text/plain": [
       "                    venue_name                  venue_id  rating  \\\n",
       "0                     Rish Mix  56b39c20498ea8fecd563d3d     NaN   \n",
       "1               Garden Marquee  56e3505d498e40af95d08042     NaN   \n",
       "2  Horniman Museum and Gardens  4ac518d2f964a52045a720e3     9.3   \n",
       "\n",
       "                                                tips      cat_name  \\\n",
       "0                                                NaN  Amphitheater   \n",
       "1                                                NaN  Amphitheater   \n",
       "2  Great fun to be had by everyone. The aquarium ...      Aquarium   \n",
       "\n",
       "                     cat_id                              ll  \n",
       "0  56aa371be4b08b9a8d5734db             51.523882,-0.068887  \n",
       "1  56aa371be4b08b9a8d5734db              51.526064,-0.13527  \n",
       "2  4fceea171983d5d06c3e9823  51.4409815123,-0.0613689422607  "
      ]
     },
     "execution_count": 4,
     "metadata": {},
     "output_type": "execute_result"
    }
   ],
   "source": [
    "venues = pd.read_csv('./londonvenues.csv')\n",
    "venues.head(3)"
   ]
  },
  {
   "cell_type": "code",
   "execution_count": null,
   "metadata": {
    "collapsed": true
   },
   "outputs": [],
   "source": [
    "venues = venues.drop(['venue_name', 'venue_id', 'll'], axis =1)\n",
    "venues = decode_df(venues)\n",
    "venues = venues.sort_values(['cat_id'], axis =0)\n",
    "venues.head()"
   ]
  },
  {
   "cell_type": "code",
   "execution_count": null,
   "metadata": {
    "collapsed": true
   },
   "outputs": [],
   "source": [
    "cat = pd.read_csv('./raw_data/category_tree.csv')\n",
    "cat.head(3)"
   ]
  },
  {
   "cell_type": "code",
   "execution_count": null,
   "metadata": {
    "collapsed": true
   },
   "outputs": [],
   "source": [
    "# keep only necessary columns\n",
    "categories = cat[['level1_name', 'level2_id', 'level2_name']]\n",
    "categories.columns = ['cat_parent', 'cat_id', 'cat_name']\n",
    "categories = categories.sort_values(['cat_name'], axis =0)\n",
    "categories = categories.dropna(axis=0)\n",
    "categories.head()"
   ]
  },
  {
   "cell_type": "code",
   "execution_count": null,
   "metadata": {
    "collapsed": true
   },
   "outputs": [],
   "source": [
    "print len(categories.cat_name.unique()) \n",
    "print len(venues.cat_name.unique())"
   ]
  },
  {
   "cell_type": "code",
   "execution_count": null,
   "metadata": {
    "collapsed": true
   },
   "outputs": [],
   "source": [
    "# Decoding\n",
    "categories['cat_name'] = decoding_text(categories.cat_name)\n",
    "categories['cat_parent'] = decoding_text(categories.cat_parent)\n",
    "venues['cat_name']= decoding_text(venues.cat_name)\n",
    "venues['tips']= decoding_text(venues.tips)"
   ]
  },
  {
   "cell_type": "code",
   "execution_count": null,
   "metadata": {
    "collapsed": true
   },
   "outputs": [],
   "source": [
    "\n",
    "test = categories.cat_name\n",
    "\n",
    "test_result =[]\n",
    "for t in tqdm(test):\n",
    "    time.sleep(0.1)\n",
    "    test_result.append(decoding_text(test))\n",
    "test_result"
   ]
  },
  {
   "cell_type": "code",
   "execution_count": null,
   "metadata": {
    "collapsed": true
   },
   "outputs": [],
   "source": [
    "from nltk.stem.porter import PorterStemmer \n",
    "import time\n",
    "from tqdm import tqdm_notebook as tqd"
   ]
  },
  {
   "cell_type": "code",
   "execution_count": null,
   "metadata": {
    "collapsed": true
   },
   "outputs": [],
   "source": [
    "def stemming(cat_name):\n",
    "    all_ = []\n",
    "    for name in tqdm(cat_name):\n",
    "        time.sleep(0.1)\n",
    "        ps = PorterStemmer()\n",
    "        words = str(name).split()\n",
    "        print words\n",
    "#         stem = [ps.stem(word) for word in words]\n",
    "#         reformed = \" \".join(stem) \n",
    "#         all_.append(reformed)\n",
    "#     return all_\n",
    "        "
   ]
  },
  {
   "cell_type": "code",
   "execution_count": null,
   "metadata": {
    "collapsed": true
   },
   "outputs": [],
   "source": [
    "cat_cat_name = categories.cat_name[:10]\n",
    "cat_stem = stemming(hey)"
   ]
  },
  {
   "cell_type": "code",
   "execution_count": null,
   "metadata": {
    "collapsed": true
   },
   "outputs": [],
   "source": [
    "cat_stem"
   ]
  },
  {
   "cell_type": "code",
   "execution_count": null,
   "metadata": {
    "collapsed": true
   },
   "outputs": [],
   "source": [
    "ven_cat_name = venues.cat_name\n",
    "venues_stem = stemming(venues.cat_name)"
   ]
  },
  {
   "cell_type": "code",
   "execution_count": null,
   "metadata": {
    "collapsed": true
   },
   "outputs": [],
   "source": [
    "c_u = categories.cat_name.unique()\n",
    "v_u = venues.cat_name.unique()\n",
    "if c_u in v_u:\n",
    "    pass\n",
    "else:\n",
    "    print c_u\n",
    "    print v_u\n",
    "    "
   ]
  },
  {
   "cell_type": "code",
   "execution_count": null,
   "metadata": {
    "collapsed": true
   },
   "outputs": [],
   "source": [
    "# categories = categories.groupby(['cat_parent','cat_name']).sum()\n",
    "# categories.head()"
   ]
  },
  {
   "cell_type": "code",
   "execution_count": null,
   "metadata": {
    "collapsed": true
   },
   "outputs": [],
   "source": [
    "# zip(categories.cat_id.unique(),venues.cat_id.unique())"
   ]
  },
  {
   "cell_type": "code",
   "execution_count": null,
   "metadata": {
    "collapsed": true
   },
   "outputs": [],
   "source": [
    "categories.isnull().sum()"
   ]
  },
  {
   "cell_type": "code",
   "execution_count": null,
   "metadata": {
    "collapsed": true
   },
   "outputs": [],
   "source": [
    "dff = pd.merge(venues, categories, on='cat_id', how='right')\n",
    "dff.head(3)"
   ]
  },
  {
   "cell_type": "code",
   "execution_count": null,
   "metadata": {
    "collapsed": true
   },
   "outputs": [],
   "source": [
    "dff.isnull().sum()"
   ]
  },
  {
   "cell_type": "code",
   "execution_count": null,
   "metadata": {
    "collapsed": true
   },
   "outputs": [],
   "source": [
    "venues.cat_id.unique()"
   ]
  },
  {
   "cell_type": "code",
   "execution_count": null,
   "metadata": {
    "collapsed": true
   },
   "outputs": [],
   "source": [
    "categories.cat_id.unique(),venues.cat_id.unique())"
   ]
  },
  {
   "cell_type": "code",
   "execution_count": null,
   "metadata": {
    "collapsed": true
   },
   "outputs": [],
   "source": [
    "dff.head(20)"
   ]
  },
  {
   "cell_type": "markdown",
   "metadata": {},
   "source": [
    "## Save to CSV file"
   ]
  },
  {
   "cell_type": "code",
   "execution_count": null,
   "metadata": {
    "collapsed": true
   },
   "outputs": [],
   "source": [
    "dff.to_csv('londonvenues_raw.csv', header=True, index=False)"
   ]
  },
  {
   "cell_type": "markdown",
   "metadata": {},
   "source": [
    "- LSI (Latent Semantic Indexing)\n",
    "- LDA (Latent Dirichlet Allocation)\n",
    "- HDP (Hierarchical Dirichlet Process)\n",
    "- Word2Vec\n",
    "- LogisticRegression\n",
    "- Naive Bayes\n",
    "- SVM\n",
    "text blob\n",
    "- DTM (document term matrix)"
   ]
  },
  {
   "cell_type": "code",
   "execution_count": null,
   "metadata": {
    "collapsed": true
   },
   "outputs": [],
   "source": [
    "pd.read_csv('londonvenues_raw.csv').head()"
   ]
  },
  {
   "cell_type": "code",
   "execution_count": null,
   "metadata": {
    "collapsed": true
   },
   "outputs": [],
   "source": []
  },
  {
   "cell_type": "markdown",
   "metadata": {},
   "source": [
    "## Cleaning Text \n",
    "Before NLP can begin the text should be processed to ensure it doesn't contain outliers anomolies??? which can effect the data .... "
   ]
  },
  {
   "cell_type": "markdown",
   "metadata": {},
   "source": [
    "- stop words: predefined language specific libraries. stop words may not be removed but are taken into account when vectorising\n",
    "\n",
    "- punctuation: according to priority  eg: “.”, “,”,”?” are important \n",
    "- Standardizing words: Sometimes words are not in proper formats. For example: “I looooveee you” should be “I love you”. Simple rules and regular expressions can help solve these cases. tweet = ''.join(''.join(s)[:2] for _, s in itertools.groupby(tweet))\n",
    "\n",
    "- \n",
    "When doing NLP, we often find ourselves working with tokenized sentences. Sentences are often separated (tokenized) where ever there is a period. If there are any extra periods within a sentence, for example those used in acronyms (ie U.S.A.) we’ll incorrectly split the sentence. Thus it’s good practice to explore the types of documents you’ll be working to identify these nuances so that they can be properly addressed. Below is an example of how to remove a few of these “dangerous” punctuation marks."
   ]
  },
  {
   "cell_type": "code",
   "execution_count": null,
   "metadata": {
    "collapsed": true
   },
   "outputs": [],
   "source": [
    "tips = df_drop.tips"
   ]
  },
  {
   "cell_type": "markdown",
   "metadata": {},
   "source": [
    "### Removal of non alpha-numeric characters\n",
    "ie different characters from different languages (including any unnecessary punctuation.\n"
   ]
  },
  {
   "cell_type": "code",
   "execution_count": null,
   "metadata": {
    "collapsed": true
   },
   "outputs": [],
   "source": [
    "# import re\n",
    "# for item in df_drop.tips:\n",
    "#     print item\n",
    "#  tips = re.sub('[^A-Za-z .-]+', ' ', tips)???"
   ]
  },
  {
   "cell_type": "markdown",
   "metadata": {},
   "source": [
    "- slang: transformed into standard words to make free text. Helo to Hello. similar to apostrophe look up can be used to convert slangs to standard words. A number of sources are available on the web, which provides lists of all possible slangs, this would be your holy grail and you could use them as lookup dictionaries for conversion purposes. tweet = _slang_loopup(tweet)"
   ]
  },
  {
   "cell_type": "code",
   "execution_count": null,
   "metadata": {
    "collapsed": true
   },
   "outputs": [],
   "source": []
  },
  {
   "cell_type": "code",
   "execution_count": null,
   "metadata": {
    "collapsed": true
   },
   "outputs": [],
   "source": []
  },
  {
   "cell_type": "code",
   "execution_count": null,
   "metadata": {
    "collapsed": true
   },
   "outputs": [],
   "source": []
  },
  {
   "cell_type": "code",
   "execution_count": null,
   "metadata": {
    "collapsed": true
   },
   "outputs": [],
   "source": []
  },
  {
   "cell_type": "code",
   "execution_count": null,
   "metadata": {
    "collapsed": true
   },
   "outputs": [],
   "source": []
  }
 ],
 "metadata": {
  "kernelspec": {
   "display_name": "Python 2",
   "language": "python",
   "name": "python2"
  },
  "language_info": {
   "codemirror_mode": {
    "name": "ipython",
    "version": 2
   },
   "file_extension": ".py",
   "mimetype": "text/x-python",
   "name": "python",
   "nbconvert_exporter": "python",
   "pygments_lexer": "ipython2",
   "version": "2.7.13"
  }
 },
 "nbformat": 4,
 "nbformat_minor": 2
}
