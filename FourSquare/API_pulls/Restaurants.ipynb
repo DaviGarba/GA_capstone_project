{
 "cells": [
  {
   "cell_type": "markdown",
   "metadata": {},
   "source": [
    "# json to DataFrame"
   ]
  },
  {
   "cell_type": "code",
   "execution_count": 1,
   "metadata": {
    "collapsed": true
   },
   "outputs": [],
   "source": [
    "import json\n",
    "import pandas as pd\n",
    "import numpy as np\n",
    "import glob\n",
    "import time\n",
    "from tqdm import *"
   ]
  },
  {
   "cell_type": "markdown",
   "metadata": {
    "collapsed": true
   },
   "source": [
    "## Open All Test Files\n",
    "- use defining functions to form dataframe of all files\n",
    "- each file contains 10,000 pulls"
   ]
  },
  {
   "cell_type": "code",
   "execution_count": 3,
   "metadata": {},
   "outputs": [
    {
     "data": {
      "text/plain": [
       "['./data_params/food/last_saved_dump_10000.json',\n",
       " './data_params/food/saved_dump_30000.json',\n",
       " './data_params/food/saved_dump_20000.json',\n",
       " './data_params/food/saved_dump_10000.json']"
      ]
     },
     "execution_count": 3,
     "metadata": {},
     "output_type": "execute_result"
    }
   ],
   "source": [
    "test ='./data_params/food/'\n",
    "testFiles = glob.glob(test + \"*.json\")\n",
    "testFiles"
   ]
  },
  {
   "cell_type": "code",
   "execution_count": 10,
   "metadata": {},
   "outputs": [
    {
     "name": "stderr",
     "output_type": "stream",
     "text": [
      "100%|██████████| 4/4 [00:00<00:00,  4.80it/s]\n"
     ]
    }
   ],
   "source": [
    "open_ = []\n",
    "for file_ in tqdm(testFiles):\n",
    "    time.sleep(.02)\n",
    "    open_.append(json.load(open(file_)))"
   ]
  },
  {
   "cell_type": "code",
   "execution_count": 11,
   "metadata": {},
   "outputs": [
    {
     "data": {
      "text/plain": [
       "4"
      ]
     },
     "execution_count": 11,
     "metadata": {},
     "output_type": "execute_result"
    }
   ],
   "source": [
    "len(open_)"
   ]
  },
  {
   "cell_type": "code",
   "execution_count": 29,
   "metadata": {
    "scrolled": true
   },
   "outputs": [
    {
     "name": "stdout",
     "output_type": "stream",
     "text": [
      "40000\n"
     ]
    },
    {
     "data": {
      "text/plain": [
       "[{u'venues': [{u'allowMenuUrlEdit': True,\n",
       "    u'beenHere': {u'lastCheckinExpiredAt': 0},\n",
       "    u'categories': [{u'icon': {u'prefix': u'https://ss3.4sqi.net/img/categories_v2/food/asian_',\n",
       "       u'suffix': u'.png'},\n",
       "      u'id': u'4bf58dd8d48988d145941735',\n",
       "      u'name': u'Chinese Restaurant',\n",
       "      u'pluralName': u'Chinese Restaurants',\n",
       "      u'primary': True,\n",
       "      u'shortName': u'Chinese'}],\n",
       "    u'contact': {},\n",
       "    u'hasPerk': False,\n",
       "    u'id': u'50c63cd6e4b0e7fe4f6127c0',\n",
       "    u'location': {u'address': u'885 Old Kent Road',\n",
       "     u'cc': u'GB',\n",
       "     u'city': u'London',\n",
       "     u'country': u'United Kingdom',\n",
       "     u'distance': 131,\n",
       "     u'formattedAddress': [u'885 Old Kent Road',\n",
       "      u'London',\n",
       "      u'Greater London',\n",
       "      u'SE15 1NL',\n",
       "      u'United Kingdom'],\n",
       "     u'labeledLatLngs': [{u'label': u'display',\n",
       "       u'lat': 51.4865143505219,\n",
       "       u'lng': -0.05444364253482732}],\n",
       "     u'lat': 51.4865143505219,\n",
       "     u'lng': -0.05444364253482732,\n",
       "     u'postalCode': u'SE15 1NL',\n",
       "     u'state': u'Greater London'},\n",
       "    u'name': u'Good Fortune',\n",
       "    u'referralId': u'v-1515595638',\n",
       "    u'specials': {u'count': 0, u'items': []},\n",
       "    u'stats': {u'checkinsCount': 2, u'tipCount': 0, u'usersCount': 2},\n",
       "    u'venueChains': [],\n",
       "    u'verified': False},\n",
       "   {u'allowMenuUrlEdit': True,\n",
       "    u'beenHere': {u'lastCheckinExpiredAt': 0},\n",
       "    u'categories': [{u'icon': {u'prefix': u'https://ss3.4sqi.net/img/categories_v2/food/asian_',\n",
       "       u'suffix': u'.png'},\n",
       "      u'id': u'4bf58dd8d48988d145941735',\n",
       "      u'name': u'Chinese Restaurant',\n",
       "      u'pluralName': u'Chinese Restaurants',\n",
       "      u'primary': True,\n",
       "      u'shortName': u'Chinese'}],\n",
       "    u'contact': {},\n",
       "    u'hasPerk': False,\n",
       "    u'id': u'507ef779e4b0c1664369411d',\n",
       "    u'location': {u'cc': u'GB',\n",
       "     u'country': u'United Kingdom',\n",
       "     u'distance': 160,\n",
       "     u'formattedAddress': [u'United Kingdom'],\n",
       "     u'labeledLatLngs': [{u'label': u'display',\n",
       "       u'lat': 51.48818585840045,\n",
       "       u'lng': -0.05692531475609759}],\n",
       "     u'lat': 51.48818585840045,\n",
       "     u'lng': -0.05692531475609759},\n",
       "    u'name': u'Sunrise',\n",
       "    u'referralId': u'v-1515595638',\n",
       "    u'specials': {u'count': 0, u'items': []},\n",
       "    u'stats': {u'checkinsCount': 4, u'tipCount': 0, u'usersCount': 1},\n",
       "    u'venueChains': [],\n",
       "    u'verified': False}]},\n",
       " {u'venues': []},\n",
       " {u'venues': []},\n",
       " {u'venues': []},\n",
       " {u'venues': []}]"
      ]
     },
     "execution_count": 29,
     "metadata": {},
     "output_type": "execute_result"
    }
   ],
   "source": [
    "def json_to_venue_list(list_):\n",
    "    '''raw json data to list of entries (data for each venue) '''\n",
    "    results = []\n",
    "    for data in list_:\n",
    "        for item in data:\n",
    "            results.append(item['response'])\n",
    "            \n",
    "    return results\n",
    "\n",
    "\n",
    "_result = json_to_venue_list(open_)\n",
    "print len(_result)\n",
    "r = _result[35:40]\n",
    "r"
   ]
  },
  {
   "cell_type": "code",
   "execution_count": 30,
   "metadata": {},
   "outputs": [
    {
     "name": "stdout",
     "output_type": "stream",
     "text": [
      "[{u'verified': False, u'name': u'Good Fortune', u'venueChains': [], u'categories': [{u'pluralName': u'Chinese Restaurants', u'primary': True, u'name': u'Chinese Restaurant', u'shortName': u'Chinese', u'id': u'4bf58dd8d48988d145941735', u'icon': {u'prefix': u'https://ss3.4sqi.net/img/categories_v2/food/asian_', u'suffix': u'.png'}}], u'specials': {u'count': 0, u'items': []}, u'allowMenuUrlEdit': True, u'contact': {}, u'hasPerk': False, u'location': {u'distance': 131, u'labeledLatLngs': [{u'lat': 51.4865143505219, u'lng': -0.05444364253482732, u'label': u'display'}], u'city': u'London', u'cc': u'GB', u'country': u'United Kingdom', u'lat': 51.4865143505219, u'state': u'Greater London', u'formattedAddress': [u'885 Old Kent Road', u'London', u'Greater London', u'SE15 1NL', u'United Kingdom'], u'address': u'885 Old Kent Road', u'postalCode': u'SE15 1NL', u'lng': -0.05444364253482732}, u'beenHere': {u'lastCheckinExpiredAt': 0}, u'stats': {u'checkinsCount': 2, u'tipCount': 0, u'usersCount': 2}, u'id': u'50c63cd6e4b0e7fe4f6127c0', u'referralId': u'v-1515595638'}, {u'verified': False, u'name': u'Sunrise', u'venueChains': [], u'categories': [{u'pluralName': u'Chinese Restaurants', u'primary': True, u'name': u'Chinese Restaurant', u'shortName': u'Chinese', u'id': u'4bf58dd8d48988d145941735', u'icon': {u'prefix': u'https://ss3.4sqi.net/img/categories_v2/food/asian_', u'suffix': u'.png'}}], u'specials': {u'count': 0, u'items': []}, u'allowMenuUrlEdit': True, u'contact': {}, u'hasPerk': False, u'location': {u'distance': 160, u'labeledLatLngs': [{u'lat': 51.48818585840045, u'lng': -0.05692531475609759, u'label': u'display'}], u'cc': u'GB', u'country': u'United Kingdom', u'formattedAddress': [u'United Kingdom'], u'lat': 51.48818585840045, u'lng': -0.05692531475609759}, u'beenHere': {u'lastCheckinExpiredAt': 0}, u'stats': {u'checkinsCount': 4, u'tipCount': 0, u'usersCount': 1}, u'id': u'507ef779e4b0c1664369411d', u'referralId': u'v-1515595638'}]\n",
      "[]\n",
      "[]\n",
      "[]\n",
      "[]\n"
     ]
    }
   ],
   "source": [
    "for i in r:\n",
    "    x = i['venues']\n",
    "    print x"
   ]
  },
  {
   "cell_type": "code",
   "execution_count": null,
   "metadata": {
    "collapsed": true
   },
   "outputs": [],
   "source": [
    "venue_name = []\n",
    "venue_id = []\n",
    "rating = []\n",
    "cat_id = []\n",
    "cat_name = []\n",
    "ll = []\n",
    "lng = []\n",
    "lat = []\n",
    "    \n",
    "for i in results:\n",
    "    try: \n",
    "        for item in i['venues']:\n",
    "            venue_name.append(item['name'])\n",
    "            venue_id.append(item['id'])\n",
    "            rating.append(item['rating'])\n",
    "            cat_name.append(item['categories'][0]['name'])\n",
    "            cat_id.append(item['categories'][0]['id'])\n",
    "            ll.append(str(item['location']['lat']) + ',' + str(item['location']['lng']))\n",
    "            lat.append(item['location']['lat'])\n",
    "            lng.append(item['location']['lng'])\n",
    "    except:\n",
    "        venue_name.append(np.nan)\n",
    "        venue_id.append(np.nan)\n",
    "        rating.append(np.nan)\n",
    "        cat_name.append(np.nan)\n",
    "        cat_id.append(np.nan)\n",
    "        ll.append(np.nan)\n",
    "        lat.append(np.nan)\n",
    "        lng.append(np.nan)\n",
    "    \n",
    "cols = ['venue_name', 'venue_id','rating', 'cat_name','cat_id','ll', 'lng', 'lat']\n",
    "venue_dict = {'venue_name': venue_name, 'venue_id':venue_id,'rating':rating, 'cat_name':cat_name,'cat_id':cat_id,'ll':ll, 'lng':lng, 'lat':lat}\n",
    "venues = pd.DataFrame(venue_dict, columns = cols)\n",
    "  "
   ]
  },
  {
   "cell_type": "code",
   "execution_count": null,
   "metadata": {
    "collapsed": true
   },
   "outputs": [],
   "source": []
  }
 ],
 "metadata": {
  "kernelspec": {
   "display_name": "Python 2",
   "language": "python",
   "name": "python2"
  },
  "language_info": {
   "codemirror_mode": {
    "name": "ipython",
    "version": 2
   },
   "file_extension": ".py",
   "mimetype": "text/x-python",
   "name": "python",
   "nbconvert_exporter": "python",
   "pygments_lexer": "ipython2",
   "version": "2.7.13"
  }
 },
 "nbformat": 4,
 "nbformat_minor": 2
}
