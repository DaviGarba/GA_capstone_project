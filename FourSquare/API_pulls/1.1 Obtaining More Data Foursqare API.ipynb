{
 "cells": [
  {
   "cell_type": "markdown",
   "metadata": {},
   "source": [
    "## Foursquare API  to .csv file"
   ]
  },
  {
   "cell_type": "code",
   "execution_count": 2,
   "metadata": {
    "collapsed": true
   },
   "outputs": [],
   "source": [
    "import foursquare\n",
    "import json, requests\n",
    "import urllib\n",
    "import pandas as pd\n",
    "import numpy as np\n",
    "import pprint as pprint\n",
    "import time\n",
    "from tqdm import *\n",
    "\n"
   ]
  },
  {
   "cell_type": "markdown",
   "metadata": {},
   "source": [
    "## Foursquare's API \n",
    "- Client ID and Secret ....."
   ]
  },
  {
   "cell_type": "code",
   "execution_count": 10,
   "metadata": {
    "collapsed": true
   },
   "outputs": [],
   "source": [
    "# %load ./../../../../key/foursquareapi.py\n",
    "\n",
    "CLIENT_SECRET1 = 'AECR3IQNZBLE5TGED2UK3J0MFQWURO33JRM4RMMFVGYRQ13L'\n",
    "CLIENT_ID1 = 'SSME5S2T2JOAUIT1XM1HGDHG5SH10EHS2TFAMUXJQNQGOUSS5'\n",
    "\n",
    "\n",
    "CLIENT_SECRET2 = 'IYHEJAK0VHCDLI3O4FG2NWSQ54WJPKIBGAZU4PGKP3E3044S'\n",
    "CLIENT_ID2 = 'F41SQEZKJSIOJY03ODBHYL4BKPEK5QM1UYD3BPGLHMHJDUTV'\n"
   ]
  },
  {
   "cell_type": "markdown",
   "metadata": {},
   "source": [
    "## Test Response\n",
    "- gathered data from foursquare api and save to new csv \n",
    "\n",
    "- inital test to check response  "
   ]
  },
  {
   "cell_type": "code",
   "execution_count": 13,
   "metadata": {},
   "outputs": [
    {
     "data": {
      "text/plain": [
       "<Response [200]>"
      ]
     },
     "execution_count": 13,
     "metadata": {},
     "output_type": "execute_result"
    }
   ],
   "source": [
    "# First Request Test\n",
    "url = 'https://api.foursquare.com/v2/venues/explore'\n",
    "params = dict(\n",
    "  client_id= CLIENT_ID2,\n",
    "  client_secret= CLIENT_SECRET2,\n",
    "  v='20170801',\n",
    "  ll='51.5074,0.1278',\n",
    "  section = 'topPick',\n",
    "  limit=100\n",
    ")\n",
    "resp = requests.get(url=url, params=params)\n",
    "data = json.loads(resp.text)\n",
    "# raw = response.read().decode('utf8')?????\n",
    "resp"
   ]
  },
  {
   "cell_type": "code",
   "execution_count": 5,
   "metadata": {
    "collapsed": true
   },
   "outputs": [],
   "source": [
    "# http://www.nltk.org/book/ch03.html decodeeeeeee"
   ]
  },
  {
   "cell_type": "markdown",
   "metadata": {},
   "source": [
    "## Categories \n",
    "- I decided to choose different categories.  \n",
    "- use of csv category from foursquare \n",
    "https://developer.foursquare.com/docs/resources/categories"
   ]
  },
  {
   "cell_type": "code",
   "execution_count": 116,
   "metadata": {},
   "outputs": [
    {
     "data": {
      "text/html": [
       "<div>\n",
       "<style>\n",
       "    .dataframe thead tr:only-child th {\n",
       "        text-align: right;\n",
       "    }\n",
       "\n",
       "    .dataframe thead th {\n",
       "        text-align: left;\n",
       "    }\n",
       "\n",
       "    .dataframe tbody tr th {\n",
       "        vertical-align: top;\n",
       "    }\n",
       "</style>\n",
       "<table border=\"1\" class=\"dataframe\">\n",
       "  <thead>\n",
       "    <tr style=\"text-align: right;\">\n",
       "      <th></th>\n",
       "      <th>level1_name</th>\n",
       "      <th>level1_id</th>\n",
       "      <th>level2_name</th>\n",
       "      <th>level2_id</th>\n",
       "      <th>level3_name</th>\n",
       "      <th>level3_id</th>\n",
       "      <th>level4_name</th>\n",
       "      <th>level4_id</th>\n",
       "    </tr>\n",
       "  </thead>\n",
       "  <tbody>\n",
       "    <tr>\n",
       "      <th>0</th>\n",
       "      <td>Arts &amp; Entertainment</td>\n",
       "      <td>4d4b7104d754a06370d81259</td>\n",
       "      <td>Amphitheaters</td>\n",
       "      <td>56aa371be4b08b9a8d5734db</td>\n",
       "      <td>NaN</td>\n",
       "      <td>NaN</td>\n",
       "      <td>NaN</td>\n",
       "      <td>NaN</td>\n",
       "    </tr>\n",
       "    <tr>\n",
       "      <th>1</th>\n",
       "      <td>Arts &amp; Entertainment</td>\n",
       "      <td>4d4b7104d754a06370d81259</td>\n",
       "      <td>Aquariums</td>\n",
       "      <td>4fceea171983d5d06c3e9823</td>\n",
       "      <td>NaN</td>\n",
       "      <td>NaN</td>\n",
       "      <td>NaN</td>\n",
       "      <td>NaN</td>\n",
       "    </tr>\n",
       "    <tr>\n",
       "      <th>2</th>\n",
       "      <td>Arts &amp; Entertainment</td>\n",
       "      <td>4d4b7104d754a06370d81259</td>\n",
       "      <td>Arcades</td>\n",
       "      <td>4bf58dd8d48988d1e1931735</td>\n",
       "      <td>NaN</td>\n",
       "      <td>NaN</td>\n",
       "      <td>NaN</td>\n",
       "      <td>NaN</td>\n",
       "    </tr>\n",
       "  </tbody>\n",
       "</table>\n",
       "</div>"
      ],
      "text/plain": [
       "            level1_name                 level1_id    level2_name  \\\n",
       "0  Arts & Entertainment  4d4b7104d754a06370d81259  Amphitheaters   \n",
       "1  Arts & Entertainment  4d4b7104d754a06370d81259      Aquariums   \n",
       "2  Arts & Entertainment  4d4b7104d754a06370d81259        Arcades   \n",
       "\n",
       "                  level2_id level3_name level3_id level4_name level4_id  \n",
       "0  56aa371be4b08b9a8d5734db         NaN       NaN         NaN       NaN  \n",
       "1  4fceea171983d5d06c3e9823         NaN       NaN         NaN       NaN  \n",
       "2  4bf58dd8d48988d1e1931735         NaN       NaN         NaN       NaN  "
      ]
     },
     "execution_count": 116,
     "metadata": {},
     "output_type": "execute_result"
    }
   ],
   "source": [
    "cat = pd.read_csv('./raw_data/category_tree.csv')\n",
    "cat.head(3)"
   ]
  },
  {
   "cell_type": "code",
   "execution_count": 117,
   "metadata": {},
   "outputs": [
    {
     "data": {
      "text/html": [
       "<div>\n",
       "<style>\n",
       "    .dataframe thead tr:only-child th {\n",
       "        text-align: right;\n",
       "    }\n",
       "\n",
       "    .dataframe thead th {\n",
       "        text-align: left;\n",
       "    }\n",
       "\n",
       "    .dataframe tbody tr th {\n",
       "        vertical-align: top;\n",
       "    }\n",
       "</style>\n",
       "<table border=\"1\" class=\"dataframe\">\n",
       "  <thead>\n",
       "    <tr style=\"text-align: right;\">\n",
       "      <th></th>\n",
       "      <th>cat_parent</th>\n",
       "      <th>cat_id</th>\n",
       "      <th>cat_name</th>\n",
       "    </tr>\n",
       "  </thead>\n",
       "  <tbody>\n",
       "    <tr>\n",
       "      <th>642</th>\n",
       "      <td>Shops &amp; Services</td>\n",
       "      <td>52f2ab2ebcbc57f1066b8b56</td>\n",
       "      <td>ATMs</td>\n",
       "    </tr>\n",
       "    <tr>\n",
       "      <th>638</th>\n",
       "      <td>Shops &amp; Services</td>\n",
       "      <td>5267e446e4b0ec79466e48c4</td>\n",
       "      <td>Adult Boutiques</td>\n",
       "    </tr>\n",
       "    <tr>\n",
       "      <th>111</th>\n",
       "      <td>Food</td>\n",
       "      <td>503288ae91d4c4b30a586d67</td>\n",
       "      <td>Afghan Restaurants</td>\n",
       "    </tr>\n",
       "    <tr>\n",
       "      <th>113</th>\n",
       "      <td>Food</td>\n",
       "      <td>4bf58dd8d48988d1c8941735</td>\n",
       "      <td>African Restaurants</td>\n",
       "    </tr>\n",
       "    <tr>\n",
       "      <th>112</th>\n",
       "      <td>Food</td>\n",
       "      <td>4bf58dd8d48988d1c8941735</td>\n",
       "      <td>African Restaurants</td>\n",
       "    </tr>\n",
       "  </tbody>\n",
       "</table>\n",
       "</div>"
      ],
      "text/plain": [
       "           cat_parent                    cat_id             cat_name\n",
       "642  Shops & Services  52f2ab2ebcbc57f1066b8b56                 ATMs\n",
       "638  Shops & Services  5267e446e4b0ec79466e48c4      Adult Boutiques\n",
       "111              Food  503288ae91d4c4b30a586d67   Afghan Restaurants\n",
       "113              Food  4bf58dd8d48988d1c8941735  African Restaurants\n",
       "112              Food  4bf58dd8d48988d1c8941735  African Restaurants"
      ]
     },
     "execution_count": 117,
     "metadata": {},
     "output_type": "execute_result"
    }
   ],
   "source": [
    "# keep only necessary columns\n",
    "cat = cat[['level1_name', 'level2_id', 'level2_name']]\n",
    "cat.columns = ['cat_parent', 'cat_id', 'cat_name']\n",
    "cat = categories.dropna(axis=0)\n",
    "cat.head()"
   ]
  },
  {
   "cell_type": "code",
   "execution_count": 119,
   "metadata": {},
   "outputs": [
    {
     "data": {
      "text/plain": [
       "array(['Shops & Services', 'Food', 'Travel & Transport',\n",
       "       'Arts & Entertainment', 'Professional & Other Places',\n",
       "       'Residences', 'Outdoors & Recreation', 'Nightlife Spots', 'Events',\n",
       "       'Colleges & Universities'], dtype=object)"
      ]
     },
     "execution_count": 119,
     "metadata": {},
     "output_type": "execute_result"
    }
   ],
   "source": [
    "cat.cat_parent.unique()"
   ]
  },
  {
   "cell_type": "code",
   "execution_count": 120,
   "metadata": {},
   "outputs": [
    {
     "name": "stdout",
     "output_type": "stream",
     "text": [
      "(304, 3)\n"
     ]
    },
    {
     "data": {
      "text/html": [
       "<div>\n",
       "<style>\n",
       "    .dataframe thead tr:only-child th {\n",
       "        text-align: right;\n",
       "    }\n",
       "\n",
       "    .dataframe thead th {\n",
       "        text-align: left;\n",
       "    }\n",
       "\n",
       "    .dataframe tbody tr th {\n",
       "        vertical-align: top;\n",
       "    }\n",
       "</style>\n",
       "<table border=\"1\" class=\"dataframe\">\n",
       "  <thead>\n",
       "    <tr style=\"text-align: right;\">\n",
       "      <th></th>\n",
       "      <th>cat_parent</th>\n",
       "      <th>cat_id</th>\n",
       "      <th>cat_name</th>\n",
       "    </tr>\n",
       "  </thead>\n",
       "  <tbody>\n",
       "    <tr>\n",
       "      <th>111</th>\n",
       "      <td>Food</td>\n",
       "      <td>503288ae91d4c4b30a586d67</td>\n",
       "      <td>Afghan Restaurants</td>\n",
       "    </tr>\n",
       "    <tr>\n",
       "      <th>113</th>\n",
       "      <td>Food</td>\n",
       "      <td>4bf58dd8d48988d1c8941735</td>\n",
       "      <td>African Restaurants</td>\n",
       "    </tr>\n",
       "    <tr>\n",
       "      <th>112</th>\n",
       "      <td>Food</td>\n",
       "      <td>4bf58dd8d48988d1c8941735</td>\n",
       "      <td>African Restaurants</td>\n",
       "    </tr>\n",
       "    <tr>\n",
       "      <th>114</th>\n",
       "      <td>Food</td>\n",
       "      <td>4bf58dd8d48988d14e941735</td>\n",
       "      <td>American Restaurants</td>\n",
       "    </tr>\n",
       "    <tr>\n",
       "      <th>115</th>\n",
       "      <td>Food</td>\n",
       "      <td>4bf58dd8d48988d14e941735</td>\n",
       "      <td>American Restaurants</td>\n",
       "    </tr>\n",
       "  </tbody>\n",
       "</table>\n",
       "</div>"
      ],
      "text/plain": [
       "    cat_parent                    cat_id              cat_name\n",
       "111       Food  503288ae91d4c4b30a586d67    Afghan Restaurants\n",
       "113       Food  4bf58dd8d48988d1c8941735   African Restaurants\n",
       "112       Food  4bf58dd8d48988d1c8941735   African Restaurants\n",
       "114       Food  4bf58dd8d48988d14e941735  American Restaurants\n",
       "115       Food  4bf58dd8d48988d14e941735  American Restaurants"
      ]
     },
     "execution_count": 120,
     "metadata": {},
     "output_type": "execute_result"
    }
   ],
   "source": [
    "food_cat = cat[cat['cat_parent'] == 'Food']\n",
    "print food_cat.shape\n",
    "food_cat.head()"
   ]
  },
  {
   "cell_type": "code",
   "execution_count": 130,
   "metadata": {},
   "outputs": [
    {
     "data": {
      "text/plain": [
       "89"
      ]
     },
     "execution_count": 130,
     "metadata": {},
     "output_type": "execute_result"
    }
   ],
   "source": [
    "sub_cat_id = food_cat.cat_id.unique()\n",
    "len(sub_cat_id)"
   ]
  },
  {
   "cell_type": "markdown",
   "metadata": {},
   "source": [
    "## Long Lat Tube Stations \n",
    "- csv of locations of tube stations, source from doogal which specialises in UK postcodes and geolocations and map data.\n",
    "https://www.doogal.co.uk/london_stations.php\n"
   ]
  },
  {
   "cell_type": "code",
   "execution_count": 127,
   "metadata": {},
   "outputs": [
    {
     "data": {
      "text/html": [
       "<div>\n",
       "<style>\n",
       "    .dataframe thead tr:only-child th {\n",
       "        text-align: right;\n",
       "    }\n",
       "\n",
       "    .dataframe thead th {\n",
       "        text-align: left;\n",
       "    }\n",
       "\n",
       "    .dataframe tbody tr th {\n",
       "        vertical-align: top;\n",
       "    }\n",
       "</style>\n",
       "<table border=\"1\" class=\"dataframe\">\n",
       "  <thead>\n",
       "    <tr style=\"text-align: right;\">\n",
       "      <th></th>\n",
       "      <th>Station</th>\n",
       "      <th>OS X</th>\n",
       "      <th>OS Y</th>\n",
       "      <th>Latitude</th>\n",
       "      <th>Longitude</th>\n",
       "      <th>Zone</th>\n",
       "      <th>Postcode</th>\n",
       "    </tr>\n",
       "  </thead>\n",
       "  <tbody>\n",
       "    <tr>\n",
       "      <th>0</th>\n",
       "      <td>Abbey Road</td>\n",
       "      <td>539081</td>\n",
       "      <td>183352</td>\n",
       "      <td>51.531952</td>\n",
       "      <td>0.003723</td>\n",
       "      <td>3</td>\n",
       "      <td>E15 3NB</td>\n",
       "    </tr>\n",
       "    <tr>\n",
       "      <th>1</th>\n",
       "      <td>Abbey Wood</td>\n",
       "      <td>547297</td>\n",
       "      <td>179002</td>\n",
       "      <td>51.490784</td>\n",
       "      <td>0.120272</td>\n",
       "      <td>4</td>\n",
       "      <td>SE2 9RH</td>\n",
       "    </tr>\n",
       "    <tr>\n",
       "      <th>2</th>\n",
       "      <td>Acton</td>\n",
       "      <td>520296</td>\n",
       "      <td>181196</td>\n",
       "      <td>51.516887</td>\n",
       "      <td>-0.267690</td>\n",
       "      <td>3</td>\n",
       "      <td>W3 0BP</td>\n",
       "    </tr>\n",
       "  </tbody>\n",
       "</table>\n",
       "</div>"
      ],
      "text/plain": [
       "      Station    OS X    OS Y   Latitude  Longitude Zone Postcode\n",
       "0  Abbey Road  539081  183352  51.531952   0.003723    3  E15 3NB\n",
       "1  Abbey Wood  547297  179002  51.490784   0.120272    4  SE2 9RH\n",
       "2       Acton  520296  181196  51.516887  -0.267690    3   W3 0BP"
      ]
     },
     "execution_count": 127,
     "metadata": {},
     "output_type": "execute_result"
    }
   ],
   "source": [
    "stations_raw = pd.read_csv('./raw_data/London stations.csv')\n",
    "# only stations zone 1-4\n",
    "stations = stations_raw[(stations_raw['Zone'] == \"4\") |(stations_raw['Zone'] == \"3\")|\n",
    "                       (stations_raw['Zone'] == \"2\")|(stations_raw['Zone'] == \"1\")]\n",
    "\n",
    "stations.head(3)"
   ]
  },
  {
   "cell_type": "code",
   "execution_count": 128,
   "metadata": {
    "collapsed": true
   },
   "outputs": [],
   "source": [
    "latlong = list(stations.Latitude.apply(str) + ',' + stations.Longitude.apply(str))"
   ]
  },
  {
   "cell_type": "markdown",
   "metadata": {},
   "source": [
    "##  Categories in Locations \n",
    "- parameter combinations"
   ]
  },
  {
   "cell_type": "code",
   "execution_count": 131,
   "metadata": {},
   "outputs": [
    {
     "data": {
      "text/plain": [
       "36935"
      ]
     },
     "execution_count": 131,
     "metadata": {},
     "output_type": "execute_result"
    }
   ],
   "source": [
    "len(latlong)*len(sub_cat_id)"
   ]
  },
  {
   "cell_type": "code",
   "execution_count": 133,
   "metadata": {},
   "outputs": [
    {
     "name": "stdout",
     "output_type": "stream",
     "text": [
      "{'ll': '51.5319519867,0.00372337109717', 'limit': 100, 'client_id': 'F41SQEZKJSIOJY03ODBHYL4BKPEK5QM1UYD3BPGLHMHJDUTV', 'v': '20171001', 'radius': 250, 'client_secret': 'IYHEJAK0VHCDLI3O4FG2NWSQ54WJPKIBGAZU4PGKP3E3044S', 'intent': 'browse', 'categoryId': '52e81612bcbc57f1066b7a01'}\n",
      "36935\n"
     ]
    }
   ],
   "source": [
    "all_params = []\n",
    "for ll in latlong:\n",
    "    for cat in sub_cat_id:   \n",
    "        all_params.append(dict( client_id= CLIENT_ID2, client_secret= CLIENT_SECRET2,\n",
    "                         ll= ll,\n",
    "                         radius = 250,\n",
    "                         v='20171001',\n",
    "                         limit = 100, \n",
    "                         intent='browse',\n",
    "                         categoryId = cat))    \n",
    "print all_params[5]\n",
    "print len(all_params)"
   ]
  },
  {
   "cell_type": "markdown",
   "metadata": {},
   "source": [
    "# Restaurant Search \n",
    "- 36935 parameters \n",
    "- reqested from API and saved straight to json files"
   ]
  },
  {
   "cell_type": "code",
   "execution_count": 141,
   "metadata": {},
   "outputs": [
    {
     "name": "stderr",
     "output_type": "stream",
     "text": [
      "100%|██████████| 10000/10000 [36:15<00:00,  4.60it/s]"
     ]
    },
    {
     "name": "stdout",
     "output_type": "stream",
     "text": [
      "last_saved_dump_10000.json\n"
     ]
    },
    {
     "name": "stderr",
     "output_type": "stream",
     "text": [
      "\n"
     ]
    }
   ],
   "source": [
    "last=all_params[-10000:]\n",
    "url_london = 'https://api.foursquare.com/v2/venues/search'\n",
    "\n",
    "data = []\n",
    "i = 0\n",
    "\n",
    "for params in tqdm(last):     \n",
    "        time.sleep(.02)\n",
    "        resp = requests.get(url=url_london, params=params)\n",
    "        data.append(json.loads(resp.text))\n",
    "        \n",
    "        i+=1\n",
    "        \n",
    "        if i % 10000 == 0:\n",
    "            title = 'last_saved_dump_{0}.json'.format(i)   \n",
    "            d = json.dumps(data)\n",
    "            with open (\"./data_params/food/\"+ title, \"w\") as f:\n",
    "                f.write(d)          \n",
    "            \n",
    "            print title\n",
    "            data = []"
   ]
  },
  {
   "cell_type": "code",
   "execution_count": 139,
   "metadata": {},
   "outputs": [
    {
     "name": "stderr",
     "output_type": "stream",
     "text": [
      " 27%|██▋       | 10001/36935 [29:37<1:19:47,  5.63it/s]"
     ]
    },
    {
     "name": "stdout",
     "output_type": "stream",
     "text": [
      "saved_dump_10000.json\n"
     ]
    },
    {
     "name": "stderr",
     "output_type": "stream",
     "text": [
      " 54%|█████▍    | 20000/36935 [57:27<48:39,  5.80it/s]  "
     ]
    },
    {
     "name": "stdout",
     "output_type": "stream",
     "text": [
      "saved_dump_20000.json\n"
     ]
    },
    {
     "name": "stderr",
     "output_type": "stream",
     "text": [
      " 81%|████████  | 30001/36935 [1:28:00<20:20,  5.68it/s]"
     ]
    },
    {
     "name": "stdout",
     "output_type": "stream",
     "text": [
      "saved_dump_30000.json\n"
     ]
    },
    {
     "name": "stderr",
     "output_type": "stream",
     "text": [
      "100%|██████████| 36935/36935 [1:49:39<00:00,  5.61it/s]\n"
     ]
    }
   ],
   "source": [
    "url_london = 'https://api.foursquare.com/v2/venues/search'\n",
    "\n",
    "data = []\n",
    "i = 0\n",
    "\n",
    "for params in tqdm(all_params):     \n",
    "        time.sleep(.02)\n",
    "        resp = requests.get(url=url_london, params=params)\n",
    "        data.append(json.loads(resp.text))\n",
    "        \n",
    "        i+=1\n",
    "        \n",
    "        if i % 10000 == 0:\n",
    "            title = 'saved_dump_{0}.json'.format(i)   \n",
    "            d = json.dumps(data)\n",
    "            with open (\"./data_params/food/\"+ title, \"w\") as f:\n",
    "                f.write(d)          \n",
    "            \n",
    "            print title\n",
    "            data = []"
   ]
  },
  {
   "cell_type": "code",
   "execution_count": null,
   "metadata": {
    "collapsed": true
   },
   "outputs": [],
   "source": []
  },
  {
   "cell_type": "markdown",
   "metadata": {},
   "source": [
    "# Test Venue Search \n",
    "- 1050 parameters \n",
    "- reqested from API and saved straight to json files"
   ]
  },
  {
   "cell_type": "code",
   "execution_count": 24,
   "metadata": {
    "collapsed": true
   },
   "outputs": [],
   "source": [
    "test_params = all_params[1000:2050]"
   ]
  },
  {
   "cell_type": "code",
   "execution_count": 25,
   "metadata": {},
   "outputs": [
    {
     "name": "stderr",
     "output_type": "stream",
     "text": [
      " 10%|▉         | 100/1050 [00:20<03:10,  4.99it/s]"
     ]
    },
    {
     "name": "stdout",
     "output_type": "stream",
     "text": [
      "saved_dump_100.json\n"
     ]
    },
    {
     "name": "stderr",
     "output_type": "stream",
     "text": [
      " 19%|█▉        | 200/1050 [00:42<03:01,  4.69it/s]"
     ]
    },
    {
     "name": "stdout",
     "output_type": "stream",
     "text": [
      "saved_dump_200.json\n"
     ]
    },
    {
     "name": "stderr",
     "output_type": "stream",
     "text": [
      " 29%|██▊       | 301/1050 [01:03<02:38,  4.73it/s]"
     ]
    },
    {
     "name": "stdout",
     "output_type": "stream",
     "text": [
      "saved_dump_300.json\n"
     ]
    },
    {
     "name": "stderr",
     "output_type": "stream",
     "text": [
      " 38%|███▊      | 401/1050 [01:23<02:14,  4.82it/s]"
     ]
    },
    {
     "name": "stdout",
     "output_type": "stream",
     "text": [
      "saved_dump_400.json\n"
     ]
    },
    {
     "name": "stderr",
     "output_type": "stream",
     "text": [
      " 48%|████▊     | 501/1050 [01:44<01:54,  4.80it/s]"
     ]
    },
    {
     "name": "stdout",
     "output_type": "stream",
     "text": [
      "saved_dump_500.json\n"
     ]
    },
    {
     "name": "stderr",
     "output_type": "stream",
     "text": [
      " 57%|█████▋    | 601/1050 [02:04<01:33,  4.82it/s]"
     ]
    },
    {
     "name": "stdout",
     "output_type": "stream",
     "text": [
      "saved_dump_600.json\n"
     ]
    },
    {
     "name": "stderr",
     "output_type": "stream",
     "text": [
      " 67%|██████▋   | 701/1050 [02:24<01:11,  4.86it/s]"
     ]
    },
    {
     "name": "stdout",
     "output_type": "stream",
     "text": [
      "saved_dump_700.json\n"
     ]
    },
    {
     "name": "stderr",
     "output_type": "stream",
     "text": [
      " 76%|███████▌  | 800/1050 [02:43<00:51,  4.89it/s]"
     ]
    },
    {
     "name": "stdout",
     "output_type": "stream",
     "text": [
      "saved_dump_800.json\n"
     ]
    },
    {
     "name": "stderr",
     "output_type": "stream",
     "text": [
      " 86%|████████▌ | 901/1050 [03:04<00:30,  4.89it/s]"
     ]
    },
    {
     "name": "stdout",
     "output_type": "stream",
     "text": [
      "saved_dump_900.json\n"
     ]
    },
    {
     "name": "stderr",
     "output_type": "stream",
     "text": [
      " 95%|█████████▌| 1001/1050 [03:23<00:09,  4.92it/s]"
     ]
    },
    {
     "name": "stdout",
     "output_type": "stream",
     "text": [
      "saved_dump_1000.json\n"
     ]
    },
    {
     "name": "stderr",
     "output_type": "stream",
     "text": [
      "100%|██████████| 1050/1050 [03:33<00:00,  4.91it/s]\n"
     ]
    }
   ],
   "source": [
    "url_london = 'https://api.foursquare.com/v2/venues/search'\n",
    "\n",
    "data = []\n",
    "i = 0\n",
    "\n",
    "for params in tqdm(test_params):     \n",
    "        time.sleep(.02)\n",
    "        resp = requests.get(url=url_london, params=params)\n",
    "        data.append(json.loads(resp.text))\n",
    "        \n",
    "        i+=1\n",
    "        \n",
    "        if i % 100 == 0:\n",
    "            title = 'saved_dump_{0}.json'.format(i)   \n",
    "            d = json.dumps(data)\n",
    "            with open (\"./data_params/test/\"+ title, \"w\") as f:\n",
    "                f.write(d)          \n",
    "                \n",
    "            print title\n",
    "            data = []"
   ]
  },
  {
   "cell_type": "code",
   "execution_count": null,
   "metadata": {
    "collapsed": true
   },
   "outputs": [],
   "source": []
  },
  {
   "cell_type": "markdown",
   "metadata": {},
   "source": [
    "## Complete Venues Search\n",
    "- Obtaining requests and json files for each parameter combination\n",
    "- only 100,000 requests every 24 hours \n",
    "- so separation of parameters and running will be done separately"
   ]
  },
  {
   "cell_type": "code",
   "execution_count": 26,
   "metadata": {},
   "outputs": [
    {
     "data": {
      "text/plain": [
       "175960"
      ]
     },
     "execution_count": 26,
     "metadata": {},
     "output_type": "execute_result"
    }
   ],
   "source": [
    "len(all_params)"
   ]
  },
  {
   "cell_type": "code",
   "execution_count": 27,
   "metadata": {
    "collapsed": true
   },
   "outputs": [],
   "source": [
    "first = all_params[:90000]\n",
    "second = all_params[90001 :]"
   ]
  },
  {
   "cell_type": "code",
   "execution_count": 28,
   "metadata": {},
   "outputs": [
    {
     "name": "stderr",
     "output_type": "stream",
     "text": [
      " 11%|█         | 10000/90000 [33:16<4:26:10,  5.01it/s]"
     ]
    },
    {
     "name": "stdout",
     "output_type": "stream",
     "text": [
      "saved_dump_10000.json\n"
     ]
    },
    {
     "name": "stderr",
     "output_type": "stream",
     "text": [
      " 22%|██▏       | 20000/90000 [1:06:20<3:52:11,  5.02it/s]"
     ]
    },
    {
     "name": "stdout",
     "output_type": "stream",
     "text": [
      "saved_dump_20000.json\n"
     ]
    },
    {
     "name": "stderr",
     "output_type": "stream",
     "text": [
      " 33%|███▎      | 30001/90000 [1:41:33<3:23:06,  4.92it/s]"
     ]
    },
    {
     "name": "stdout",
     "output_type": "stream",
     "text": [
      "saved_dump_30000.json\n"
     ]
    },
    {
     "name": "stderr",
     "output_type": "stream",
     "text": [
      " 44%|████▍     | 40001/90000 [2:13:50<2:47:17,  4.98it/s]"
     ]
    },
    {
     "name": "stdout",
     "output_type": "stream",
     "text": [
      "saved_dump_40000.json\n"
     ]
    },
    {
     "name": "stderr",
     "output_type": "stream",
     "text": [
      " 56%|█████▌    | 50001/90000 [2:44:53<2:11:54,  5.05it/s]"
     ]
    },
    {
     "name": "stdout",
     "output_type": "stream",
     "text": [
      "saved_dump_50000.json\n"
     ]
    },
    {
     "name": "stderr",
     "output_type": "stream",
     "text": [
      " 67%|██████▋   | 60001/90000 [3:17:51<1:38:55,  5.05it/s]"
     ]
    },
    {
     "name": "stdout",
     "output_type": "stream",
     "text": [
      "saved_dump_60000.json\n"
     ]
    },
    {
     "name": "stderr",
     "output_type": "stream",
     "text": [
      " 78%|███████▊  | 70001/90000 [3:50:37<1:05:53,  5.06it/s]"
     ]
    },
    {
     "name": "stdout",
     "output_type": "stream",
     "text": [
      "saved_dump_70000.json\n"
     ]
    },
    {
     "name": "stderr",
     "output_type": "stream",
     "text": [
      " 89%|████████▉ | 80001/90000 [4:25:42<33:12,  5.02it/s]  "
     ]
    },
    {
     "name": "stdout",
     "output_type": "stream",
     "text": [
      "saved_dump_80000.json\n"
     ]
    },
    {
     "name": "stderr",
     "output_type": "stream",
     "text": [
      "100%|██████████| 90000/90000 [4:58:24<00:00,  5.03it/s]"
     ]
    },
    {
     "name": "stdout",
     "output_type": "stream",
     "text": [
      "saved_dump_90000.json\n"
     ]
    },
    {
     "name": "stderr",
     "output_type": "stream",
     "text": [
      "\n"
     ]
    }
   ],
   "source": [
    "# first 100000 requests\n",
    "url_london = 'https://api.foursquare.com/v2/venues/search'\n",
    "\n",
    "data = []\n",
    "i = 0\n",
    "\n",
    "for params in tqdm(first):     \n",
    "        time.sleep(.02)\n",
    "        resp = requests.get(url=url_london, params=params)\n",
    "        data.append(json.loads(resp.text))\n",
    "        \n",
    "        i+=1\n",
    "        \n",
    "        if i % 10000 == 0:\n",
    "            title = 'saved_dump_{0}.json'.format(i)   \n",
    "            d = json.dumps(data)\n",
    "            with open (\"./data_params/\"+ title, \"w\") as f:\n",
    "                f.write(d)\n",
    "                \n",
    "            print title\n",
    "            data = []"
   ]
  },
  {
   "cell_type": "code",
   "execution_count": null,
   "metadata": {
    "collapsed": true
   },
   "outputs": [],
   "source": [
    "#             for the last 50\n",
    "#             if i > 1000:\n",
    "#                 title = 'saved_dump_1100.json'  \n",
    "#                 d = json.dumps(resp.text)\n",
    "#                 with open (\"./data_params/\"+ title, \"w\") as f:\n",
    "#                     f.write(d)              "
   ]
  },
  {
   "cell_type": "code",
   "execution_count": null,
   "metadata": {
    "collapsed": true
   },
   "outputs": [],
   "source": [
    "# data = []\n",
    "# data.append(json.loads(resp.text))\n",
    "\n",
    "lonresp = requests.get(url=url_london, params=london_params, timeout=2)\n",
    "londata = json.loads(resp.text)"
   ]
  },
  {
   "cell_type": "code",
   "execution_count": null,
   "metadata": {
    "collapsed": true
   },
   "outputs": [],
   "source": []
  },
  {
   "cell_type": "code",
   "execution_count": null,
   "metadata": {
    "collapsed": true
   },
   "outputs": [],
   "source": []
  },
  {
   "cell_type": "code",
   "execution_count": null,
   "metadata": {
    "collapsed": true
   },
   "outputs": [],
   "source": []
  },
  {
   "cell_type": "code",
   "execution_count": null,
   "metadata": {
    "collapsed": true
   },
   "outputs": [],
   "source": []
  },
  {
   "cell_type": "code",
   "execution_count": null,
   "metadata": {
    "collapsed": true
   },
   "outputs": [],
   "source": []
  },
  {
   "cell_type": "code",
   "execution_count": null,
   "metadata": {
    "collapsed": true
   },
   "outputs": [],
   "source": []
  },
  {
   "cell_type": "code",
   "execution_count": null,
   "metadata": {
    "collapsed": true
   },
   "outputs": [],
   "source": []
  },
  {
   "cell_type": "code",
   "execution_count": null,
   "metadata": {
    "collapsed": true
   },
   "outputs": [],
   "source": []
  },
  {
   "cell_type": "markdown",
   "metadata": {},
   "source": [
    "### Make DataFrame and save as a CSV"
   ]
  },
  {
   "cell_type": "code",
   "execution_count": null,
   "metadata": {
    "collapsed": true,
    "scrolled": true
   },
   "outputs": [],
   "source": [
    "cols = ['venue_name', 'venue_id','rating','tips', 'cat_name','cat_id','ll']\n",
    "venue_dict = {'venue_name': venue_name, 'venue_id':venue_id,'rating':rating, 'tips':tips, 'cat_name':cat_name,'cat_id':cat_id,'ll':ll, 'lng':lng, 'lat':lat}\n",
    "\n",
    "venues = pd.DataFrame(venue_dict, columns = cols)\n",
    "venues.to_csv('londonvenues.csv', header=True, index=False, encoding='utf-8')\n",
    "venues.shape"
   ]
  },
  {
   "cell_type": "code",
   "execution_count": null,
   "metadata": {
    "collapsed": true
   },
   "outputs": [],
   "source": [
    "venue = pd.read_csv('./londonvenues.csv')\n",
    "venue.head()"
   ]
  },
  {
   "cell_type": "code",
   "execution_count": null,
   "metadata": {
    "collapsed": true
   },
   "outputs": [],
   "source": [
    "venue.shape"
   ]
  },
  {
   "cell_type": "code",
   "execution_count": null,
   "metadata": {
    "collapsed": true
   },
   "outputs": [],
   "source": [
    "venue.isnull().sum()"
   ]
  },
  {
   "cell_type": "code",
   "execution_count": null,
   "metadata": {
    "collapsed": true
   },
   "outputs": [],
   "source": []
  },
  {
   "cell_type": "markdown",
   "metadata": {
    "collapsed": true
   },
   "source": [
    "### Document your work so far...\n",
    "Once you have your data, read into it and review it to confirm whether it is as productive as you intended. If not, switch datasets, gather additional data (e.g. multiple datasets), or revise your project goals.\n",
    "- for each category of 424 types. \n",
    "\n",
    "Create your own database? \n",
    "\n",
    "2. Perform preliminary data munging and cleaning of your data: organize your data relevant to your project goals.\n",
    "   - Review data to verify initial assumptions\n",
    "   - Clean and munge data as necessary\n",
    "3. Describe your data: keep your intended audience(s) in mind.\n",
    "   - Document your work so far in a Jupyter notebook.\n",
    "\n",
    "\n",
    "\n",
    "   - Outline proposed methods and models\n",
    "   - Define risks & assumptions\n",
    "\n",
    "5. Create a blog post of at least 500 words that describes your work so far. Link to it in your Jupyter notebook.\n",
    "\n",
    "## Useful Resources\n",
    "\n",
    "- [Exploratory Data Analysis](http://insightdatascience.com/blog/eda-and-graphics-eli-bressert.html)\n",
    "- [Best practices for data documentation](https://www.dataone.org/all-best-practices)\n"
   ]
  }
 ],
 "metadata": {
  "kernelspec": {
   "display_name": "Python 2",
   "language": "python",
   "name": "python2"
  },
  "language_info": {
   "codemirror_mode": {
    "name": "ipython",
    "version": 2
   },
   "file_extension": ".py",
   "mimetype": "text/x-python",
   "name": "python",
   "nbconvert_exporter": "python",
   "pygments_lexer": "ipython2",
   "version": "2.7.13"
  }
 },
 "nbformat": 4,
 "nbformat_minor": 2
}
