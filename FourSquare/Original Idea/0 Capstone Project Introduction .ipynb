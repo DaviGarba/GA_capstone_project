{
 "cells": [
  {
   "cell_type": "markdown",
   "metadata": {},
   "source": [
    "\n",
    "# Lost In London\n",
    "\n",
    "##### \n",
    "This project aimed to investigate and find venues with the best ratings using \n",
    "This project will help predict ratings of venues throughout london. \n",
    "\n",
    " - Problem Statement\n",
    " - Potential Audience\n",
    "   - Goals\n",
    "   - Success Metrics\n",
    "   - Data Source(s)\n",
    "   \n",
    "5. For all datasets, identify their source, format, and necessary action items to obtain or access them.\n",
    "6. Create a blog post of at least 500 words (and 1-2 graphics!) that describes your project idea, data, and audience. Link to it in your presentation appendix.\n",
    "\n",
    "through reviews areas in london potential areas and\n",
    "- categories\n",
    "- reviews\n",
    "- Lat Long\n",
    "\n",
    "\n",
    "Data From Foursquare API\n"
   ]
  },
  {
   "cell_type": "code",
   "execution_count": 1,
   "metadata": {},
   "outputs": [
    {
     "ename": "SyntaxError",
     "evalue": "invalid syntax (<ipython-input-1-9eea127a0a54>, line 1)",
     "output_type": "error",
     "traceback": [
      "\u001b[0;36m  File \u001b[0;32m\"<ipython-input-1-9eea127a0a54>\"\u001b[0;36m, line \u001b[0;32m1\u001b[0m\n\u001b[0;31m    Hey and Welcome to my Blog,\u001b[0m\n\u001b[0m                     ^\u001b[0m\n\u001b[0;31mSyntaxError\u001b[0m\u001b[0;31m:\u001b[0m invalid syntax\n"
     ]
    }
   ],
   "source": [
    "Hey and Welcome to my Blog, \n",
    "So just a quick intro, I’m at the start of my Data Science Career, 75% way through my course at GA, about 30% confident but 100% motivated. \n",
    "Currently, we are working on our capstone projects and I wanted to share my journey with you. \n",
    "Lost In London uses Foursquares API to scrape data on venues throughout the whole of london (specifically Zones 1–4).\n"
   ]
  },
  {
   "cell_type": "code",
   "execution_count": null,
   "metadata": {
    "collapsed": true
   },
   "outputs": [],
   "source": []
  },
  {
   "cell_type": "code",
   "execution_count": null,
   "metadata": {
    "collapsed": true
   },
   "outputs": [],
   "source": []
  }
 ],
 "metadata": {
  "kernelspec": {
   "display_name": "Python 2",
   "language": "python",
   "name": "python2"
  },
  "language_info": {
   "codemirror_mode": {
    "name": "ipython",
    "version": 2
   },
   "file_extension": ".py",
   "mimetype": "text/x-python",
   "name": "python",
   "nbconvert_exporter": "python",
   "pygments_lexer": "ipython2",
   "version": "2.7.13"
  }
 },
 "nbformat": 4,
 "nbformat_minor": 2
}
