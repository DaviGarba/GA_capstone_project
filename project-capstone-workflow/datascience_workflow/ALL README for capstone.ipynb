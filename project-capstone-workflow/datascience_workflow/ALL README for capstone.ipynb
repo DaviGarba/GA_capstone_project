{
 "cells": [
  {
   "cell_type": "markdown",
   "metadata": {},
   "source": [
    "# PART 1"
   ]
  },
  {
   "cell_type": "markdown",
   "metadata": {},
   "source": [
    "In the field of data science, good projects are **practical**. Your capstone project should be manageable and affect a real world audience. This might be a domain you are familiar with, a particular interest you have, something that affects a community you are involved in, or an area that relates to a field you wish to work in.\n",
    "\n",
    "One of the best ways to test ideas quickly is to share them with others. A good data scientist has to be comfortable discussing ideas and presenting to audiences. That's why for Part 1 of your Capstone project, you'll be preparing a lightning talk on some potential interest areas and datasets.\n",
    "\n",
    "This deliverable will provide you with guidance to help you select an awesome topic and begin to build a polished Capstone project. \n",
    "- [ ] Identify Problem\n",
    "- [ ] Acquire Data\n",
    "- [ ] Present Data\n",
    "\n",
    "   - Problem Statement\n",
    "   - Potential Audience \n",
    "   - Goals\n",
    "   - Success Metrics\n",
    "   - Data Source(s)\n",
    "    data, goals, audiences, and metrics.\n",
    "\n",
    "5. For all datasets, identify their source, format, and necessary action items to obtain or access them.\n",
    "6. Create a blog post of at least 500 words (and 1-2 graphics!) that describes your project idea, data, and audience. Link to it in your presentation appendix.\n",
    "\n",
    "**Begin by Asking:**\n",
    "- What is the scope of the need or problem I wish to investigate?\n",
    "- Who is this for? Who is impacted or affected by this data? Who would benefit from this model?\n",
    "- What are my goals for this investigation?\n",
    "- What does success look like? How will I know if my model performs well?\n",
    "- Where will I find data for this project? Is the data available?\n",
    "\n",
    "**For the Bonus, Ask:**\n",
    "- What format is the data in? What specific steps do I need to take to access it?\n",
    "- How will I explain this project to outside audiences?\n",
    "\n"
   ]
  },
  {
   "cell_type": "markdown",
   "metadata": {},
   "source": [
    "\n",
    "# PART2"
   ]
  },
  {
   "cell_type": "markdown",
   "metadata": {},
   "source": [
    "#  Dataset + Data Collection\n",
    "Create your own database and data dictionary?\n",
    "- [ ] Identify Problem\n",
    "- [ ] Parse Data\n",
    "- [ ] Refine Data\n",
    "\n",
    "1. Find and Clean Your Data: Source and format the required data for your project.\n",
    "   - Create a database\n",
    "   - Create a data dictionary\n",
    "2. Perform preliminary data munging and cleaning of your data: organize your data relevant to your project goals.\n",
    "   - Review data to verify initial assumptions\n",
    "   - Clean and munge data as necessary you'll need to collect, clean, and document the dataset(s) you intend to use for your project.\n",
    "3. Describe your data: keep your intended audience(s) in mind.\n",
    "   - Document your work so far in a Jupyter notebook.\n",
    "\n",
    "4. Document your project goals (revise from your initial pitch)\n",
    "   - Articulate â€œSpecific aimâ€\n",
    "   - Outline proposed methods and models\n",
    "   - Define risks & assumptions"
   ]
  },
  {
   "cell_type": "markdown",
   "metadata": {},
   "source": [
    "# PART 3"
   ]
  },
  {
   "cell_type": "markdown",
   "metadata": {},
   "source": [
    "- [ ] Mine Data\n",
    "- [ ] Refine Data\n",
    "- [ ] Model Data\n",
    "\n",
    "1. Create a \"progress report\" that documents:\n",
    "   - Your approach to exploratory data analysis\n",
    "   - Your initial results\n",
    "   - Any roadblocks, setbacks, or surprises\n",
    "\n",
    "2. Perform initial descriptive and visual analysis of your data.\n",
    "   - Identify outliers\n",
    "   - Summarize risks and limitations\n",
    "\n",
    "3. Discuss your proposed next steps\n",
    "   - Describe how your EDA will inform your modeling decisions\n",
    "   - What are three concrete actions you need to take next?\n",
    "\n",
    "4. Visualize your EDA and approach using at least **two or more** of the data visualization methods we've covered in class.\n",
    "#  EDA + Preliminary Analysis\n",
    "\n",
    "Begin quantitatively describing and visualizing your data. With rich datasets, EDA can go down an endless number of roads. Maintain perspective on your goals and scope your EDA accordingly.\n",
    "\n",
    "notes on your approach, results, setbacks, and findings! basis of your \"progress report\" \n",
    "\n",
    "- Document **everything** as you go! This will give you valuable material to pull into your report - and will paint a more accurate picture than trying to summarize afterward :)\n",
    "- Be candid! This is not a race, but a chance to get valuable feedback. Be honest about what techniques have worked, what steps have taken you down the wrong turns, and what blockers you've run into.\n",
    "\n",
    "- [Describing data visually](http://www.statisticsviews.com/details/feature/6314441/Visualising-Statistics-The-importance-of-seeing-not-just-describing-data.html)\n",
    "- [Real world data science workflows often contain setbacks](https://guerrilla-analytics.net/2015/02/20/data-science-workflows-a-reality-check/)\n"
   ]
  },
  {
   "cell_type": "markdown",
   "metadata": {},
   "source": [
    "# PART 4"
   ]
  },
  {
   "cell_type": "markdown",
   "metadata": {},
   "source": [
    "# Part 4: Findings + Technical Report\n",
    "Data science requires clean data, logical study design, and reproducible results. The best way to do this (and build your portfolio) is to get in the habit of fully documenting your work for your peers and colleagues.\n",
    "\n",
    "In Part 4 of our Capstone, you'll assemble a technical notebook that details your model and approach for your peers. It should be written in a straightforward manner, with concisely commented code, documented procedures and reasoning, and logical analysis. Where applicable, include clearly labeled plots, graphs, and other visualizations, explaining any outliers and relationships between features and data.  \n",
    "\n",
    "Start with a brief \"executive summary\" and then walk us through each portion of your notebook, step by step. Explain your goals, describe modeling choices, evaluate model performance, and discuss results. Data science reporting is technical, but donâ€™t forget that your approach should tell us a compelling story about your data.\n",
    "\n",
    "Include any additional code, data, or other materials in appendices, as needed. Above all, your process descriptions should be concise and relevant to your goals.\n",
    "\n",
    "- [ ] Mine Data\n",
    "- [ ] Refine Data\n",
    "- [ ] Model Data\n",
    "- [ ] Present Data\n",
    "\n",
    "1. Begin with an executive summary:\n",
    "   - What is your goal?\n",
    "   - What are your metrics?\n",
    "   - What were your findings?\n",
    "   - What risks/limitations/assumptions affect these findings?\n",
    "\n",
    "2. Walk through your model step by step, starting with EDA\n",
    "   - What are your variables of interest?\n",
    "   - What outliers did you remove?\n",
    "   - What types of data imputation did you perform?\n",
    "\n",
    "3. Summarize your statistical analysis, including:\n",
    "   - model selection\n",
    "   - implementation\n",
    "   - evaluation\n",
    "   - inference\n",
    "\n",
    "4. Clearly document and label each section\n",
    "   - Logically organize your information in a persuasive, informative manner\n",
    "   - Include notebook headers and subheaders, as well as clearly formatted markdown for all written components\n",
    "   - Include graphs/plots/visualizations with clear labels\n",
    "   - Comment and explain the purpose of each major section/subsection of your code\n",
    "     - *Document your code for your future self, as if another person needed to replicate your approach*\n",
    "\n",
    "5. Host your notebook and any other materials in your own public Github Repository\n",
    "   - Include a technical appendix, including links and explanations to any outside libraries or source code used\n",
    "   - Host a local copy of your dataset or include a link to a remotely hosted version\n",
    "\n",
    "#### BONUS\n",
    "6. Describe how this model could be put into real world production. Consider:\n",
    "   - How could you continue to validate your model's performance over time?\n",
    "   - What steps might you need to take to productionize your model for an enterprise environment?\n",
    "   - How would you deploy your model publicly? What could you do to setup your model and share it online right now?\n",
    "\n",
    "7. Create a blog post of at least 1000 words summarizing your approach in a tutorial format and link to it in your notebook.\n",
    "   - In your tutorial, address a slightly less technical audience; think back to Day 1 of the program - how would you explain and walk through your capstone project to your earlier self?\n",
    "\n",
    "## Suggested Ways to Get Started\n",
    "- Use the DSI Data Science Framework to help you organize your information\n",
    "- For any given step, consider the logic that links it to other steps and clearly describe each assumption.\n",
    "- After writing a draft, leave it alone for at least 24 hours. What would you revise, reword, or take out?\n",
    "- Alternatively, read over a draft with a peer or in a group. What areas do they find confusing or unclear?\n",
    "\n",
    "## Useful Resources\n",
    "- [How to Report Statistics to Technical Audiences](http://abacus.bates.edu/~ganderso/biology/resources/writing/HTWstats.html)\n",
    "- [Data Science Employers Value Research Reports](https://www.quora.com/What-is-a-good-way-for-a-data-scientist-to-construct-an-online-portfolio)"
   ]
  },
  {
   "cell_type": "markdown",
   "metadata": {},
   "source": [
    "# PART 5"
   ]
  },
  {
   "cell_type": "markdown",
   "metadata": {},
   "source": [
    "Presentation + Non-Technical Summary\n",
    "won't know anything about data science!\n",
    "most important insights from your project \n",
    "explain your findings to the public.\n",
    "\n",
    "Tell us the most interesting story about your data. \n",
    "Break down your process for a novice audience. \n",
    "Make sure to include compelling visuals. \n",
    "most relevant components of your project.\n",
    "\n",
    "\n",
    "including an explanation of your model and findings for a non- technical audience.\n",
    "\n",
    "- [ ] Identify Problem\n",
    "- [ ] Model Data\n",
    "- [ ] Present Data\n",
    "    - Define technical terms and any basic data science concepts that inform your approach\n",
    "   - Don't just deliver the information; tell a story about the problem and solution\n",
    "\n",
    "2. Prepare polished visuals or a publicly-suitable slide deck to guide your presentation.\n",
    "   - Include graphs and/or visualizations\n",
    "\n",
    "3. Make sure you cover the following areas:\n",
    "   - Goals\n",
    "   - Success Criteria / Metrics\n",
    "   - Data\n",
    "   - Overall Approach\n",
    "   - Basic description of model\n",
    "   - Findings\n",
    "   - Risks/Limitations\n",
    "   - Impact, next steps, conclusions\n",
    "\n",
    "4. Successfully answer questions about your project from your audience.\n",
    "\n",
    "5. Discuss longer term potential of your project and model.\n",
    "   - Describe how you could validate your model's performance over time\n",
    "   - Explain how you would deploy your model in a production environment\n",
    "\n",
    "6. Create a publicly hosted interactive visualization that your audience can use to further access and explore your data and findings.\n",
    "   - Bonus points for embedding this into your blog post tutorial!\n",
    "\n",
    "\n",
    "## Suggested Ways to Get Started\n",
    "\n",
    "- Review the information you provided in the \"Executive Summary\" from Part 4. This is the same information you should cover here.\n",
    "- The difference is that you should **not** assume that your audience knows anything about your problem, model, or basic data science. Structure your presentation as if explaining your model to a non-data science friend.\n",
    "- Practice! Test your presentation on other GA students or friends and see where they have questions.\n",
    "- Include more visuals (and less text) than you think.\n",
    "- Don't just read your presentation - deliver it!\n",
    "\n",
    "## Useful Resources\n",
    "\n",
    "- [Best Practices for Visualization ](https://drive.google.com/file/d/0Bx2SHQGVqWasWUpNX28yMTVuS1U/view?usp=sharing)\n",
    "- [Importance of Storytelling with Data - Tableau Whitepaper](https://drive.google.com/file/d/0Bx2SHQGVqWasTmhYM1FHX3JfNEU/view?usp=sharing)\n",
    "- [Sample PT Data Science Projects from other GA students](https://gallery.generalassemb.ly/DS?metro=)\n"
   ]
  },
  {
   "cell_type": "markdown",
   "metadata": {},
   "source": []
  },
  {
   "cell_type": "code",
   "execution_count": null,
   "metadata": {
    "collapsed": true
   },
   "outputs": [],
   "source": []
  }
 ],
 "metadata": {
  "kernelspec": {
   "display_name": "Python 2",
   "language": "python",
   "name": "python2"
  },
  "language_info": {
   "codemirror_mode": {
    "name": "ipython",
    "version": 2
   },
   "file_extension": ".py",
   "mimetype": "text/x-python",
   "name": "python",
   "nbconvert_exporter": "python",
   "pygments_lexer": "ipython2",
   "version": "2.7.13"
  }
 },
 "nbformat": 4,
 "nbformat_minor": 2
}
