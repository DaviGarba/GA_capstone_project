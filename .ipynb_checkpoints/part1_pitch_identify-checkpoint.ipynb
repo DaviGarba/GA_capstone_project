{
 "cells": [
  {
   "cell_type": "markdown",
   "metadata": {},
   "source": [
    "# Where is London’s Happiness?\n",
    "\n",
    "#### Guidelines\n",
    "#### Part 1 Identify\n",
    "IDENTIFY: Understand the problem\n",
    "- Identify business/product objectives.\n",
    "- Identify and hypothesize goals and criteria for success.\n",
    "- Create a set of questions to help you identify the correct data set.\n"
   ]
  },
  {
   "cell_type": "markdown",
   "metadata": {
    "collapsed": true
   },
   "source": [
    "QUESTION\n",
    "Introduction\n",
    "- Have you ever wondered which area’s are happiest in london? There are so many diverse areas that are all great for different reasons. Some areas are great for clubbing, others for shopping, live music, or even types of restaurants. The list really is endless.\n",
    "\n",
    "Foursquare\n",
    "- so regarding all these venues in london I wanted to investigate the sentiment of reviews to find the happiest area in London. \n",
    "- I will obtain data for the london venues from foursome’s API using specific parameters to loop through different categories of venues.\n",
    "- Their data contained tips/reviews of the venues which I will use Natural Language Processing (NLP) to undergo Sentiment Classification. This will be measured by accuracy. "
   ]
  },
  {
   "cell_type": "markdown",
   "metadata": {
    "collapsed": true
   },
   "source": [
    "AIM\n",
    "- To build a model that predicts the sentiment of reviews using NLP\n",
    "\n",
    "Training Data\n",
    "- To answer my question I need to build a model that will predict sentiment of these foursquare reviews. I was able to find labeled training data for a sentiment evaluation of restaurant reviews from meta-share, a language data resource.\n",
    "\n"
   ]
  }
 ],
 "metadata": {
  "kernelspec": {
   "display_name": "Python 2",
   "language": "python",
   "name": "python2"
  },
  "language_info": {
   "codemirror_mode": {
    "name": "ipython",
    "version": 2
   },
   "file_extension": ".py",
   "mimetype": "text/x-python",
   "name": "python",
   "nbconvert_exporter": "python",
   "pygments_lexer": "ipython2",
   "version": "2.7.13"
  }
 },
 "nbformat": 4,
 "nbformat_minor": 2
}
