{
 "cells": [
  {
   "cell_type": "markdown",
   "metadata": {},
   "source": [
    "# Part 4 Build Multiple Estimators\n",
    "Some of the steps we will take to build a model include:\n",
    "- Selecting the appropriate model\n",
    "- Building a model\n",
    "- Testing and training our model\n",
    "- Evaluating and refining our model"
   ]
  },
  {
   "cell_type": "code",
   "execution_count": 1,
   "metadata": {
    "collapsed": true
   },
   "outputs": [],
   "source": [
    "import pandas as pd\n",
    "import numpy as np"
   ]
  },
  {
   "cell_type": "markdown",
   "metadata": {},
   "source": [
    "### Loading the Training Dataset"
   ]
  },
  {
   "cell_type": "markdown",
   "metadata": {},
   "source": [
    "Training:\n",
    "- polarity : Target 2:positive, 1:neutral, 0:negative\n",
    "- words : preprocessed sentences\n",
    "- type : the tags of the words from lemmatizing "
   ]
  },
  {
   "cell_type": "code",
   "execution_count": 2,
   "metadata": {},
   "outputs": [
    {
     "data": {
      "text/html": [
       "<div>\n",
       "<style>\n",
       "    .dataframe thead tr:only-child th {\n",
       "        text-align: right;\n",
       "    }\n",
       "\n",
       "    .dataframe thead th {\n",
       "        text-align: left;\n",
       "    }\n",
       "\n",
       "    .dataframe tbody tr th {\n",
       "        vertical-align: top;\n",
       "    }\n",
       "</style>\n",
       "<table border=\"1\" class=\"dataframe\">\n",
       "  <thead>\n",
       "    <tr style=\"text-align: right;\">\n",
       "      <th></th>\n",
       "      <th>sentence</th>\n",
       "      <th>sentiment</th>\n",
       "      <th>lem_words</th>\n",
       "      <th>lem_tags</th>\n",
       "      <th>word_tags</th>\n",
       "    </tr>\n",
       "  </thead>\n",
       "  <tbody>\n",
       "    <tr>\n",
       "      <th>0</th>\n",
       "      <td>Kind of a small place but I guess if they are ...</td>\n",
       "      <td>1</td>\n",
       "      <td>kind small place guess be not too busy be able...</td>\n",
       "      <td>NN JJ NN NN VB RB RB JJ VB JJ VB NN NN</td>\n",
       "      <td>[kind/NN, small/JJ, place/NN, guess/NN, be/VB,...</td>\n",
       "    </tr>\n",
       "    <tr>\n",
       "      <th>1</th>\n",
       "      <td>Better than the bagel shop on the corner, but ...</td>\n",
       "      <td>1</td>\n",
       "      <td>better bagel shop corner not worth go way opinion</td>\n",
       "      <td>JJ NN NN JJ RB JJ VB NN NN</td>\n",
       "      <td>[better/JJ, bagel/NN, shop/NN, corner/JJ, not/...</td>\n",
       "    </tr>\n",
       "    <tr>\n",
       "      <th>2</th>\n",
       "      <td>We got most of it back at home with us.</td>\n",
       "      <td>1</td>\n",
       "      <td>get most back home</td>\n",
       "      <td>VB JJ RB NN</td>\n",
       "      <td>[get/VB, most/JJ, back/RB, home/NN]</td>\n",
       "    </tr>\n",
       "    <tr>\n",
       "      <th>3</th>\n",
       "      <td>While it's not Nobu, it sure is a great deal a...</td>\n",
       "      <td>1</td>\n",
       "      <td>not nobu sure be great deal definitely leave f...</td>\n",
       "      <td>RB JJ RB VB JJ NN RB VB NN VB JJ</td>\n",
       "      <td>[not/RB, nobu/JJ, sure/RB, be/VB, great/JJ, de...</td>\n",
       "    </tr>\n",
       "    <tr>\n",
       "      <th>4</th>\n",
       "      <td>Recommendations, of course, are required!</td>\n",
       "      <td>1</td>\n",
       "      <td>recommendation course be require</td>\n",
       "      <td>NN NN VB VB</td>\n",
       "      <td>[recommendation/NN, course/NN, be/VB, require/VB]</td>\n",
       "    </tr>\n",
       "  </tbody>\n",
       "</table>\n",
       "</div>"
      ],
      "text/plain": [
       "                                            sentence  sentiment  \\\n",
       "0  Kind of a small place but I guess if they are ...          1   \n",
       "1  Better than the bagel shop on the corner, but ...          1   \n",
       "2            We got most of it back at home with us.          1   \n",
       "3  While it's not Nobu, it sure is a great deal a...          1   \n",
       "4          Recommendations, of course, are required!          1   \n",
       "\n",
       "                                           lem_words  \\\n",
       "0  kind small place guess be not too busy be able...   \n",
       "1  better bagel shop corner not worth go way opinion   \n",
       "2                                 get most back home   \n",
       "3  not nobu sure be great deal definitely leave f...   \n",
       "4                   recommendation course be require   \n",
       "\n",
       "                                 lem_tags  \\\n",
       "0  NN JJ NN NN VB RB RB JJ VB JJ VB NN NN   \n",
       "1              JJ NN NN JJ RB JJ VB NN NN   \n",
       "2                             VB JJ RB NN   \n",
       "3        RB JJ RB VB JJ NN RB VB NN VB JJ   \n",
       "4                             NN NN VB VB   \n",
       "\n",
       "                                           word_tags  \n",
       "0  [kind/NN, small/JJ, place/NN, guess/NN, be/VB,...  \n",
       "1  [better/JJ, bagel/NN, shop/NN, corner/JJ, not/...  \n",
       "2                [get/VB, most/JJ, back/RB, home/NN]  \n",
       "3  [not/RB, nobu/JJ, sure/RB, be/VB, great/JJ, de...  \n",
       "4  [recommendation/NN, course/NN, be/VB, require/VB]  "
      ]
     },
     "execution_count": 2,
     "metadata": {},
     "output_type": "execute_result"
    }
   ],
   "source": [
    "training = pd.read_csv('./train_test_data/training_bs.csv', encoding='utf8')\n",
    "training.head()"
   ]
  },
  {
   "cell_type": "code",
   "execution_count": 3,
   "metadata": {
    "collapsed": true
   },
   "outputs": [],
   "source": [
    "X_train = training['lem_words']\n",
    "y_train = training['sentiment']"
   ]
  },
  {
   "cell_type": "markdown",
   "metadata": {},
   "source": [
    "## Basline Accuracy"
   ]
  },
  {
   "cell_type": "code",
   "execution_count": 4,
   "metadata": {
    "scrolled": true
   },
   "outputs": [
    {
     "name": "stdout",
     "output_type": "stream",
     "text": [
      "1    0.333333\n",
      "2    0.333333\n",
      "0    0.333333\n",
      "Name: sentiment, dtype: float64\n"
     ]
    }
   ],
   "source": [
    "print y_train.value_counts(normalize=True)\n",
    "baseline = 0.3"
   ]
  },
  {
   "cell_type": "markdown",
   "metadata": {},
   "source": [
    "## Feature Transformation for Training Data\n",
    "- random state to keep consistent\n"
   ]
  },
  {
   "cell_type": "code",
   "execution_count": 14,
   "metadata": {
    "collapsed": true
   },
   "outputs": [],
   "source": [
    "from sklearn.linear_model import LogisticRegression, LogisticRegressionCV\n",
    "from sklearn.model_selection import GridSearchCV, cross_val_score, cross_val_predict\n",
    "from sklearn.metrics import accuracy_score\n",
    "\n",
    "from sklearn.feature_extraction.text import CountVectorizer\n",
    "from sklearn.feature_extraction.text import TfidfVectorizer\n",
    "\n",
    "lr = LogisticRegression(random_state=1)"
   ]
  },
  {
   "cell_type": "markdown",
   "metadata": {},
   "source": [
    "## Count Vectorizer and Tfidf\n"
   ]
  },
  {
   "cell_type": "code",
   "execution_count": 6,
   "metadata": {},
   "outputs": [
    {
     "name": "stderr",
     "output_type": "stream",
     "text": [
      "/Users/annabopeep/anaconda2/lib/python2.7/site-packages/sklearn/feature_extraction/text.py:1089: FutureWarning: Conversion of the second argument of issubdtype from `float` to `np.floating` is deprecated. In future, it will be treated as `np.float64 == np.dtype(float).type`.\n",
      "  if hasattr(X, 'dtype') and np.issubdtype(X.dtype, np.float):\n"
     ]
    }
   ],
   "source": [
    "from sklearn.feature_extraction.text import CountVectorizer\n",
    "\n",
    "# initalise the vectoriser \n",
    "cvec = CountVectorizer()\n",
    "cvec.fit(X_train)\n",
    "#transform training data into sparse matrix\n",
    "X_train_cvec = cvec.transform(X_train)\n",
    "\n",
    "\n",
    "from sklearn.feature_extraction.text import TfidfVectorizer\n",
    "# initalise the vectoriser \n",
    "tvec = TfidfVectorizer()\n",
    "# fit the training data on the model\n",
    "tvec.fit(X_train)\n",
    "\n",
    "#transform training data into sparse matrix\n",
    "X_train_tvec = tvec.transform(X_train)\n"
   ]
  },
  {
   "cell_type": "markdown",
   "metadata": {},
   "source": [
    "# Finding an Estimator \n",
    "- Choosing an estimator which will perform at its optimum so can be tuned further.\n",
    "- using both vectorisers to see which ones work best with models"
   ]
  },
  {
   "cell_type": "code",
   "execution_count": 7,
   "metadata": {
    "collapsed": true
   },
   "outputs": [],
   "source": [
    "from sklearn.linear_model import LogisticRegression\n",
    "from sklearn.ensemble import RandomForestClassifier\n",
    "from sklearn.svm import SVC\n",
    "from sklearn.neighbors import KNeighborsClassifier\n",
    "from sklearn.naive_bayes import MultinomialNB\n",
    "from sklearn.linear_model import SGDClassifier\n",
    "\n",
    "from sklearn.metrics import confusion_matrix, accuracy_score, classification_report"
   ]
  },
  {
   "cell_type": "code",
   "execution_count": 8,
   "metadata": {},
   "outputs": [
    {
     "name": "stderr",
     "output_type": "stream",
     "text": [
      "/Users/annabopeep/anaconda2/lib/python2.7/site-packages/sklearn/linear_model/stochastic_gradient.py:84: FutureWarning: max_iter and tol parameters have been added in <class 'sklearn.linear_model.stochastic_gradient.SGDClassifier'> in 0.19. If both are left unset, they default to max_iter=5 and tol=None. If tol is not None, max_iter defaults to max_iter=1000. From 0.21, default max_iter will be 1000, and default tol will be 1e-3.\n",
      "  \"and default tol will be 1e-3.\" % type(self), FutureWarning)\n"
     ]
    },
    {
     "name": "stdout",
     "output_type": "stream",
     "text": [
      "LogisticRegression(C=1.0, class_weight=None, dual=False, fit_intercept=True,\n",
      "          intercept_scaling=1, max_iter=100, multi_class='ovr', n_jobs=1,\n",
      "          penalty='l2', random_state=None, solver='liblinear', tol=0.0001,\n",
      "          verbose=0, warm_start=False)\n",
      "count vectoriser: 0.8887606031307983\n",
      "tfidf vectoriser: 0.8566610033197852\n",
      "______________________________________________________________________\n",
      "RandomForestClassifier(bootstrap=True, class_weight=None, criterion='gini',\n",
      "            max_depth=None, max_features='auto', max_leaf_nodes=None,\n",
      "            min_impurity_decrease=0.0, min_impurity_split=None,\n",
      "            min_samples_leaf=1, min_samples_split=2,\n",
      "            min_weight_fraction_leaf=0.0, n_estimators=10, n_jobs=1,\n",
      "            oob_score=False, random_state=None, verbose=0,\n",
      "            warm_start=False)\n",
      "count vectoriser: 0.8962496753744537\n",
      "tfidf vectoriser: 0.8941814586403587\n",
      "______________________________________________________________________\n",
      "SGDClassifier(alpha=0.0001, average=False, class_weight=None, epsilon=0.1,\n",
      "       eta0=0.0, fit_intercept=True, l1_ratio=0.15,\n",
      "       learning_rate='optimal', loss='hinge', max_iter=5, n_iter=None,\n",
      "       n_jobs=1, penalty='l2', power_t=0.5, random_state=None,\n",
      "       shuffle=True, tol=None, verbose=0, warm_start=False)\n",
      "count vectoriser: 0.877519954693225\n",
      "tfidf vectoriser: 0.9062544000450564\n",
      "______________________________________________________________________\n",
      "SVC(C=1.0, cache_size=200, class_weight=None, coef0=0.0,\n",
      "  decision_function_shape='ovr', degree=3, gamma='auto', kernel='rbf',\n",
      "  max_iter=-1, probability=False, random_state=None, shrinking=True,\n",
      "  tol=0.001, verbose=False)\n",
      "count vectoriser: 0.4308211227194077\n",
      "tfidf vectoriser: 0.6466587817859254\n",
      "______________________________________________________________________\n",
      "KNeighborsClassifier(algorithm='auto', leaf_size=30, metric='minkowski',\n",
      "           metric_params=None, n_jobs=1, n_neighbors=5, p=2,\n",
      "           weights='uniform')\n",
      "count vectoriser: 0.7279184227735381\n",
      "tfidf vectoriser: 0.72916529776376\n",
      "______________________________________________________________________\n",
      "MultinomialNB(alpha=1.0, class_prior=None, fit_prior=True)\n",
      "count vectoriser: 0.8287400774095038\n",
      "tfidf vectoriser: 0.8437463821851758\n",
      "______________________________________________________________________\n"
     ]
    }
   ],
   "source": [
    "models = [LogisticRegression(),\n",
    "          RandomForestClassifier(),\n",
    "          SGDClassifier(),\n",
    "          SVC(),\n",
    "          KNeighborsClassifier(), \n",
    "          MultinomialNB()\n",
    "          ]\n",
    "\n",
    "scores_cvec = []\n",
    "scores_tvec = []\n",
    "for model in models:\n",
    "    print model\n",
    "    \n",
    "    score_cvec = cross_val_score(model, X_train_cvec, y_train, cv=3).mean()\n",
    "    score_tvec = cross_val_score(model, X_train_tvec, y_train, cv=3).mean()\n",
    "    \n",
    "    print 'count vectoriser:', score_cvec\n",
    "    print 'tfidf vectoriser:', score_tvec\n",
    "    \n",
    "    \n",
    "    \n",
    "    scores_cvec.append(score_cvec)\n",
    "    scores_tvec.append(score_tvec)\n",
    "    print '_'*70\n",
    "    "
   ]
  },
  {
   "cell_type": "code",
   "execution_count": 9,
   "metadata": {
    "scrolled": false
   },
   "outputs": [
    {
     "data": {
      "text/html": [
       "<div>\n",
       "<style>\n",
       "    .dataframe thead tr:only-child th {\n",
       "        text-align: right;\n",
       "    }\n",
       "\n",
       "    .dataframe thead th {\n",
       "        text-align: left;\n",
       "    }\n",
       "\n",
       "    .dataframe tbody tr th {\n",
       "        vertical-align: top;\n",
       "    }\n",
       "</style>\n",
       "<table border=\"1\" class=\"dataframe\">\n",
       "  <thead>\n",
       "    <tr style=\"text-align: right;\">\n",
       "      <th></th>\n",
       "      <th>Model</th>\n",
       "      <th>scores_cvec</th>\n",
       "      <th>scores_tvec</th>\n",
       "    </tr>\n",
       "  </thead>\n",
       "  <tbody>\n",
       "    <tr>\n",
       "      <th>0</th>\n",
       "      <td>LogisticRegression</td>\n",
       "      <td>0.888761</td>\n",
       "      <td>0.856661</td>\n",
       "    </tr>\n",
       "    <tr>\n",
       "      <th>1</th>\n",
       "      <td>RandomForest</td>\n",
       "      <td>0.896250</td>\n",
       "      <td>0.894181</td>\n",
       "    </tr>\n",
       "    <tr>\n",
       "      <th>2</th>\n",
       "      <td>StochasticGradientDescent</td>\n",
       "      <td>0.877520</td>\n",
       "      <td>0.906254</td>\n",
       "    </tr>\n",
       "    <tr>\n",
       "      <th>3</th>\n",
       "      <td>SupportVectorMachine</td>\n",
       "      <td>0.430821</td>\n",
       "      <td>0.646659</td>\n",
       "    </tr>\n",
       "    <tr>\n",
       "      <th>4</th>\n",
       "      <td>KNeighbors</td>\n",
       "      <td>0.727918</td>\n",
       "      <td>0.729165</td>\n",
       "    </tr>\n",
       "    <tr>\n",
       "      <th>5</th>\n",
       "      <td>MultinomialNB</td>\n",
       "      <td>0.828740</td>\n",
       "      <td>0.843746</td>\n",
       "    </tr>\n",
       "  </tbody>\n",
       "</table>\n",
       "</div>"
      ],
      "text/plain": [
       "                       Model  scores_cvec  scores_tvec\n",
       "0         LogisticRegression     0.888761     0.856661\n",
       "1               RandomForest     0.896250     0.894181\n",
       "2  StochasticGradientDescent     0.877520     0.906254\n",
       "3       SupportVectorMachine     0.430821     0.646659\n",
       "4                 KNeighbors     0.727918     0.729165\n",
       "5              MultinomialNB     0.828740     0.843746"
      ]
     },
     "execution_count": 9,
     "metadata": {},
     "output_type": "execute_result"
    }
   ],
   "source": [
    "mod = ['LogisticRegression', 'RandomForest', 'StochasticGradientDescent', 'SupportVectorMachine', 'KNeighbors', 'MultinomialNB']\n",
    "mod_score = pd.DataFrame(zip(mod, scores_cvec, scores_tvec), columns = ['Model', 'scores_cvec', 'scores_tvec'])\n",
    "mod_score "
   ]
  },
  {
   "cell_type": "code",
   "execution_count": 10,
   "metadata": {},
   "outputs": [
    {
     "data": {
      "text/plain": [
       "0.3"
      ]
     },
     "execution_count": 10,
     "metadata": {},
     "output_type": "execute_result"
    }
   ],
   "source": [
    "baseline"
   ]
  },
  {
   "cell_type": "code",
   "execution_count": 11,
   "metadata": {},
   "outputs": [
    {
     "data": {
      "image/png": "[encoded data removed]",
      "text/plain": [
       "<matplotlib.figure.Figure at 0x110f60bd0>"
      ]
     },
     "metadata": {},
     "output_type": "display_data"
    }
   ],
   "source": [
    "import matplotlib.pyplot as plt\n",
    "import seaborn as sns\n",
    "\n",
    "sns.pointplot(x='Model', y='scores_cvec', data =mod_score, label = 'cvec')\n",
    "sns.pointplot(x='Model', y='scores_tvec', color='r' ,data =mod_score, label = 'tvec')\n",
    "sns.pointplot(x='Model', y= [baseline, baseline, baseline, baseline, baseline, baseline], color='g' ,data =mod_score, label = 'baseline')\n",
    "\n",
    "\n",
    "plt.ylabel('Accuracy Score')\n",
    "plt.xlabel('Models')\n",
    "plt.xticks(rotation=90)\n",
    "plt.title('Accuracy Scores of Different Models')\n",
    "plt.show()"
   ]
  },
  {
   "cell_type": "markdown",
   "metadata": {
    "collapsed": true
   },
   "source": [
    "# Tuning models with highest scores\n"
   ]
  },
  {
   "cell_type": "code",
   "execution_count": null,
   "metadata": {
    "collapsed": true
   },
   "outputs": [],
   "source": [
    "LogisticRegression\t0.888761\n",
    "RandomForest\t0.897925\t0.886264\n",
    "StochasticGradientDescent\t0.895417\t0.911259"
   ]
  },
  {
   "cell_type": "markdown",
   "metadata": {},
   "source": [
    "Chosen methods for \n",
    "\n",
    "Count Vectorizer - blue\n",
    "- Logistic Regression\n",
    "- Random Forest\n",
    "\n",
    "Tfidf - Red\n",
    "- Random Forest\n",
    "- SGDClassifier\n",
    "\n",
    "RandomForestClassifier\t0.935008\t0.936253 very close scores so both will be searched\n",
    " \n",
    "With limited time I have chosen a localised method to choose my classifier\n",
    "\n",
    " "
   ]
  },
  {
   "cell_type": "markdown",
   "metadata": {
    "collapsed": true
   },
   "source": [
    "## Count Vectorizer and LogReg\n",
    "### to perform gridsearch for optimal parameters\n",
    "\n",
    "- Different parameters work best in different combinations and different models. \n",
    "- gridseach will help us find the best ones for in combination for logistic regression\n"
   ]
  },
  {
   "cell_type": "code",
   "execution_count": 12,
   "metadata": {
    "collapsed": true
   },
   "outputs": [],
   "source": [
    "from sklearn.pipeline import Pipeline\n",
    "from pprint import pprint\n",
    "from time import time\n",
    "from sklearn.model_selection import GridSearchCV, cross_val_score, cross_val_predict\n",
    "from sklearn.metrics import accuracy_score\n"
   ]
  },
  {
   "cell_type": "code",
   "execution_count": 18,
   "metadata": {},
   "outputs": [
    {
     "name": "stdout",
     "output_type": "stream",
     "text": [
      "Fitting 3 folds for each of 2688 candidates, totalling 8064 fits\n"
     ]
    },
    {
     "name": "stderr",
     "output_type": "stream",
     "text": [
      "[Parallel(n_jobs=-1)]: Done  76 tasks      | elapsed:    7.9s\n",
      "[Parallel(n_jobs=-1)]: Done 376 tasks      | elapsed:   34.7s\n",
      "[Parallel(n_jobs=-1)]: Done 876 tasks      | elapsed:  1.4min\n",
      "[Parallel(n_jobs=-1)]: Done 1387 tasks      | elapsed:  2.2min\n",
      "[Parallel(n_jobs=-1)]: Done 1837 tasks      | elapsed:  3.0min\n",
      "[Parallel(n_jobs=-1)]: Done 2387 tasks      | elapsed:  3.9min\n",
      "[Parallel(n_jobs=-1)]: Done 3037 tasks      | elapsed:  5.0min\n",
      "[Parallel(n_jobs=-1)]: Done 3787 tasks      | elapsed:  6.3min\n",
      "[Parallel(n_jobs=-1)]: Done 4637 tasks      | elapsed:  9.2min\n",
      "[Parallel(n_jobs=-1)]: Done 5587 tasks      | elapsed: 12.3min\n",
      "[Parallel(n_jobs=-1)]: Done 6637 tasks      | elapsed: 15.1min\n",
      "[Parallel(n_jobs=-1)]: Done 7787 tasks      | elapsed: 18.3min\n",
      "[Parallel(n_jobs=-1)]: Done 8064 out of 8064 | elapsed: 19.0min finished\n"
     ]
    },
    {
     "data": {
      "text/plain": [
       "GridSearchCV(cv=3, error_score='raise',\n",
       "       estimator=Pipeline(memory=None,\n",
       "     steps=[('vect', CountVectorizer(analyzer=u'word', binary=False, decode_error=u'strict',\n",
       "        dtype=<type 'numpy.int64'>, encoding=u'utf-8', input=u'content',\n",
       "        lowercase=True, max_df=1.0, max_features=None, min_df=1,\n",
       "        ngram_range=(1, 1), preprocessor=None, stop_words=None,\n",
       "        st...ty='l2', random_state=None, solver='liblinear', tol=0.0001,\n",
       "          verbose=0, warm_start=False))]),\n",
       "       fit_params=None, iid=True, n_jobs=-1,\n",
       "       param_grid={'vect__ngram_range': ((1, 1), (1, 2), (1, 3), (1, 4)), 'vect__max_df': (0.25, 0.5, 0.75, 1.0), 'clf__solver': ['liblinear'], 'clf__penalty': ['l1', 'l2'], 'clf__C': array([1.e-10, 1.e-09, 1.e-08, 1.e-07, 1.e-06, 1.e-05, 1.e-04, 1.e-03,\n",
       "       1.e-02, 1.e-01, 1.e+00, 1.e+01, 1.e+02, 1.e+03, 1.e+04, 1.e+05,\n",
       "       1.e+06, 1.e+07, 1.e+08, 1.e+09, 1.e+10]), 'vect__max_features': (None, 5000, 10000, 50000)},\n",
       "       pre_dispatch='2*n_jobs', refit=True, return_train_score=True,\n",
       "       scoring=None, verbose=1)"
      ]
     },
     "execution_count": 18,
     "metadata": {},
     "output_type": "execute_result"
    }
   ],
   "source": [
    "\n",
    "p_cvec_lr = Pipeline([\n",
    "    ('vect', CountVectorizer()),\n",
    "    ('clf', LogisticRegression())\n",
    "    ])\n",
    "\n",
    "param_cvec_lr = {'vect__max_df': (0.25, 0.5, 0.75, 1.0),\n",
    "          'vect__max_features': (None, 5000, 10000, 50000),\n",
    "          'vect__ngram_range': ((1, 1), (1, 2), (1,3), (1,4)), \n",
    "          'clf__penalty': ['l1','l2'],\n",
    "          'clf__solver':['liblinear'],\n",
    "          'clf__C': np.logspace(-10,10,21)\n",
    "         }\n",
    "\n",
    "grid_search = GridSearchCV(p_cvec_lr, param_cvec_lr, n_jobs=-1, verbose=1, cv=3)\n",
    "grid_search.fit(X_train, y_train)"
   ]
  },
  {
   "cell_type": "code",
   "execution_count": 34,
   "metadata": {},
   "outputs": [
    {
     "name": "stdout",
     "output_type": "stream",
     "text": [
      "Baseline: 0.3\n",
      "Best score: 0.916\n",
      "\n",
      "\tclf__C: 10.0\n",
      "\tclf__penalty: 'l2'\n",
      "\tclf__solver: 'liblinear'\n",
      "\tvect__max_df: 0.75\n",
      "\tvect__max_features: 5000\n",
      "\tvect__ngram_range: (1, 3)\n"
     ]
    }
   ],
   "source": [
    "print 'Baseline:', baseline\n",
    "print(\"Best score: %0.3f\" % grid_search.best_score_)\n",
    "print\n",
    "#### get the best parameters\n",
    "best_parameters = grid_search.best_estimator_.get_params()\n",
    "for param_name in sorted(param_cvec_lr.keys()):\n",
    "    print(\"\\t%s: %r\" % (param_name, best_parameters[param_name]))\n",
    " "
   ]
  },
  {
   "cell_type": "markdown",
   "metadata": {},
   "source": [
    "# GridSearch Function"
   ]
  },
  {
   "cell_type": "code",
   "execution_count": 24,
   "metadata": {},
   "outputs": [],
   "source": [
    "def grid_search(p_cvec_lr, param_cvec_lr, X_train, y_train):\n",
    "\n",
    "    grid_search = GridSearchCV(p_cvec_lr, param_cvec_lr, n_jobs=-1, verbose=1, cv=3)\n",
    "    grid_search.fit(X_train, y_train)\n",
    "\n",
    "    print 'Baseline:', baseline\n",
    "    print(\"Best score: %0.3f\" % grid_search.best_score_)\n",
    "    print\n",
    "    #### get the best parameters\n",
    "    best_parameters = grid_search.best_estimator_.get_params()\n",
    "    for param_name in sorted(param_cvec_lr.keys()):\n",
    "        print(\"\\t%s: %r\" % (param_name, best_parameters[param_name]))\n",
    " "
   ]
  },
  {
   "cell_type": "markdown",
   "metadata": {},
   "source": [
    "# Grid Search Class"
   ]
  },
  {
   "cell_type": "code",
   "execution_count": 49,
   "metadata": {},
   "outputs": [
    {
     "ename": "TypeError",
     "evalue": "__init__() should return None",
     "output_type": "error",
     "traceback": [
      "\u001b[0;31m---------------------------------------------------------------------------\u001b[0m",
      "\u001b[0;31mTypeError\u001b[0m                                 Traceback (most recent call last)",
      "\u001b[0;32m<ipython-input-49-b6d9c6197d46>\u001b[0m in \u001b[0;36m<module>\u001b[0;34m()\u001b[0m\n\u001b[1;32m     29\u001b[0m \u001b[0;31m#     for param_name in sorted(param_cvec_lr.keys()):\u001b[0m\u001b[0;34m\u001b[0m\u001b[0;34m\u001b[0m\u001b[0m\n\u001b[1;32m     30\u001b[0m \u001b[0;31m#         print(\"\\t%s: %r\" % (param_name, best_parameters[param_name]))\u001b[0m\u001b[0;34m\u001b[0m\u001b[0;34m\u001b[0m\u001b[0m\n\u001b[0;32m---> 31\u001b[0;31m \u001b[0mgrid_search\u001b[0m\u001b[0;34m(\u001b[0m\u001b[0mp_cvec_lr\u001b[0m\u001b[0;34m,\u001b[0m \u001b[0mparam_cvec_lr\u001b[0m\u001b[0;34m,\u001b[0m \u001b[0mX_train\u001b[0m\u001b[0;34m,\u001b[0m \u001b[0my_train\u001b[0m\u001b[0;34m)\u001b[0m\u001b[0;34m\u001b[0m\u001b[0m\n\u001b[0m",
      "\u001b[0;31mTypeError\u001b[0m: __init__() should return None"
     ]
    }
   ],
   "source": [
    "class grid_search:\n",
    "    def __init__(self, pipeline, parameters, X_train, y_train):\n",
    "        \n",
    "        self.pipeline = pipeline\n",
    "        self.parameters = parameters\n",
    "        self.X_train = X_train\n",
    "        self.y_train = y_train\n",
    "        \n",
    "        from sklearn.model_selection import GridSearchCV\n",
    "        \n",
    "        self.gs = GridSearchCV(pipeline, parameters, n_jobs=-1, verbose=1, cv=3)\n",
    "        return gs.fit(X_train, y_train)\n",
    "    \n",
    "#     def fit(self, X_train, y_train):\n",
    "        \n",
    "# #         self.best_score_ = \n",
    "#         return self.gs\n",
    "    \n",
    "#     def best_score_\n",
    "    \n",
    "    \n",
    "#     grid_search = GridSearchCV(p_cvec_lr, param_cvec_lr, n_jobs=-1, verbose=1, cv=3)\n",
    "#     grid_search.fit(X_train, y_train)\n",
    "\n",
    "#     print 'Baseline:', baseline\n",
    "#     print(\"Best score: %0.3f\" % grid_search.best_score_)\n",
    "#     print\n",
    "#     #### get the best parameters\n",
    "#     best_parameters = grid_search.best_estimator_.get_params()\n",
    "#     for param_name in sorted(param_cvec_lr.keys()):\n",
    "#         print(\"\\t%s: %r\" % (param_name, best_parameters[param_name]))\n",
    "grid_search(p_cvec_lr, param_cvec_lr, X_train, y_train)"
   ]
  },
  {
   "cell_type": "markdown",
   "metadata": {
    "collapsed": true
   },
   "source": [
    "# Pipeline Tune Hyperparameters\n",
    "- CountVectorizer \n",
    "- TfidfVectorizer\n",
    "- RandomForestClassifier\n",
    "- SGDClassifier"
   ]
  },
  {
   "cell_type": "code",
   "execution_count": null,
   "metadata": {},
   "outputs": [],
   "source": [
    "from sklearn.pipeline import Pipeline\n",
    "from pprint import pprint\n",
    "from time import time\n",
    "from sklearn.model_selection import GridSearchCV, cross_val_score, cross_val_predict\n",
    "from sklearn.metrics import accuracy_score\n"
   ]
  },
  {
   "cell_type": "markdown",
   "metadata": {},
   "source": [
    "### Random Forest \n",
    "- CountVectorizer \n",
    "- TfidfVectorizer"
   ]
  },
  {
   "cell_type": "code",
   "execution_count": 34,
   "metadata": {},
   "outputs": [],
   "source": [
    "#### Count Vec && Random Forest\n",
    "p_cvec_rf = Pipeline([\n",
    "    ('vect', CountVectorizer()),\n",
    "    ('clf', RandomForestClassifier())\n",
    "    ])\n",
    "\n",
    "param_cvec_rf = {'vect__max_df': (0.25, 0.5, 0.75, 1.0),\n",
    "                 'vect__max_features': (None, 5000, 10000, 50000),\n",
    "                 'vect__ngram_range': ((1, 1), (1, 2), (1,3), (1,4)),\n",
    "                 'clf__max_depth':[None,1,2,3,4,5,6],\n",
    "#                  'clf__max_features':[1,2,3,4], ???\n",
    "                 'clf__max_leaf_nodes':[5,6,7,8,9,10], \n",
    "                 'clf__min_samples_leaf':[1,2,3,4],\n",
    "#                  'clf__min_samples_split':[1,2,3,4]???\n",
    "                }\n",
    "\n",
    "\n",
    "\n",
    "#### Tfidf Vec && Random Forest\n",
    "p_tvec_rf = Pipeline([\n",
    "    ('vect', TfidfVectorizer()),\n",
    "    ('clf', RandomForestClassifier())\n",
    "    ])\n",
    "\n",
    "param_tvec_rf = {'vect__max_df': (0.25, 0.5, 0.75, 1.0),\n",
    "                 'vect__ngram_range': [(1, 1), (1, 2), (1, 3)],\n",
    "                 'clf__max_depth':[None,1,2,3,4,5,6],\n",
    "#                  'clf__max_features':[1,2,3,4], \n",
    "                 'clf__max_leaf_nodes':[5,6,7,8,9,10], \n",
    "                 'clf__min_samples_leaf':[1,2,3,4],\n",
    "#                  'clf__min_samples_split':[1,2,3,4]\n",
    "                }"
   ]
  },
  {
   "cell_type": "code",
   "execution_count": 28,
   "metadata": {},
   "outputs": [
    {
     "name": "stdout",
     "output_type": "stream",
     "text": [
      "Fitting 3 folds for each of 10752 candidates, totalling 32256 fits\n"
     ]
    },
    {
     "name": "stderr",
     "output_type": "stream",
     "text": [
      "[Parallel(n_jobs=-1)]: Done  42 tasks      | elapsed:    4.0s\n",
      "[Parallel(n_jobs=-1)]: Done 192 tasks      | elapsed:   19.4s\n",
      "[Parallel(n_jobs=-1)]: Done 442 tasks      | elapsed:   50.3s\n",
      "[Parallel(n_jobs=-1)]: Done 792 tasks      | elapsed:  1.6min\n",
      "[Parallel(n_jobs=-1)]: Done 1242 tasks      | elapsed:  2.3min\n",
      "[Parallel(n_jobs=-1)]: Done 1792 tasks      | elapsed:  3.1min\n",
      "[Parallel(n_jobs=-1)]: Done 2442 tasks      | elapsed:  4.0min\n",
      "[Parallel(n_jobs=-1)]: Done 3192 tasks      | elapsed:  5.2min\n",
      "[Parallel(n_jobs=-1)]: Done 4042 tasks      | elapsed:  6.4min\n",
      "[Parallel(n_jobs=-1)]: Done 4992 tasks      | elapsed:  7.8min\n",
      "[Parallel(n_jobs=-1)]: Done 6042 tasks      | elapsed:  9.4min\n",
      "[Parallel(n_jobs=-1)]: Done 7192 tasks      | elapsed: 11.0min\n",
      "[Parallel(n_jobs=-1)]: Done 8442 tasks      | elapsed: 12.9min\n",
      "[Parallel(n_jobs=-1)]: Done 9792 tasks      | elapsed: 14.9min\n",
      "[Parallel(n_jobs=-1)]: Done 11242 tasks      | elapsed: 17.0min\n",
      "[Parallel(n_jobs=-1)]: Done 12792 tasks      | elapsed: 19.5min\n",
      "[Parallel(n_jobs=-1)]: Done 14442 tasks      | elapsed: 22.1min\n",
      "[Parallel(n_jobs=-1)]: Done 16192 tasks      | elapsed: 24.8min\n",
      "[Parallel(n_jobs=-1)]: Done 18042 tasks      | elapsed: 27.6min\n",
      "[Parallel(n_jobs=-1)]: Done 19992 tasks      | elapsed: 30.5min\n",
      "[Parallel(n_jobs=-1)]: Done 22042 tasks      | elapsed: 33.7min\n",
      "[Parallel(n_jobs=-1)]: Done 24192 tasks      | elapsed: 37.0min\n",
      "[Parallel(n_jobs=-1)]: Done 26442 tasks      | elapsed: 40.4min\n",
      "[Parallel(n_jobs=-1)]: Done 28792 tasks      | elapsed: 43.9min\n",
      "[Parallel(n_jobs=-1)]: Done 31242 tasks      | elapsed: 47.9min\n",
      "[Parallel(n_jobs=-1)]: Done 32256 out of 32256 | elapsed: 49.8min finished\n"
     ]
    },
    {
     "name": "stdout",
     "output_type": "stream",
     "text": [
      "Baseline: 0.3\n",
      "Best score: 0.570\n",
      "\n",
      "\tclf__max_depth: None\n",
      "\tclf__max_leaf_nodes: 10\n",
      "\tclf__min_samples_leaf: 2\n",
      "\tvect__max_df: 1.0\n",
      "\tvect__max_features: 50000\n",
      "\tvect__ngram_range: (1, 1)\n",
      "None\n"
     ]
    }
   ],
   "source": [
    "print grid_search(p_cvec_rf, param_cvec_rf, X_train, y_train)"
   ]
  },
  {
   "cell_type": "code",
   "execution_count": 35,
   "metadata": {},
   "outputs": [
    {
     "name": "stdout",
     "output_type": "stream",
     "text": [
      "Fitting 3 folds for each of 2016 candidates, totalling 6048 fits\n"
     ]
    },
    {
     "name": "stderr",
     "output_type": "stream",
     "text": [
      "[Parallel(n_jobs=-1)]: Done  42 tasks      | elapsed:    3.9s\n",
      "[Parallel(n_jobs=-1)]: Done 192 tasks      | elapsed:   17.3s\n",
      "[Parallel(n_jobs=-1)]: Done 442 tasks      | elapsed:   39.2s\n",
      "[Parallel(n_jobs=-1)]: Done 792 tasks      | elapsed:  1.2min\n",
      "[Parallel(n_jobs=-1)]: Done 1242 tasks      | elapsed:  1.8min\n",
      "[Parallel(n_jobs=-1)]: Done 1792 tasks      | elapsed:  2.7min\n",
      "[Parallel(n_jobs=-1)]: Done 2442 tasks      | elapsed:  3.6min\n",
      "[Parallel(n_jobs=-1)]: Done 3192 tasks      | elapsed:  4.7min\n",
      "[Parallel(n_jobs=-1)]: Done 4042 tasks      | elapsed:  6.0min\n",
      "[Parallel(n_jobs=-1)]: Done 4992 tasks      | elapsed:  7.5min\n",
      "[Parallel(n_jobs=-1)]: Done 6048 out of 6048 | elapsed:  9.0min finished\n"
     ]
    },
    {
     "name": "stdout",
     "output_type": "stream",
     "text": [
      "Baseline: 0.3\n",
      "Best score: 0.578\n",
      "\n",
      "\tclf__max_depth: None\n",
      "\tclf__max_leaf_nodes: 10\n",
      "\tclf__min_samples_leaf: 4\n",
      "\tvect__max_df: 0.75\n",
      "\tvect__ngram_range: (1, 2)\n",
      "None\n"
     ]
    }
   ],
   "source": [
    "print grid_search(p_tvec_rf, param_tvec_rf, X_train, y_train)"
   ]
  },
  {
   "cell_type": "code",
   "execution_count": null,
   "metadata": {
    "collapsed": true
   },
   "outputs": [],
   "source": []
  },
  {
   "cell_type": "markdown",
   "metadata": {},
   "source": [
    "### SGDC \n",
    "- CountVectorizer\n",
    "- TfidfVectorizer"
   ]
  },
  {
   "cell_type": "code",
   "execution_count": null,
   "metadata": {
    "collapsed": true
   },
   "outputs": [],
   "source": [
    "#### Count Vec && SGDC\n",
    "p_cvec_sg = Pipeline([\n",
    "    ('vect', CountVectorizer()),\n",
    "    ('clf', SGDClassifier())\n",
    "    ])\n",
    "\n",
    "param_cvec_sg = {'vect__max_df': (0.25, 0.5, 0.75, 1.0),\n",
    "                 'vect__max_features': (None, 5000, 10000, 50000),\n",
    "                 'vect__ngram_range': ((1, 1), (1, 2), (1,3), (1,4)),\n",
    "                 'clf__loss': ['log'],\n",
    "                 'clf__penalty': ['l1','l2'],\n",
    "                 'clf__alpha': np.logspace(-5,1,15)\n",
    "                }\n",
    "\n",
    "                    \n",
    "#### Tfidf Vec && SGDC\n",
    "p_tvec_sg = Pipeline([\n",
    "    ('vect', TfidfVectorizer()),\n",
    "    ('clf', SGDClassifier())\n",
    "    ])\n",
    "\n",
    "\n",
    "param_tvec_sg = {'vect__max_df': (0.25, 0.5, 0.75, 1.0),\n",
    "                 'vect__ngram_range': [(1, 1), (1, 2), (1, 3)],\n",
    "                 'clf__loss': ['log'],\n",
    "                 'clf__penalty': ['l1','l2'],\n",
    "                 'clf__alpha': np.logspace(-5,1,15)\n",
    "                }"
   ]
  },
  {
   "cell_type": "code",
   "execution_count": 36,
   "metadata": {},
   "outputs": [
    {
     "name": "stdout",
     "output_type": "stream",
     "text": [
      "Performing grid search...\n",
      "('pipeline:', ['vect', 'clf'])\n",
      "Fitting 3 folds for each of 1920 candidates, totalling 5760 fits\n"
     ]
    },
    {
     "name": "stderr",
     "output_type": "stream",
     "text": [
      "[Parallel(n_jobs=-1)]: Done  42 tasks      | elapsed:    3.9s\n",
      "[Parallel(n_jobs=-1)]: Done 192 tasks      | elapsed:   21.8s\n",
      "[Parallel(n_jobs=-1)]: Done 442 tasks      | elapsed:   49.9s\n",
      "[Parallel(n_jobs=-1)]: Done 792 tasks      | elapsed:  1.3min\n",
      "[Parallel(n_jobs=-1)]: Done 1242 tasks      | elapsed:  1.9min\n",
      "[Parallel(n_jobs=-1)]: Done 1792 tasks      | elapsed:  2.6min\n",
      "[Parallel(n_jobs=-1)]: Done 2442 tasks      | elapsed:  3.5min\n",
      "[Parallel(n_jobs=-1)]: Done 3192 tasks      | elapsed:  4.4min\n",
      "[Parallel(n_jobs=-1)]: Done 4042 tasks      | elapsed:  5.6min\n",
      "[Parallel(n_jobs=-1)]: Done 4992 tasks      | elapsed:  6.8min\n",
      "[Parallel(n_jobs=-1)]: Done 5760 out of 5760 | elapsed:  7.9min finished\n"
     ]
    },
    {
     "name": "stdout",
     "output_type": "stream",
     "text": [
      "done in 476.514s\n",
      "\n",
      "Baseline: 0.3\n",
      "Best score: 0.918\n",
      "\n"
     ]
    },
    {
     "ename": "KeyError",
     "evalue": "'clf__C'",
     "output_type": "error",
     "traceback": [
      "\u001b[0;31m---------------------------------------------------------------------------\u001b[0m",
      "\u001b[0;31mKeyError\u001b[0m                                  Traceback (most recent call last)",
      "\u001b[0;32m<ipython-input-36-ff66d54cdf2e>\u001b[0m in \u001b[0;36m<module>\u001b[0;34m()\u001b[0m\n\u001b[0;32m----> 1\u001b[0;31m \u001b[0;32mprint\u001b[0m \u001b[0mgridsearch_def\u001b[0m\u001b[0;34m(\u001b[0m\u001b[0mp_cvec_sg\u001b[0m\u001b[0;34m,\u001b[0m \u001b[0mparam_cvec_sg\u001b[0m\u001b[0;34m,\u001b[0m \u001b[0mX_train\u001b[0m\u001b[0;34m,\u001b[0m \u001b[0my_train\u001b[0m\u001b[0;34m)\u001b[0m\u001b[0;34m\u001b[0m\u001b[0m\n\u001b[0m",
      "\u001b[0;32m<ipython-input-13-6f7b4f8b9245>\u001b[0m in \u001b[0;36mgridsearch_def\u001b[0;34m(pipeline, parameters, X_train, y_train)\u001b[0m\n\u001b[1;32m     21\u001b[0m     \u001b[0mbest_parameters\u001b[0m \u001b[0;34m=\u001b[0m \u001b[0mgrid_search\u001b[0m\u001b[0;34m.\u001b[0m\u001b[0mbest_estimator_\u001b[0m\u001b[0;34m.\u001b[0m\u001b[0mget_params\u001b[0m\u001b[0;34m(\u001b[0m\u001b[0;34m)\u001b[0m\u001b[0;34m\u001b[0m\u001b[0m\n\u001b[1;32m     22\u001b[0m     \u001b[0;32mfor\u001b[0m \u001b[0mparam_name\u001b[0m \u001b[0;32min\u001b[0m \u001b[0msorted\u001b[0m\u001b[0;34m(\u001b[0m\u001b[0mparam_cvec_lr\u001b[0m\u001b[0;34m.\u001b[0m\u001b[0mkeys\u001b[0m\u001b[0;34m(\u001b[0m\u001b[0;34m)\u001b[0m\u001b[0;34m)\u001b[0m\u001b[0;34m:\u001b[0m\u001b[0;34m\u001b[0m\u001b[0m\n\u001b[0;32m---> 23\u001b[0;31m         \u001b[0;32mprint\u001b[0m\u001b[0;34m(\u001b[0m\u001b[0;34m\"\\t%s: %r\"\u001b[0m \u001b[0;34m%\u001b[0m \u001b[0;34m(\u001b[0m\u001b[0mparam_name\u001b[0m\u001b[0;34m,\u001b[0m \u001b[0mbest_parameters\u001b[0m\u001b[0;34m[\u001b[0m\u001b[0mparam_name\u001b[0m\u001b[0;34m]\u001b[0m\u001b[0;34m)\u001b[0m\u001b[0;34m)\u001b[0m\u001b[0;34m\u001b[0m\u001b[0m\n\u001b[0m\u001b[1;32m     24\u001b[0m \u001b[0;34m\u001b[0m\u001b[0m\n\u001b[1;32m     25\u001b[0m     \u001b[0;32mprint\u001b[0m \u001b[0;34m'_'\u001b[0m\u001b[0;34m*\u001b[0m\u001b[0;36m70\u001b[0m\u001b[0;34m\u001b[0m\u001b[0m\n",
      "\u001b[0;31mKeyError\u001b[0m: 'clf__C'"
     ]
    }
   ],
   "source": [
    "print grid_search(p_cvec_sg, param_cvec_sg, X_train, y_train)"
   ]
  },
  {
   "cell_type": "code",
   "execution_count": 32,
   "metadata": {},
   "outputs": [
    {
     "name": "stdout",
     "output_type": "stream",
     "text": [
      "Fitting 3 folds for each of 360 candidates, totalling 1080 fits\n"
     ]
    },
    {
     "name": "stderr",
     "output_type": "stream",
     "text": [
      "[Parallel(n_jobs=-1)]: Done  42 tasks      | elapsed:    3.4s\n",
      "[Parallel(n_jobs=-1)]: Done 192 tasks      | elapsed:   14.2s\n",
      "[Parallel(n_jobs=-1)]: Done 442 tasks      | elapsed:   31.8s\n",
      "[Parallel(n_jobs=-1)]: Done 792 tasks      | elapsed:   55.4s\n",
      "[Parallel(n_jobs=-1)]: Done 1080 out of 1080 | elapsed:  1.2min finished\n"
     ]
    },
    {
     "name": "stdout",
     "output_type": "stream",
     "text": [
      "Baseline: 0.3\n",
      "Best score: 0.920\n",
      "\n",
      "\tclf__alpha: 1e-05\n",
      "\tclf__loss: 'log'\n",
      "\tclf__penalty: 'l1'\n",
      "\tvect__max_df: 1.0\n",
      "\tvect__ngram_range: (1, 3)\n",
      "None\n"
     ]
    }
   ],
   "source": [
    "print grid_search(p_tvec_sg, param_tvec_sg, X_train, y_train)"
   ]
  },
  {
   "cell_type": "markdown",
   "metadata": {
    "collapsed": true
   },
   "source": [
    "With limited time I have chosen a localised method to choose my classifier"
   ]
  },
  {
   "cell_type": "markdown",
   "metadata": {
    "collapsed": true
   },
   "source": [
    "### Notes for model! \n",
    "An example of a model statement might look like this:\n",
    "\"Completed a logistic regression using Statsmodels. Calculated the probability of a customer placing another order with the company.\"\n",
    "Here, we are using a logistic model because we are trying to determine the probability that a customer might place a return order, which is - at its heart - a classification problem.\n",
    "\n",
    "Share your technical findings with your fellow data scientists. Explain your goals, describe modeling choices, evaluate model performance, and discuss results. Data science reporting is technical, but don’t forget that you should tell a compelling story about your data.\n",
    "\n",
    "- **Requirements**: Summarize your goals and metrics for success, variables of interest, and removal of any outliers or data imputation. Your process description should be concise and relevant to your goals. Summarize statistical analysis, including model selection,  implementation, evaluation, and inference. Be convincing – justify all important decisions! Clearly label plots and visualizations. Include an Executive Summary.\n",
    "\n"
   ]
  },
  {
   "cell_type": "markdown",
   "metadata": {
    "collapsed": true
   },
   "source": [
    "#  null values \n",
    "I checked for null values when loading the cleaned training data and found 1 row. It was identified that the text of the review was one numeric value before the cleaning process. This must have been an empty value which was then saved into the csv "
   ]
  },
  {
   "cell_type": "markdown",
   "metadata": {
    "collapsed": true
   },
   "source": [
    "# Decision Trees \n",
    "max_depth\tHow many nodes deep can the decision tree go?\n",
    "max_features\tIs there a cut off to the number of features to use?\n",
    "max_leaf_nodes\tHow many leaves can be generated per node?\n",
    "min_samples_leaf\tHow many samples need to be included at a leaf, at a minimum?\n",
    "min_samples_split\tHow many samples need to be included at a node, at a minimum?\n",
    "\n",
    "\n"
   ]
  }
 ],
 "metadata": {
  "kernelspec": {
   "display_name": "Python 2",
   "language": "python",
   "name": "python2"
  },
  "language_info": {
   "codemirror_mode": {
    "name": "ipython",
    "version": 2
   },
   "file_extension": ".py",
   "mimetype": "text/x-python",
   "name": "python",
   "nbconvert_exporter": "python",
   "pygments_lexer": "ipython2",
   "version": "2.7.13"
  }
 },
 "nbformat": 4,
 "nbformat_minor": 2
}
